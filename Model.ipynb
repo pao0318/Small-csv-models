{
 "cells": [
  {
   "cell_type": "code",
   "execution_count": 115,
   "metadata": {},
   "outputs": [],
   "source": [
    "import numpy as np\n",
    "import pandas as pd\n",
    "import matplotlib.pyplot as plt\n",
    "import seaborn as sns\n",
    "%matplotlib inline"
   ]
  },
  {
   "cell_type": "code",
   "execution_count": 116,
   "metadata": {},
   "outputs": [],
   "source": [
    "df = pd.read_csv('train.csv',index_col=0)\n",
    "\n",
    "test_df = pd.read_csv('test.csv', index_col=0)"
   ]
  },
  {
   "cell_type": "code",
   "execution_count": 117,
   "metadata": {},
   "outputs": [
    {
     "data": {
      "text/html": [
       "<div>\n",
       "<style scoped>\n",
       "    .dataframe tbody tr th:only-of-type {\n",
       "        vertical-align: middle;\n",
       "    }\n",
       "\n",
       "    .dataframe tbody tr th {\n",
       "        vertical-align: top;\n",
       "    }\n",
       "\n",
       "    .dataframe thead th {\n",
       "        text-align: right;\n",
       "    }\n",
       "</style>\n",
       "<table border=\"1\" class=\"dataframe\">\n",
       "  <thead>\n",
       "    <tr style=\"text-align: right;\">\n",
       "      <th></th>\n",
       "      <th>Survived</th>\n",
       "      <th>Pclass</th>\n",
       "      <th>Name</th>\n",
       "      <th>Sex</th>\n",
       "      <th>Age</th>\n",
       "      <th>SibSp</th>\n",
       "      <th>Parch</th>\n",
       "      <th>Ticket</th>\n",
       "      <th>Fare</th>\n",
       "      <th>Cabin</th>\n",
       "      <th>Embarked</th>\n",
       "    </tr>\n",
       "    <tr>\n",
       "      <th>PassengerId</th>\n",
       "      <th></th>\n",
       "      <th></th>\n",
       "      <th></th>\n",
       "      <th></th>\n",
       "      <th></th>\n",
       "      <th></th>\n",
       "      <th></th>\n",
       "      <th></th>\n",
       "      <th></th>\n",
       "      <th></th>\n",
       "      <th></th>\n",
       "    </tr>\n",
       "  </thead>\n",
       "  <tbody>\n",
       "    <tr>\n",
       "      <th>1</th>\n",
       "      <td>0</td>\n",
       "      <td>3</td>\n",
       "      <td>Braund, Mr. Owen Harris</td>\n",
       "      <td>male</td>\n",
       "      <td>22.0</td>\n",
       "      <td>1</td>\n",
       "      <td>0</td>\n",
       "      <td>A/5 21171</td>\n",
       "      <td>7.2500</td>\n",
       "      <td>NaN</td>\n",
       "      <td>S</td>\n",
       "    </tr>\n",
       "    <tr>\n",
       "      <th>2</th>\n",
       "      <td>1</td>\n",
       "      <td>1</td>\n",
       "      <td>Cumings, Mrs. John Bradley (Florence Briggs Th...</td>\n",
       "      <td>female</td>\n",
       "      <td>38.0</td>\n",
       "      <td>1</td>\n",
       "      <td>0</td>\n",
       "      <td>PC 17599</td>\n",
       "      <td>71.2833</td>\n",
       "      <td>C85</td>\n",
       "      <td>C</td>\n",
       "    </tr>\n",
       "    <tr>\n",
       "      <th>3</th>\n",
       "      <td>1</td>\n",
       "      <td>3</td>\n",
       "      <td>Heikkinen, Miss. Laina</td>\n",
       "      <td>female</td>\n",
       "      <td>26.0</td>\n",
       "      <td>0</td>\n",
       "      <td>0</td>\n",
       "      <td>STON/O2. 3101282</td>\n",
       "      <td>7.9250</td>\n",
       "      <td>NaN</td>\n",
       "      <td>S</td>\n",
       "    </tr>\n",
       "    <tr>\n",
       "      <th>4</th>\n",
       "      <td>1</td>\n",
       "      <td>1</td>\n",
       "      <td>Futrelle, Mrs. Jacques Heath (Lily May Peel)</td>\n",
       "      <td>female</td>\n",
       "      <td>35.0</td>\n",
       "      <td>1</td>\n",
       "      <td>0</td>\n",
       "      <td>113803</td>\n",
       "      <td>53.1000</td>\n",
       "      <td>C123</td>\n",
       "      <td>S</td>\n",
       "    </tr>\n",
       "    <tr>\n",
       "      <th>5</th>\n",
       "      <td>0</td>\n",
       "      <td>3</td>\n",
       "      <td>Allen, Mr. William Henry</td>\n",
       "      <td>male</td>\n",
       "      <td>35.0</td>\n",
       "      <td>0</td>\n",
       "      <td>0</td>\n",
       "      <td>373450</td>\n",
       "      <td>8.0500</td>\n",
       "      <td>NaN</td>\n",
       "      <td>S</td>\n",
       "    </tr>\n",
       "  </tbody>\n",
       "</table>\n",
       "</div>"
      ],
      "text/plain": [
       "             Survived  Pclass  \\\n",
       "PassengerId                     \n",
       "1                   0       3   \n",
       "2                   1       1   \n",
       "3                   1       3   \n",
       "4                   1       1   \n",
       "5                   0       3   \n",
       "\n",
       "                                                          Name     Sex   Age  \\\n",
       "PassengerId                                                                    \n",
       "1                                      Braund, Mr. Owen Harris    male  22.0   \n",
       "2            Cumings, Mrs. John Bradley (Florence Briggs Th...  female  38.0   \n",
       "3                                       Heikkinen, Miss. Laina  female  26.0   \n",
       "4                 Futrelle, Mrs. Jacques Heath (Lily May Peel)  female  35.0   \n",
       "5                                     Allen, Mr. William Henry    male  35.0   \n",
       "\n",
       "             SibSp  Parch            Ticket     Fare Cabin Embarked  \n",
       "PassengerId                                                          \n",
       "1                1      0         A/5 21171   7.2500   NaN        S  \n",
       "2                1      0          PC 17599  71.2833   C85        C  \n",
       "3                0      0  STON/O2. 3101282   7.9250   NaN        S  \n",
       "4                1      0            113803  53.1000  C123        S  \n",
       "5                0      0            373450   8.0500   NaN        S  "
      ]
     },
     "execution_count": 117,
     "metadata": {},
     "output_type": "execute_result"
    }
   ],
   "source": [
    "df.head()"
   ]
  },
  {
   "cell_type": "code",
   "execution_count": 118,
   "metadata": {},
   "outputs": [
    {
     "name": "stdout",
     "output_type": "stream",
     "text": [
      "<class 'pandas.core.frame.DataFrame'>\n",
      "Int64Index: 891 entries, 1 to 891\n",
      "Data columns (total 11 columns):\n",
      " #   Column    Non-Null Count  Dtype  \n",
      "---  ------    --------------  -----  \n",
      " 0   Survived  891 non-null    int64  \n",
      " 1   Pclass    891 non-null    int64  \n",
      " 2   Name      891 non-null    object \n",
      " 3   Sex       891 non-null    object \n",
      " 4   Age       714 non-null    float64\n",
      " 5   SibSp     891 non-null    int64  \n",
      " 6   Parch     891 non-null    int64  \n",
      " 7   Ticket    891 non-null    object \n",
      " 8   Fare      891 non-null    float64\n",
      " 9   Cabin     204 non-null    object \n",
      " 10  Embarked  889 non-null    object \n",
      "dtypes: float64(2), int64(4), object(5)\n",
      "memory usage: 83.5+ KB\n"
     ]
    }
   ],
   "source": [
    "df.info()"
   ]
  },
  {
   "cell_type": "code",
   "execution_count": 119,
   "metadata": {},
   "outputs": [
    {
     "data": {
      "text/plain": [
       "Survived      0\n",
       "Pclass        0\n",
       "Name          0\n",
       "Sex           0\n",
       "Age         177\n",
       "SibSp         0\n",
       "Parch         0\n",
       "Ticket        0\n",
       "Fare          0\n",
       "Cabin       687\n",
       "Embarked      2\n",
       "dtype: int64"
      ]
     },
     "execution_count": 119,
     "metadata": {},
     "output_type": "execute_result"
    }
   ],
   "source": [
    "df.isnull().sum()"
   ]
  },
  {
   "cell_type": "code",
   "execution_count": 120,
   "metadata": {},
   "outputs": [],
   "source": [
    "# we are missing cabin info so lets drop\n",
    "\n",
    "\n",
    "\n"
   ]
  },
  {
   "cell_type": "code",
   "execution_count": 121,
   "metadata": {},
   "outputs": [],
   "source": [
    "df = df.drop('Cabin', axis=1)"
   ]
  },
  {
   "cell_type": "code",
   "execution_count": 122,
   "metadata": {},
   "outputs": [
    {
     "data": {
      "text/html": [
       "<div>\n",
       "<style scoped>\n",
       "    .dataframe tbody tr th:only-of-type {\n",
       "        vertical-align: middle;\n",
       "    }\n",
       "\n",
       "    .dataframe tbody tr th {\n",
       "        vertical-align: top;\n",
       "    }\n",
       "\n",
       "    .dataframe thead th {\n",
       "        text-align: right;\n",
       "    }\n",
       "</style>\n",
       "<table border=\"1\" class=\"dataframe\">\n",
       "  <thead>\n",
       "    <tr style=\"text-align: right;\">\n",
       "      <th></th>\n",
       "      <th>Survived</th>\n",
       "      <th>Pclass</th>\n",
       "      <th>Name</th>\n",
       "      <th>Sex</th>\n",
       "      <th>Age</th>\n",
       "      <th>SibSp</th>\n",
       "      <th>Parch</th>\n",
       "      <th>Ticket</th>\n",
       "      <th>Fare</th>\n",
       "      <th>Embarked</th>\n",
       "    </tr>\n",
       "    <tr>\n",
       "      <th>PassengerId</th>\n",
       "      <th></th>\n",
       "      <th></th>\n",
       "      <th></th>\n",
       "      <th></th>\n",
       "      <th></th>\n",
       "      <th></th>\n",
       "      <th></th>\n",
       "      <th></th>\n",
       "      <th></th>\n",
       "      <th></th>\n",
       "    </tr>\n",
       "  </thead>\n",
       "  <tbody>\n",
       "    <tr>\n",
       "      <th>1</th>\n",
       "      <td>0</td>\n",
       "      <td>3</td>\n",
       "      <td>Braund, Mr. Owen Harris</td>\n",
       "      <td>male</td>\n",
       "      <td>22.0</td>\n",
       "      <td>1</td>\n",
       "      <td>0</td>\n",
       "      <td>A/5 21171</td>\n",
       "      <td>7.2500</td>\n",
       "      <td>S</td>\n",
       "    </tr>\n",
       "    <tr>\n",
       "      <th>2</th>\n",
       "      <td>1</td>\n",
       "      <td>1</td>\n",
       "      <td>Cumings, Mrs. John Bradley (Florence Briggs Th...</td>\n",
       "      <td>female</td>\n",
       "      <td>38.0</td>\n",
       "      <td>1</td>\n",
       "      <td>0</td>\n",
       "      <td>PC 17599</td>\n",
       "      <td>71.2833</td>\n",
       "      <td>C</td>\n",
       "    </tr>\n",
       "    <tr>\n",
       "      <th>3</th>\n",
       "      <td>1</td>\n",
       "      <td>3</td>\n",
       "      <td>Heikkinen, Miss. Laina</td>\n",
       "      <td>female</td>\n",
       "      <td>26.0</td>\n",
       "      <td>0</td>\n",
       "      <td>0</td>\n",
       "      <td>STON/O2. 3101282</td>\n",
       "      <td>7.9250</td>\n",
       "      <td>S</td>\n",
       "    </tr>\n",
       "    <tr>\n",
       "      <th>4</th>\n",
       "      <td>1</td>\n",
       "      <td>1</td>\n",
       "      <td>Futrelle, Mrs. Jacques Heath (Lily May Peel)</td>\n",
       "      <td>female</td>\n",
       "      <td>35.0</td>\n",
       "      <td>1</td>\n",
       "      <td>0</td>\n",
       "      <td>113803</td>\n",
       "      <td>53.1000</td>\n",
       "      <td>S</td>\n",
       "    </tr>\n",
       "    <tr>\n",
       "      <th>5</th>\n",
       "      <td>0</td>\n",
       "      <td>3</td>\n",
       "      <td>Allen, Mr. William Henry</td>\n",
       "      <td>male</td>\n",
       "      <td>35.0</td>\n",
       "      <td>0</td>\n",
       "      <td>0</td>\n",
       "      <td>373450</td>\n",
       "      <td>8.0500</td>\n",
       "      <td>S</td>\n",
       "    </tr>\n",
       "  </tbody>\n",
       "</table>\n",
       "</div>"
      ],
      "text/plain": [
       "             Survived  Pclass  \\\n",
       "PassengerId                     \n",
       "1                   0       3   \n",
       "2                   1       1   \n",
       "3                   1       3   \n",
       "4                   1       1   \n",
       "5                   0       3   \n",
       "\n",
       "                                                          Name     Sex   Age  \\\n",
       "PassengerId                                                                    \n",
       "1                                      Braund, Mr. Owen Harris    male  22.0   \n",
       "2            Cumings, Mrs. John Bradley (Florence Briggs Th...  female  38.0   \n",
       "3                                       Heikkinen, Miss. Laina  female  26.0   \n",
       "4                 Futrelle, Mrs. Jacques Heath (Lily May Peel)  female  35.0   \n",
       "5                                     Allen, Mr. William Henry    male  35.0   \n",
       "\n",
       "             SibSp  Parch            Ticket     Fare Embarked  \n",
       "PassengerId                                                    \n",
       "1                1      0         A/5 21171   7.2500        S  \n",
       "2                1      0          PC 17599  71.2833        C  \n",
       "3                0      0  STON/O2. 3101282   7.9250        S  \n",
       "4                1      0            113803  53.1000        S  \n",
       "5                0      0            373450   8.0500        S  "
      ]
     },
     "execution_count": 122,
     "metadata": {},
     "output_type": "execute_result"
    }
   ],
   "source": [
    "df.head()"
   ]
  },
  {
   "cell_type": "code",
   "execution_count": 123,
   "metadata": {},
   "outputs": [
    {
     "data": {
      "text/html": [
       "<div>\n",
       "<style scoped>\n",
       "    .dataframe tbody tr th:only-of-type {\n",
       "        vertical-align: middle;\n",
       "    }\n",
       "\n",
       "    .dataframe tbody tr th {\n",
       "        vertical-align: top;\n",
       "    }\n",
       "\n",
       "    .dataframe thead th {\n",
       "        text-align: right;\n",
       "    }\n",
       "</style>\n",
       "<table border=\"1\" class=\"dataframe\">\n",
       "  <thead>\n",
       "    <tr style=\"text-align: right;\">\n",
       "      <th></th>\n",
       "      <th>Survived</th>\n",
       "      <th>Pclass</th>\n",
       "      <th>Age</th>\n",
       "      <th>SibSp</th>\n",
       "      <th>Parch</th>\n",
       "      <th>Fare</th>\n",
       "    </tr>\n",
       "  </thead>\n",
       "  <tbody>\n",
       "    <tr>\n",
       "      <th>Survived</th>\n",
       "      <td>1.000000</td>\n",
       "      <td>-0.338481</td>\n",
       "      <td>-0.077221</td>\n",
       "      <td>-0.035322</td>\n",
       "      <td>0.081629</td>\n",
       "      <td>0.257307</td>\n",
       "    </tr>\n",
       "    <tr>\n",
       "      <th>Pclass</th>\n",
       "      <td>-0.338481</td>\n",
       "      <td>1.000000</td>\n",
       "      <td>-0.369226</td>\n",
       "      <td>0.083081</td>\n",
       "      <td>0.018443</td>\n",
       "      <td>-0.549500</td>\n",
       "    </tr>\n",
       "    <tr>\n",
       "      <th>Age</th>\n",
       "      <td>-0.077221</td>\n",
       "      <td>-0.369226</td>\n",
       "      <td>1.000000</td>\n",
       "      <td>-0.308247</td>\n",
       "      <td>-0.189119</td>\n",
       "      <td>0.096067</td>\n",
       "    </tr>\n",
       "    <tr>\n",
       "      <th>SibSp</th>\n",
       "      <td>-0.035322</td>\n",
       "      <td>0.083081</td>\n",
       "      <td>-0.308247</td>\n",
       "      <td>1.000000</td>\n",
       "      <td>0.414838</td>\n",
       "      <td>0.159651</td>\n",
       "    </tr>\n",
       "    <tr>\n",
       "      <th>Parch</th>\n",
       "      <td>0.081629</td>\n",
       "      <td>0.018443</td>\n",
       "      <td>-0.189119</td>\n",
       "      <td>0.414838</td>\n",
       "      <td>1.000000</td>\n",
       "      <td>0.216225</td>\n",
       "    </tr>\n",
       "    <tr>\n",
       "      <th>Fare</th>\n",
       "      <td>0.257307</td>\n",
       "      <td>-0.549500</td>\n",
       "      <td>0.096067</td>\n",
       "      <td>0.159651</td>\n",
       "      <td>0.216225</td>\n",
       "      <td>1.000000</td>\n",
       "    </tr>\n",
       "  </tbody>\n",
       "</table>\n",
       "</div>"
      ],
      "text/plain": [
       "          Survived    Pclass       Age     SibSp     Parch      Fare\n",
       "Survived  1.000000 -0.338481 -0.077221 -0.035322  0.081629  0.257307\n",
       "Pclass   -0.338481  1.000000 -0.369226  0.083081  0.018443 -0.549500\n",
       "Age      -0.077221 -0.369226  1.000000 -0.308247 -0.189119  0.096067\n",
       "SibSp    -0.035322  0.083081 -0.308247  1.000000  0.414838  0.159651\n",
       "Parch     0.081629  0.018443 -0.189119  0.414838  1.000000  0.216225\n",
       "Fare      0.257307 -0.549500  0.096067  0.159651  0.216225  1.000000"
      ]
     },
     "execution_count": 123,
     "metadata": {},
     "output_type": "execute_result"
    }
   ],
   "source": [
    "df.corr()"
   ]
  },
  {
   "cell_type": "code",
   "execution_count": 124,
   "metadata": {},
   "outputs": [
    {
     "data": {
      "text/plain": [
       "Pclass     -0.338481\n",
       "Age        -0.077221\n",
       "SibSp      -0.035322\n",
       "Parch       0.081629\n",
       "Fare        0.257307\n",
       "Survived    1.000000\n",
       "Name: Survived, dtype: float64"
      ]
     },
     "execution_count": 124,
     "metadata": {},
     "output_type": "execute_result"
    }
   ],
   "source": [
    "df.corr()['Survived'].sort_values()"
   ]
  },
  {
   "cell_type": "code",
   "execution_count": 125,
   "metadata": {},
   "outputs": [
    {
     "data": {
      "text/plain": [
       "0    678\n",
       "1    118\n",
       "2     80\n",
       "5      5\n",
       "3      5\n",
       "4      4\n",
       "6      1\n",
       "Name: Parch, dtype: int64"
      ]
     },
     "execution_count": 125,
     "metadata": {},
     "output_type": "execute_result"
    }
   ],
   "source": [
    "df['Parch'].value_counts()"
   ]
  },
  {
   "cell_type": "code",
   "execution_count": 126,
   "metadata": {},
   "outputs": [
    {
     "data": {
      "text/plain": [
       "<matplotlib.axes._subplots.AxesSubplot at 0x16e17ba0348>"
      ]
     },
     "execution_count": 126,
     "metadata": {},
     "output_type": "execute_result"
    },
    {
     "data": {
      "image/png": "[encoded data removed]",
      "text/plain": [
       "<Figure size 432x288 with 1 Axes>"
      ]
     },
     "metadata": {
      "needs_background": "light"
     },
     "output_type": "display_data"
    }
   ],
   "source": [
    "# now we can combine 2,3,4,5,6 into 2\n",
    "\n",
    "sns.countplot(x='Survived', data=df, hue='Parch')"
   ]
  },
  {
   "cell_type": "code",
   "execution_count": 127,
   "metadata": {},
   "outputs": [],
   "source": [
    "def func(x):\n",
    "    if x>2:\n",
    "        return 2\n",
    "    else :\n",
    "        return x"
   ]
  },
  {
   "cell_type": "code",
   "execution_count": 128,
   "metadata": {},
   "outputs": [],
   "source": [
    "df['Parch'] = df['Parch'].apply(lambda x: func(x))"
   ]
  },
  {
   "cell_type": "code",
   "execution_count": 129,
   "metadata": {},
   "outputs": [
    {
     "data": {
      "text/plain": [
       "0    678\n",
       "1    118\n",
       "2     95\n",
       "Name: Parch, dtype: int64"
      ]
     },
     "execution_count": 129,
     "metadata": {},
     "output_type": "execute_result"
    }
   ],
   "source": [
    "df['Parch'].value_counts()"
   ]
  },
  {
   "cell_type": "code",
   "execution_count": 130,
   "metadata": {},
   "outputs": [
    {
     "data": {
      "text/plain": [
       "0    608\n",
       "1    209\n",
       "2     28\n",
       "4     18\n",
       "3     16\n",
       "8      7\n",
       "5      5\n",
       "Name: SibSp, dtype: int64"
      ]
     },
     "execution_count": 130,
     "metadata": {},
     "output_type": "execute_result"
    }
   ],
   "source": [
    "df['SibSp'].value_counts()"
   ]
  },
  {
   "cell_type": "code",
   "execution_count": 131,
   "metadata": {},
   "outputs": [
    {
     "data": {
      "text/plain": [
       "<matplotlib.axes._subplots.AxesSubplot at 0x16e17c8e248>"
      ]
     },
     "execution_count": 131,
     "metadata": {},
     "output_type": "execute_result"
    },
    {
     "data": {
      "image/png": "[encoded data removed]",
      "text/plain": [
       "<Figure size 432x288 with 1 Axes>"
      ]
     },
     "metadata": {
      "needs_background": "light"
     },
     "output_type": "display_data"
    }
   ],
   "source": [
    "sns.countplot(df['Survived'])"
   ]
  },
  {
   "cell_type": "code",
   "execution_count": 132,
   "metadata": {},
   "outputs": [
    {
     "data": {
      "text/plain": [
       "<matplotlib.axes._subplots.AxesSubplot at 0x16e17cc2648>"
      ]
     },
     "execution_count": 132,
     "metadata": {},
     "output_type": "execute_result"
    },
    {
     "data": {
      "image/png": "[encoded data removed]",
      "text/plain": [
       "<Figure size 432x288 with 1 Axes>"
      ]
     },
     "metadata": {
      "needs_background": "light"
     },
     "output_type": "display_data"
    }
   ],
   "source": [
    "sns.countplot(x='Survived', data=df, hue='SibSp')"
   ]
  },
  {
   "cell_type": "code",
   "execution_count": 133,
   "metadata": {},
   "outputs": [],
   "source": [
    "df['SibSp'] = df['SibSp'].apply(lambda x: func(x))"
   ]
  },
  {
   "cell_type": "code",
   "execution_count": 134,
   "metadata": {},
   "outputs": [
    {
     "data": {
      "text/plain": [
       "0    608\n",
       "1    209\n",
       "2     74\n",
       "Name: SibSp, dtype: int64"
      ]
     },
     "execution_count": 134,
     "metadata": {},
     "output_type": "execute_result"
    }
   ],
   "source": [
    "df['SibSp'].value_counts()"
   ]
  },
  {
   "cell_type": "code",
   "execution_count": 135,
   "metadata": {},
   "outputs": [
    {
     "data": {
      "text/plain": [
       "<matplotlib.axes._subplots.AxesSubplot at 0x16e17d1bd88>"
      ]
     },
     "execution_count": 135,
     "metadata": {},
     "output_type": "execute_result"
    },
    {
     "data": {
      "image/png": "[encoded data removed]",
      "text/plain": [
       "<Figure size 432x288 with 1 Axes>"
      ]
     },
     "metadata": {
      "needs_background": "light"
     },
     "output_type": "display_data"
    }
   ],
   "source": [
    "sns.countplot(x='Survived', data=df, hue='Sex')"
   ]
  },
  {
   "cell_type": "code",
   "execution_count": 136,
   "metadata": {},
   "outputs": [],
   "source": [
    "df['Sex'] = df['Sex'].map({'female':1, 'male':0})"
   ]
  },
  {
   "cell_type": "code",
   "execution_count": 137,
   "metadata": {},
   "outputs": [
    {
     "data": {
      "text/plain": [
       "0    577\n",
       "1    314\n",
       "Name: Sex, dtype: int64"
      ]
     },
     "execution_count": 137,
     "metadata": {},
     "output_type": "execute_result"
    }
   ],
   "source": [
    "df['Sex'].value_counts()"
   ]
  },
  {
   "cell_type": "code",
   "execution_count": 138,
   "metadata": {},
   "outputs": [
    {
     "data": {
      "text/html": [
       "<div>\n",
       "<style scoped>\n",
       "    .dataframe tbody tr th:only-of-type {\n",
       "        vertical-align: middle;\n",
       "    }\n",
       "\n",
       "    .dataframe tbody tr th {\n",
       "        vertical-align: top;\n",
       "    }\n",
       "\n",
       "    .dataframe thead th {\n",
       "        text-align: right;\n",
       "    }\n",
       "</style>\n",
       "<table border=\"1\" class=\"dataframe\">\n",
       "  <thead>\n",
       "    <tr style=\"text-align: right;\">\n",
       "      <th></th>\n",
       "      <th>Survived</th>\n",
       "      <th>Pclass</th>\n",
       "      <th>Name</th>\n",
       "      <th>Sex</th>\n",
       "      <th>Age</th>\n",
       "      <th>SibSp</th>\n",
       "      <th>Parch</th>\n",
       "      <th>Ticket</th>\n",
       "      <th>Fare</th>\n",
       "      <th>Embarked</th>\n",
       "    </tr>\n",
       "    <tr>\n",
       "      <th>PassengerId</th>\n",
       "      <th></th>\n",
       "      <th></th>\n",
       "      <th></th>\n",
       "      <th></th>\n",
       "      <th></th>\n",
       "      <th></th>\n",
       "      <th></th>\n",
       "      <th></th>\n",
       "      <th></th>\n",
       "      <th></th>\n",
       "    </tr>\n",
       "  </thead>\n",
       "  <tbody>\n",
       "    <tr>\n",
       "      <th>1</th>\n",
       "      <td>0</td>\n",
       "      <td>3</td>\n",
       "      <td>Braund, Mr. Owen Harris</td>\n",
       "      <td>0</td>\n",
       "      <td>22.0</td>\n",
       "      <td>1</td>\n",
       "      <td>0</td>\n",
       "      <td>A/5 21171</td>\n",
       "      <td>7.2500</td>\n",
       "      <td>S</td>\n",
       "    </tr>\n",
       "    <tr>\n",
       "      <th>2</th>\n",
       "      <td>1</td>\n",
       "      <td>1</td>\n",
       "      <td>Cumings, Mrs. John Bradley (Florence Briggs Th...</td>\n",
       "      <td>1</td>\n",
       "      <td>38.0</td>\n",
       "      <td>1</td>\n",
       "      <td>0</td>\n",
       "      <td>PC 17599</td>\n",
       "      <td>71.2833</td>\n",
       "      <td>C</td>\n",
       "    </tr>\n",
       "    <tr>\n",
       "      <th>3</th>\n",
       "      <td>1</td>\n",
       "      <td>3</td>\n",
       "      <td>Heikkinen, Miss. Laina</td>\n",
       "      <td>1</td>\n",
       "      <td>26.0</td>\n",
       "      <td>0</td>\n",
       "      <td>0</td>\n",
       "      <td>STON/O2. 3101282</td>\n",
       "      <td>7.9250</td>\n",
       "      <td>S</td>\n",
       "    </tr>\n",
       "    <tr>\n",
       "      <th>4</th>\n",
       "      <td>1</td>\n",
       "      <td>1</td>\n",
       "      <td>Futrelle, Mrs. Jacques Heath (Lily May Peel)</td>\n",
       "      <td>1</td>\n",
       "      <td>35.0</td>\n",
       "      <td>1</td>\n",
       "      <td>0</td>\n",
       "      <td>113803</td>\n",
       "      <td>53.1000</td>\n",
       "      <td>S</td>\n",
       "    </tr>\n",
       "    <tr>\n",
       "      <th>5</th>\n",
       "      <td>0</td>\n",
       "      <td>3</td>\n",
       "      <td>Allen, Mr. William Henry</td>\n",
       "      <td>0</td>\n",
       "      <td>35.0</td>\n",
       "      <td>0</td>\n",
       "      <td>0</td>\n",
       "      <td>373450</td>\n",
       "      <td>8.0500</td>\n",
       "      <td>S</td>\n",
       "    </tr>\n",
       "  </tbody>\n",
       "</table>\n",
       "</div>"
      ],
      "text/plain": [
       "             Survived  Pclass  \\\n",
       "PassengerId                     \n",
       "1                   0       3   \n",
       "2                   1       1   \n",
       "3                   1       3   \n",
       "4                   1       1   \n",
       "5                   0       3   \n",
       "\n",
       "                                                          Name  Sex   Age  \\\n",
       "PassengerId                                                                 \n",
       "1                                      Braund, Mr. Owen Harris    0  22.0   \n",
       "2            Cumings, Mrs. John Bradley (Florence Briggs Th...    1  38.0   \n",
       "3                                       Heikkinen, Miss. Laina    1  26.0   \n",
       "4                 Futrelle, Mrs. Jacques Heath (Lily May Peel)    1  35.0   \n",
       "5                                     Allen, Mr. William Henry    0  35.0   \n",
       "\n",
       "             SibSp  Parch            Ticket     Fare Embarked  \n",
       "PassengerId                                                    \n",
       "1                1      0         A/5 21171   7.2500        S  \n",
       "2                1      0          PC 17599  71.2833        C  \n",
       "3                0      0  STON/O2. 3101282   7.9250        S  \n",
       "4                1      0            113803  53.1000        S  \n",
       "5                0      0            373450   8.0500        S  "
      ]
     },
     "execution_count": 138,
     "metadata": {},
     "output_type": "execute_result"
    }
   ],
   "source": [
    "df.head()"
   ]
  },
  {
   "cell_type": "code",
   "execution_count": 139,
   "metadata": {},
   "outputs": [],
   "source": [
    "df = df.drop(['Ticket'], axis=1)\n",
    "df = df.drop(['Name'], axis=1)"
   ]
  },
  {
   "cell_type": "code",
   "execution_count": 140,
   "metadata": {},
   "outputs": [
    {
     "data": {
      "text/html": [
       "<div>\n",
       "<style scoped>\n",
       "    .dataframe tbody tr th:only-of-type {\n",
       "        vertical-align: middle;\n",
       "    }\n",
       "\n",
       "    .dataframe tbody tr th {\n",
       "        vertical-align: top;\n",
       "    }\n",
       "\n",
       "    .dataframe thead th {\n",
       "        text-align: right;\n",
       "    }\n",
       "</style>\n",
       "<table border=\"1\" class=\"dataframe\">\n",
       "  <thead>\n",
       "    <tr style=\"text-align: right;\">\n",
       "      <th></th>\n",
       "      <th>Survived</th>\n",
       "      <th>Pclass</th>\n",
       "      <th>Sex</th>\n",
       "      <th>Age</th>\n",
       "      <th>SibSp</th>\n",
       "      <th>Parch</th>\n",
       "      <th>Fare</th>\n",
       "      <th>Embarked</th>\n",
       "    </tr>\n",
       "    <tr>\n",
       "      <th>PassengerId</th>\n",
       "      <th></th>\n",
       "      <th></th>\n",
       "      <th></th>\n",
       "      <th></th>\n",
       "      <th></th>\n",
       "      <th></th>\n",
       "      <th></th>\n",
       "      <th></th>\n",
       "    </tr>\n",
       "  </thead>\n",
       "  <tbody>\n",
       "    <tr>\n",
       "      <th>1</th>\n",
       "      <td>0</td>\n",
       "      <td>3</td>\n",
       "      <td>0</td>\n",
       "      <td>22.0</td>\n",
       "      <td>1</td>\n",
       "      <td>0</td>\n",
       "      <td>7.2500</td>\n",
       "      <td>S</td>\n",
       "    </tr>\n",
       "    <tr>\n",
       "      <th>2</th>\n",
       "      <td>1</td>\n",
       "      <td>1</td>\n",
       "      <td>1</td>\n",
       "      <td>38.0</td>\n",
       "      <td>1</td>\n",
       "      <td>0</td>\n",
       "      <td>71.2833</td>\n",
       "      <td>C</td>\n",
       "    </tr>\n",
       "    <tr>\n",
       "      <th>3</th>\n",
       "      <td>1</td>\n",
       "      <td>3</td>\n",
       "      <td>1</td>\n",
       "      <td>26.0</td>\n",
       "      <td>0</td>\n",
       "      <td>0</td>\n",
       "      <td>7.9250</td>\n",
       "      <td>S</td>\n",
       "    </tr>\n",
       "    <tr>\n",
       "      <th>4</th>\n",
       "      <td>1</td>\n",
       "      <td>1</td>\n",
       "      <td>1</td>\n",
       "      <td>35.0</td>\n",
       "      <td>1</td>\n",
       "      <td>0</td>\n",
       "      <td>53.1000</td>\n",
       "      <td>S</td>\n",
       "    </tr>\n",
       "    <tr>\n",
       "      <th>5</th>\n",
       "      <td>0</td>\n",
       "      <td>3</td>\n",
       "      <td>0</td>\n",
       "      <td>35.0</td>\n",
       "      <td>0</td>\n",
       "      <td>0</td>\n",
       "      <td>8.0500</td>\n",
       "      <td>S</td>\n",
       "    </tr>\n",
       "  </tbody>\n",
       "</table>\n",
       "</div>"
      ],
      "text/plain": [
       "             Survived  Pclass  Sex   Age  SibSp  Parch     Fare Embarked\n",
       "PassengerId                                                             \n",
       "1                   0       3    0  22.0      1      0   7.2500        S\n",
       "2                   1       1    1  38.0      1      0  71.2833        C\n",
       "3                   1       3    1  26.0      0      0   7.9250        S\n",
       "4                   1       1    1  35.0      1      0  53.1000        S\n",
       "5                   0       3    0  35.0      0      0   8.0500        S"
      ]
     },
     "execution_count": 140,
     "metadata": {},
     "output_type": "execute_result"
    }
   ],
   "source": [
    "df.head()"
   ]
  },
  {
   "cell_type": "code",
   "execution_count": 141,
   "metadata": {},
   "outputs": [
    {
     "data": {
      "text/plain": [
       "<matplotlib.axes._subplots.AxesSubplot at 0x16e17dce148>"
      ]
     },
     "execution_count": 141,
     "metadata": {},
     "output_type": "execute_result"
    },
    {
     "data": {
      "image/png": "[encoded data removed]",
      "text/plain": [
       "<Figure size 432x288 with 1 Axes>"
      ]
     },
     "metadata": {
      "needs_background": "light"
     },
     "output_type": "display_data"
    }
   ],
   "source": [
    "sns.countplot(x='Survived', data=df, hue='Age')"
   ]
  },
  {
   "cell_type": "code",
   "execution_count": 142,
   "metadata": {},
   "outputs": [
    {
     "data": {
      "text/plain": [
       "<matplotlib.axes._subplots.AxesSubplot at 0x16e181a3f08>"
      ]
     },
     "execution_count": 142,
     "metadata": {},
     "output_type": "execute_result"
    },
    {
     "data": {
      "image/png": "[encoded data removed]",
      "text/plain": [
       "<Figure size 1152x432 with 1 Axes>"
      ]
     },
     "metadata": {
      "needs_background": "light"
     },
     "output_type": "display_data"
    }
   ],
   "source": [
    "plt.figure(figsize=(16,6))\n",
    "sns.countplot(x='Age',data=df)\n"
   ]
  },
  {
   "cell_type": "code",
   "execution_count": 143,
   "metadata": {},
   "outputs": [
    {
     "data": {
      "text/plain": [
       "88"
      ]
     },
     "execution_count": 143,
     "metadata": {},
     "output_type": "execute_result"
    }
   ],
   "source": [
    "df['Age'].nunique()"
   ]
  },
  {
   "cell_type": "code",
   "execution_count": 144,
   "metadata": {},
   "outputs": [
    {
     "data": {
      "text/plain": [
       "24.00    30\n",
       "22.00    27\n",
       "18.00    26\n",
       "19.00    25\n",
       "30.00    25\n",
       "         ..\n",
       "55.50     1\n",
       "70.50     1\n",
       "66.00     1\n",
       "23.50     1\n",
       "0.42      1\n",
       "Name: Age, Length: 88, dtype: int64"
      ]
     },
     "execution_count": 144,
     "metadata": {},
     "output_type": "execute_result"
    }
   ],
   "source": [
    "df['Age'].value_counts()"
   ]
  },
  {
   "cell_type": "code",
   "execution_count": 145,
   "metadata": {},
   "outputs": [
    {
     "data": {
      "text/plain": [
       "count    714.000000\n",
       "mean      29.699118\n",
       "std       14.526497\n",
       "min        0.420000\n",
       "25%       20.125000\n",
       "50%       28.000000\n",
       "75%       38.000000\n",
       "max       80.000000\n",
       "Name: Age, dtype: float64"
      ]
     },
     "execution_count": 145,
     "metadata": {},
     "output_type": "execute_result"
    }
   ],
   "source": [
    "df['Age'].describe()"
   ]
  },
  {
   "cell_type": "code",
   "execution_count": 146,
   "metadata": {},
   "outputs": [
    {
     "data": {
      "text/plain": [
       "Survived   -0.077221\n",
       "Pclass     -0.369226\n",
       "Sex        -0.093254\n",
       "Age         1.000000\n",
       "SibSp      -0.251129\n",
       "Parch      -0.282007\n",
       "Fare        0.096067\n",
       "Name: Age, dtype: float64"
      ]
     },
     "execution_count": 146,
     "metadata": {},
     "output_type": "execute_result"
    }
   ],
   "source": [
    "df.corr()['Age']"
   ]
  },
  {
   "cell_type": "code",
   "execution_count": 147,
   "metadata": {},
   "outputs": [
    {
     "data": {
      "text/plain": [
       "count    186.000000\n",
       "mean      38.233441\n",
       "std       14.802856\n",
       "min        0.920000\n",
       "25%       27.000000\n",
       "50%       37.000000\n",
       "75%       49.000000\n",
       "max       80.000000\n",
       "Name: Age, dtype: float64"
      ]
     },
     "execution_count": 147,
     "metadata": {},
     "output_type": "execute_result"
    }
   ],
   "source": [
    "df[df['Pclass']==1]['Age'].describe()"
   ]
  },
  {
   "cell_type": "code",
   "execution_count": 148,
   "metadata": {},
   "outputs": [
    {
     "data": {
      "text/plain": [
       "count    173.000000\n",
       "mean      29.877630\n",
       "std       14.001077\n",
       "min        0.670000\n",
       "25%       23.000000\n",
       "50%       29.000000\n",
       "75%       36.000000\n",
       "max       70.000000\n",
       "Name: Age, dtype: float64"
      ]
     },
     "execution_count": 148,
     "metadata": {},
     "output_type": "execute_result"
    }
   ],
   "source": [
    "df[df['Pclass']==2]['Age'].describe()"
   ]
  },
  {
   "cell_type": "code",
   "execution_count": 149,
   "metadata": {},
   "outputs": [
    {
     "data": {
      "text/plain": [
       "count    355.000000\n",
       "mean      25.140620\n",
       "std       12.495398\n",
       "min        0.420000\n",
       "25%       18.000000\n",
       "50%       24.000000\n",
       "75%       32.000000\n",
       "max       74.000000\n",
       "Name: Age, dtype: float64"
      ]
     },
     "execution_count": 149,
     "metadata": {},
     "output_type": "execute_result"
    }
   ],
   "source": [
    "df[df['Pclass']==3]['Age'].describe()"
   ]
  },
  {
   "cell_type": "code",
   "execution_count": 150,
   "metadata": {},
   "outputs": [
    {
     "data": {
      "text/plain": [
       "<matplotlib.axes._subplots.AxesSubplot at 0x16e180c9888>"
      ]
     },
     "execution_count": 150,
     "metadata": {},
     "output_type": "execute_result"
    },
    {
     "data": {
      "image/png": "[encoded data removed]",
      "text/plain": [
       "<Figure size 432x288 with 1 Axes>"
      ]
     },
     "metadata": {
      "needs_background": "light"
     },
     "output_type": "display_data"
    }
   ],
   "source": [
    "sns.countplot(x='Survived', data=df, hue='Pclass')"
   ]
  },
  {
   "cell_type": "code",
   "execution_count": 151,
   "metadata": {},
   "outputs": [],
   "source": [
    "dummies = pd.get_dummies(df['Pclass'], drop_first=True)"
   ]
  },
  {
   "cell_type": "code",
   "execution_count": 152,
   "metadata": {},
   "outputs": [],
   "source": [
    "df = pd.concat([df.drop('Pclass', axis=1), dummies], axis=1\n",
    "              )"
   ]
  },
  {
   "cell_type": "code",
   "execution_count": 153,
   "metadata": {},
   "outputs": [
    {
     "data": {
      "text/plain": [
       "Survived    0\n",
       "Sex         0\n",
       "Age         0\n",
       "SibSp       0\n",
       "Parch       0\n",
       "Fare        0\n",
       "Embarked    0\n",
       "2           0\n",
       "3           0\n",
       "dtype: int64"
      ]
     },
     "execution_count": 153,
     "metadata": {},
     "output_type": "execute_result"
    }
   ],
   "source": [
    "mean_age = df['Age'].mean()\n",
    "\n",
    "df['Age'].fillna(mean_age, inplace=True)\n",
    "\n",
    "\n",
    "\n",
    "df= df.dropna()\n",
    "\n",
    "df.isnull().sum()"
   ]
  },
  {
   "cell_type": "code",
   "execution_count": 154,
   "metadata": {},
   "outputs": [
    {
     "data": {
      "text/plain": [
       "<matplotlib.axes._subplots.AxesSubplot at 0x16e1857f248>"
      ]
     },
     "execution_count": 154,
     "metadata": {},
     "output_type": "execute_result"
    },
    {
     "data": {
      "image/png": "[encoded data removed]",
      "text/plain": [
       "<Figure size 432x288 with 1 Axes>"
      ]
     },
     "metadata": {
      "needs_background": "light"
     },
     "output_type": "display_data"
    }
   ],
   "source": [
    "sns.countplot(x='Survived', data=df, hue='Embarked')"
   ]
  },
  {
   "cell_type": "code",
   "execution_count": 155,
   "metadata": {},
   "outputs": [
    {
     "data": {
      "text/plain": [
       "3          -0.320171\n",
       "Age        -0.074673\n",
       "SibSp       0.056121\n",
       "2           0.095002\n",
       "Parch       0.122822\n",
       "Fare        0.255290\n",
       "Sex         0.541585\n",
       "Survived    1.000000\n",
       "Name: Survived, dtype: float64"
      ]
     },
     "execution_count": 155,
     "metadata": {},
     "output_type": "execute_result"
    }
   ],
   "source": [
    "df.corr()['Survived'].sort_values()"
   ]
  },
  {
   "cell_type": "code",
   "execution_count": 156,
   "metadata": {},
   "outputs": [],
   "source": [
    "emb_dummies = pd.get_dummies(df['Embarked'], drop_first=True)"
   ]
  },
  {
   "cell_type": "code",
   "execution_count": 157,
   "metadata": {},
   "outputs": [],
   "source": [
    "df = pd.concat([df.drop('Embarked',axis=1), emb_dummies], axis=1)"
   ]
  },
  {
   "cell_type": "code",
   "execution_count": null,
   "metadata": {},
   "outputs": [],
   "source": []
  },
  {
   "cell_type": "code",
   "execution_count": 158,
   "metadata": {},
   "outputs": [
    {
     "data": {
      "text/plain": [
       "<matplotlib.axes._subplots.AxesSubplot at 0x16e185efcc8>"
      ]
     },
     "execution_count": 158,
     "metadata": {},
     "output_type": "execute_result"
    },
    {
     "data": {
      "image/png": "[encoded data removed]",
      "text/plain": [
       "<Figure size 432x288 with 1 Axes>"
      ]
     },
     "metadata": {
      "needs_background": "light"
     },
     "output_type": "display_data"
    }
   ],
   "source": [
    "df['Fare'].hist(bins=50)"
   ]
  },
  {
   "cell_type": "code",
   "execution_count": 159,
   "metadata": {},
   "outputs": [
    {
     "data": {
      "text/plain": [
       "247"
      ]
     },
     "execution_count": 159,
     "metadata": {},
     "output_type": "execute_result"
    }
   ],
   "source": [
    "df['Fare'].nunique()"
   ]
  },
  {
   "cell_type": "code",
   "execution_count": null,
   "metadata": {},
   "outputs": [],
   "source": []
  },
  {
   "cell_type": "code",
   "execution_count": 160,
   "metadata": {},
   "outputs": [
    {
     "data": {
      "text/html": [
       "<div>\n",
       "<style scoped>\n",
       "    .dataframe tbody tr th:only-of-type {\n",
       "        vertical-align: middle;\n",
       "    }\n",
       "\n",
       "    .dataframe tbody tr th {\n",
       "        vertical-align: top;\n",
       "    }\n",
       "\n",
       "    .dataframe thead th {\n",
       "        text-align: right;\n",
       "    }\n",
       "</style>\n",
       "<table border=\"1\" class=\"dataframe\">\n",
       "  <thead>\n",
       "    <tr style=\"text-align: right;\">\n",
       "      <th></th>\n",
       "      <th>Survived</th>\n",
       "      <th>Sex</th>\n",
       "      <th>Age</th>\n",
       "      <th>SibSp</th>\n",
       "      <th>Parch</th>\n",
       "      <th>Fare</th>\n",
       "      <th>2</th>\n",
       "      <th>3</th>\n",
       "      <th>Q</th>\n",
       "      <th>S</th>\n",
       "    </tr>\n",
       "    <tr>\n",
       "      <th>PassengerId</th>\n",
       "      <th></th>\n",
       "      <th></th>\n",
       "      <th></th>\n",
       "      <th></th>\n",
       "      <th></th>\n",
       "      <th></th>\n",
       "      <th></th>\n",
       "      <th></th>\n",
       "      <th></th>\n",
       "      <th></th>\n",
       "    </tr>\n",
       "  </thead>\n",
       "  <tbody>\n",
       "    <tr>\n",
       "      <th>1</th>\n",
       "      <td>0</td>\n",
       "      <td>0</td>\n",
       "      <td>22.0</td>\n",
       "      <td>1</td>\n",
       "      <td>0</td>\n",
       "      <td>7.2500</td>\n",
       "      <td>0</td>\n",
       "      <td>1</td>\n",
       "      <td>0</td>\n",
       "      <td>1</td>\n",
       "    </tr>\n",
       "    <tr>\n",
       "      <th>2</th>\n",
       "      <td>1</td>\n",
       "      <td>1</td>\n",
       "      <td>38.0</td>\n",
       "      <td>1</td>\n",
       "      <td>0</td>\n",
       "      <td>71.2833</td>\n",
       "      <td>0</td>\n",
       "      <td>0</td>\n",
       "      <td>0</td>\n",
       "      <td>0</td>\n",
       "    </tr>\n",
       "    <tr>\n",
       "      <th>3</th>\n",
       "      <td>1</td>\n",
       "      <td>1</td>\n",
       "      <td>26.0</td>\n",
       "      <td>0</td>\n",
       "      <td>0</td>\n",
       "      <td>7.9250</td>\n",
       "      <td>0</td>\n",
       "      <td>1</td>\n",
       "      <td>0</td>\n",
       "      <td>1</td>\n",
       "    </tr>\n",
       "    <tr>\n",
       "      <th>4</th>\n",
       "      <td>1</td>\n",
       "      <td>1</td>\n",
       "      <td>35.0</td>\n",
       "      <td>1</td>\n",
       "      <td>0</td>\n",
       "      <td>53.1000</td>\n",
       "      <td>0</td>\n",
       "      <td>0</td>\n",
       "      <td>0</td>\n",
       "      <td>1</td>\n",
       "    </tr>\n",
       "    <tr>\n",
       "      <th>5</th>\n",
       "      <td>0</td>\n",
       "      <td>0</td>\n",
       "      <td>35.0</td>\n",
       "      <td>0</td>\n",
       "      <td>0</td>\n",
       "      <td>8.0500</td>\n",
       "      <td>0</td>\n",
       "      <td>1</td>\n",
       "      <td>0</td>\n",
       "      <td>1</td>\n",
       "    </tr>\n",
       "  </tbody>\n",
       "</table>\n",
       "</div>"
      ],
      "text/plain": [
       "             Survived  Sex   Age  SibSp  Parch     Fare  2  3  Q  S\n",
       "PassengerId                                                        \n",
       "1                   0    0  22.0      1      0   7.2500  0  1  0  1\n",
       "2                   1    1  38.0      1      0  71.2833  0  0  0  0\n",
       "3                   1    1  26.0      0      0   7.9250  0  1  0  1\n",
       "4                   1    1  35.0      1      0  53.1000  0  0  0  1\n",
       "5                   0    0  35.0      0      0   8.0500  0  1  0  1"
      ]
     },
     "execution_count": 160,
     "metadata": {},
     "output_type": "execute_result"
    }
   ],
   "source": [
    "df.head()\n",
    "\n"
   ]
  },
  {
   "cell_type": "code",
   "execution_count": 161,
   "metadata": {},
   "outputs": [],
   "source": [
    "X = df.drop('Survived', axis=1).values\n",
    "y=df['Survived'].values"
   ]
  },
  {
   "cell_type": "code",
   "execution_count": 162,
   "metadata": {},
   "outputs": [],
   "source": [
    "from sklearn.model_selection import train_test_split\n",
    "\n",
    "X_train, X_cval, y_train, y_cval = train_test_split(X, y, test_size=0.3, random_state=69)"
   ]
  },
  {
   "cell_type": "code",
   "execution_count": 163,
   "metadata": {},
   "outputs": [
    {
     "data": {
      "text/plain": [
       "array([[0.        , 0.48479517, 0.        , ..., 0.        , 0.        ,\n",
       "        1.        ],\n",
       "       [0.        , 0.33400352, 0.5       , ..., 0.        , 0.        ,\n",
       "        1.        ],\n",
       "       [0.        , 0.62302086, 1.        , ..., 0.        , 0.        ,\n",
       "        1.        ],\n",
       "       ...,\n",
       "       [0.        , 0.67328474, 0.        , ..., 0.        , 0.        ,\n",
       "        1.        ],\n",
       "       [0.        , 0.25860769, 0.        , ..., 1.        , 0.        ,\n",
       "        1.        ],\n",
       "       [1.        , 0.2083438 , 0.        , ..., 0.        , 0.        ,\n",
       "        1.        ]])"
      ]
     },
     "execution_count": 163,
     "metadata": {},
     "output_type": "execute_result"
    }
   ],
   "source": [
    "from sklearn.preprocessing import MinMaxScaler\n",
    "scaler = MinMaxScaler()\n",
    "scaler.fit_transform(X_train)\n",
    "scaler.transform(X_cval)\n"
   ]
  },
  {
   "cell_type": "code",
   "execution_count": 164,
   "metadata": {},
   "outputs": [],
   "source": [
    "from tensorflow.keras.models import Sequential\n",
    "from tensorflow.keras.layers import Dense,Activation"
   ]
  },
  {
   "cell_type": "code",
   "execution_count": 165,
   "metadata": {},
   "outputs": [],
   "source": [
    "model = Sequential()\n",
    "\n",
    "model.add(Dense(units=8, activation='relu'))\n",
    "\n",
    "\n",
    "\n",
    "model.add(Dense(1, activation='sigmoid'))\n",
    "\n",
    "model.compile(loss='binary_crossentropy', optimizer='adam')\n",
    "\n",
    "from tensorflow.keras.callbacks import EarlyStopping\n",
    "\n",
    "early_stop = EarlyStopping(monitor='val_loss', mode='min', patience=50, verbose=1)"
   ]
  },
  {
   "cell_type": "code",
   "execution_count": 166,
   "metadata": {},
   "outputs": [
    {
     "name": "stdout",
     "output_type": "stream",
     "text": [
      "Train on 622 samples, validate on 267 samples\n",
      "Epoch 1/1000\n",
      "622/622 [==============================] - 0s 624us/sample - loss: 1.8845 - val_loss: 1.4822\n",
      "Epoch 2/1000\n",
      "622/622 [==============================] - 0s 83us/sample - loss: 1.7156 - val_loss: 1.3693\n",
      "Epoch 3/1000\n",
      "622/622 [==============================] - 0s 77us/sample - loss: 1.5634 - val_loss: 1.2562\n",
      "Epoch 4/1000\n",
      "622/622 [==============================] - 0s 64us/sample - loss: 1.4138 - val_loss: 1.1524\n",
      "Epoch 5/1000\n",
      "622/622 [==============================] - 0s 78us/sample - loss: 1.2837 - val_loss: 1.0640\n",
      "Epoch 6/1000\n",
      "622/622 [==============================] - 0s 103us/sample - loss: 1.1623 - val_loss: 0.9676\n",
      "Epoch 7/1000\n",
      "622/622 [==============================] - 0s 66us/sample - loss: 1.0440 - val_loss: 0.8887\n",
      "Epoch 8/1000\n",
      "622/622 [==============================] - 0s 77us/sample - loss: 0.9564 - val_loss: 0.8269\n",
      "Epoch 9/1000\n",
      "622/622 [==============================] - 0s 90us/sample - loss: 0.8871 - val_loss: 0.7690\n",
      "Epoch 10/1000\n",
      "622/622 [==============================] - 0s 77us/sample - loss: 0.8307 - val_loss: 0.7134\n",
      "Epoch 11/1000\n",
      "622/622 [==============================] - 0s 77us/sample - loss: 0.7845 - val_loss: 0.6734\n",
      "Epoch 12/1000\n",
      "622/622 [==============================] - 0s 64us/sample - loss: 0.7368 - val_loss: 0.6549\n",
      "Epoch 13/1000\n",
      "622/622 [==============================] - 0s 82us/sample - loss: 0.7121 - val_loss: 0.6081\n",
      "Epoch 14/1000\n",
      "622/622 [==============================] - 0s 92us/sample - loss: 0.6814 - val_loss: 0.5749\n",
      "Epoch 15/1000\n",
      "622/622 [==============================] - 0s 64us/sample - loss: 0.6611 - val_loss: 0.5594\n",
      "Epoch 16/1000\n",
      "622/622 [==============================] - 0s 77us/sample - loss: 0.6203 - val_loss: 0.5360\n",
      "Epoch 17/1000\n",
      "622/622 [==============================] - 0s 77us/sample - loss: 0.6059 - val_loss: 0.5232\n",
      "Epoch 18/1000\n",
      "622/622 [==============================] - 0s 79us/sample - loss: 0.5902 - val_loss: 0.5128\n",
      "Epoch 19/1000\n",
      "622/622 [==============================] - 0s 69us/sample - loss: 0.5797 - val_loss: 0.5073\n",
      "Epoch 20/1000\n",
      "622/622 [==============================] - 0s 81us/sample - loss: 0.5725 - val_loss: 0.4993\n",
      "Epoch 21/1000\n",
      "622/622 [==============================] - 0s 64us/sample - loss: 0.5702 - val_loss: 0.4944\n",
      "Epoch 22/1000\n",
      "622/622 [==============================] - 0s 90us/sample - loss: 0.5638 - val_loss: 0.4933\n",
      "Epoch 23/1000\n",
      "622/622 [==============================] - 0s 77us/sample - loss: 0.5613 - val_loss: 0.4961\n",
      "Epoch 24/1000\n",
      "622/622 [==============================] - 0s 77us/sample - loss: 0.5647 - val_loss: 0.4907\n",
      "Epoch 25/1000\n",
      "622/622 [==============================] - 0s 79us/sample - loss: 0.5543 - val_loss: 0.4879\n",
      "Epoch 26/1000\n",
      "622/622 [==============================] - 0s 77us/sample - loss: 0.5516 - val_loss: 0.4902\n",
      "Epoch 27/1000\n",
      "622/622 [==============================] - 0s 95us/sample - loss: 0.5517 - val_loss: 0.4903\n",
      "Epoch 28/1000\n",
      "622/622 [==============================] - 0s 70us/sample - loss: 0.5461 - val_loss: 0.4876\n",
      "Epoch 29/1000\n",
      "622/622 [==============================] - 0s 79us/sample - loss: 0.5421 - val_loss: 0.4859\n",
      "Epoch 30/1000\n",
      "622/622 [==============================] - 0s 80us/sample - loss: 0.5390 - val_loss: 0.4817\n",
      "Epoch 31/1000\n",
      "622/622 [==============================] - 0s 64us/sample - loss: 0.5380 - val_loss: 0.4809\n",
      "Epoch 32/1000\n",
      "622/622 [==============================] - 0s 77us/sample - loss: 0.5364 - val_loss: 0.4856\n",
      "Epoch 33/1000\n",
      "622/622 [==============================] - 0s 77us/sample - loss: 0.5335 - val_loss: 0.4799\n",
      "Epoch 34/1000\n",
      "622/622 [==============================] - 0s 90us/sample - loss: 0.5358 - val_loss: 0.4776\n",
      "Epoch 35/1000\n",
      "622/622 [==============================] - 0s 77us/sample - loss: 0.5291 - val_loss: 0.4790\n",
      "Epoch 36/1000\n",
      "622/622 [==============================] - 0s 70us/sample - loss: 0.5296 - val_loss: 0.4783\n",
      "Epoch 37/1000\n",
      "622/622 [==============================] - 0s 77us/sample - loss: 0.5403 - val_loss: 0.4962\n",
      "Epoch 38/1000\n",
      "622/622 [==============================] - 0s 90us/sample - loss: 0.5337 - val_loss: 0.4775\n",
      "Epoch 39/1000\n",
      "622/622 [==============================] - 0s 77us/sample - loss: 0.5264 - val_loss: 0.4787\n",
      "Epoch 40/1000\n",
      "622/622 [==============================] - 0s 77us/sample - loss: 0.5292 - val_loss: 0.4766\n",
      "Epoch 41/1000\n",
      "622/622 [==============================] - 0s 69us/sample - loss: 0.5218 - val_loss: 0.4780\n",
      "Epoch 42/1000\n",
      "622/622 [==============================] - 0s 82us/sample - loss: 0.5208 - val_loss: 0.4748\n",
      "Epoch 43/1000\n",
      "622/622 [==============================] - 0s 64us/sample - loss: 0.5213 - val_loss: 0.4743\n",
      "Epoch 44/1000\n",
      "622/622 [==============================] - 0s 82us/sample - loss: 0.5180 - val_loss: 0.4750\n",
      "Epoch 45/1000\n",
      "622/622 [==============================] - 0s 77us/sample - loss: 0.5181 - val_loss: 0.4719\n",
      "Epoch 46/1000\n",
      "622/622 [==============================] - 0s 77us/sample - loss: 0.5168 - val_loss: 0.4730\n",
      "Epoch 47/1000\n",
      "622/622 [==============================] - 0s 73us/sample - loss: 0.5210 - val_loss: 0.4723\n",
      "Epoch 48/1000\n",
      "622/622 [==============================] - 0s 77us/sample - loss: 0.5186 - val_loss: 0.4660\n",
      "Epoch 49/1000\n",
      "622/622 [==============================] - 0s 82us/sample - loss: 0.5125 - val_loss: 0.4729\n",
      "Epoch 50/1000\n",
      "622/622 [==============================] - 0s 90us/sample - loss: 0.5111 - val_loss: 0.4681\n",
      "Epoch 51/1000\n",
      "622/622 [==============================] - 0s 77us/sample - loss: 0.5097 - val_loss: 0.4691\n",
      "Epoch 52/1000\n",
      "622/622 [==============================] - 0s 77us/sample - loss: 0.5074 - val_loss: 0.4672\n",
      "Epoch 53/1000\n",
      "622/622 [==============================] - 0s 90us/sample - loss: 0.5064 - val_loss: 0.4686\n",
      "Epoch 54/1000\n",
      "622/622 [==============================] - 0s 64us/sample - loss: 0.5071 - val_loss: 0.4656\n",
      "Epoch 55/1000\n",
      "622/622 [==============================] - 0s 77us/sample - loss: 0.5084 - val_loss: 0.4759\n",
      "Epoch 56/1000\n",
      "622/622 [==============================] - 0s 77us/sample - loss: 0.5153 - val_loss: 0.4954\n",
      "Epoch 57/1000\n",
      "622/622 [==============================] - 0s 90us/sample - loss: 0.5143 - val_loss: 0.4691\n",
      "Epoch 58/1000\n",
      "622/622 [==============================] - 0s 64us/sample - loss: 0.5026 - val_loss: 0.4704\n",
      "Epoch 59/1000\n",
      "622/622 [==============================] - 0s 77us/sample - loss: 0.5059 - val_loss: 0.4697\n",
      "Epoch 60/1000\n",
      "622/622 [==============================] - 0s 77us/sample - loss: 0.5019 - val_loss: 0.4609\n",
      "Epoch 61/1000\n",
      "622/622 [==============================] - 0s 64us/sample - loss: 0.5018 - val_loss: 0.4650\n",
      "Epoch 62/1000\n",
      "622/622 [==============================] - 0s 68us/sample - loss: 0.5057 - val_loss: 0.4655\n",
      "Epoch 63/1000\n",
      "622/622 [==============================] - 0s 64us/sample - loss: 0.4985 - val_loss: 0.4663\n",
      "Epoch 64/1000\n",
      "622/622 [==============================] - 0s 64us/sample - loss: 0.4980 - val_loss: 0.4638\n",
      "Epoch 65/1000\n",
      "622/622 [==============================] - 0s 64us/sample - loss: 0.4975 - val_loss: 0.4641\n",
      "Epoch 66/1000\n",
      "622/622 [==============================] - 0s 64us/sample - loss: 0.4958 - val_loss: 0.4601\n",
      "Epoch 67/1000\n",
      "622/622 [==============================] - 0s 79us/sample - loss: 0.4943 - val_loss: 0.4645\n",
      "Epoch 68/1000\n",
      "622/622 [==============================] - 0s 77us/sample - loss: 0.4939 - val_loss: 0.4633\n",
      "Epoch 69/1000\n",
      "622/622 [==============================] - 0s 77us/sample - loss: 0.4934 - val_loss: 0.4609\n",
      "Epoch 70/1000\n",
      "622/622 [==============================] - 0s 103us/sample - loss: 0.4918 - val_loss: 0.4601\n",
      "Epoch 71/1000\n",
      "622/622 [==============================] - 0s 79us/sample - loss: 0.4978 - val_loss: 0.4621\n",
      "Epoch 72/1000\n",
      "622/622 [==============================] - 0s 94us/sample - loss: 0.4942 - val_loss: 0.4576\n",
      "Epoch 73/1000\n",
      "622/622 [==============================] - 0s 85us/sample - loss: 0.4963 - val_loss: 0.4602\n",
      "Epoch 74/1000\n",
      "622/622 [==============================] - 0s 73us/sample - loss: 0.4962 - val_loss: 0.4595\n",
      "Epoch 75/1000\n",
      "622/622 [==============================] - 0s 69us/sample - loss: 0.4915 - val_loss: 0.4577\n",
      "Epoch 76/1000\n",
      "622/622 [==============================] - 0s 91us/sample - loss: 0.4901 - val_loss: 0.4598\n",
      "Epoch 77/1000\n",
      "622/622 [==============================] - 0s 77us/sample - loss: 0.4936 - val_loss: 0.4549\n"
     ]
    },
    {
     "name": "stdout",
     "output_type": "stream",
     "text": [
      "Epoch 78/1000\n",
      "622/622 [==============================] - 0s 67us/sample - loss: 0.4906 - val_loss: 0.4563\n",
      "Epoch 79/1000\n",
      "622/622 [==============================] - 0s 79us/sample - loss: 0.4898 - val_loss: 0.4505\n",
      "Epoch 80/1000\n",
      "622/622 [==============================] - 0s 69us/sample - loss: 0.4879 - val_loss: 0.4585\n",
      "Epoch 81/1000\n",
      "622/622 [==============================] - 0s 80us/sample - loss: 0.4888 - val_loss: 0.4511\n",
      "Epoch 82/1000\n",
      "622/622 [==============================] - 0s 91us/sample - loss: 0.4871 - val_loss: 0.4565\n",
      "Epoch 83/1000\n",
      "622/622 [==============================] - 0s 64us/sample - loss: 0.4885 - val_loss: 0.4590\n",
      "Epoch 84/1000\n",
      "622/622 [==============================] - 0s 92us/sample - loss: 0.4940 - val_loss: 0.4526\n",
      "Epoch 85/1000\n",
      "622/622 [==============================] - 0s 72us/sample - loss: 0.4852 - val_loss: 0.4575\n",
      "Epoch 86/1000\n",
      "622/622 [==============================] - 0s 88us/sample - loss: 0.4893 - val_loss: 0.4544\n",
      "Epoch 87/1000\n",
      "622/622 [==============================] - 0s 101us/sample - loss: 0.4899 - val_loss: 0.4553\n",
      "Epoch 88/1000\n",
      "622/622 [==============================] - 0s 90us/sample - loss: 0.4995 - val_loss: 0.4623\n",
      "Epoch 89/1000\n",
      "622/622 [==============================] - 0s 98us/sample - loss: 0.4836 - val_loss: 0.4531\n",
      "Epoch 90/1000\n",
      "622/622 [==============================] - 0s 65us/sample - loss: 0.4891 - val_loss: 0.4503\n",
      "Epoch 91/1000\n",
      "622/622 [==============================] - 0s 70us/sample - loss: 0.4859 - val_loss: 0.4591\n",
      "Epoch 92/1000\n",
      "622/622 [==============================] - 0s 82us/sample - loss: 0.4824 - val_loss: 0.4542\n",
      "Epoch 93/1000\n",
      "622/622 [==============================] - 0s 70us/sample - loss: 0.4872 - val_loss: 0.4586\n",
      "Epoch 94/1000\n",
      "622/622 [==============================] - 0s 76us/sample - loss: 0.4855 - val_loss: 0.4494\n",
      "Epoch 95/1000\n",
      "622/622 [==============================] - 0s 79us/sample - loss: 0.4856 - val_loss: 0.4459\n",
      "Epoch 96/1000\n",
      "622/622 [==============================] - 0s 61us/sample - loss: 0.4813 - val_loss: 0.4489\n",
      "Epoch 97/1000\n",
      "622/622 [==============================] - 0s 77us/sample - loss: 0.4798 - val_loss: 0.4488\n",
      "Epoch 98/1000\n",
      "622/622 [==============================] - 0s 77us/sample - loss: 0.4823 - val_loss: 0.4544\n",
      "Epoch 99/1000\n",
      "622/622 [==============================] - 0s 64us/sample - loss: 0.4822 - val_loss: 0.4476\n",
      "Epoch 100/1000\n",
      "622/622 [==============================] - 0s 76us/sample - loss: 0.4784 - val_loss: 0.4510\n",
      "Epoch 101/1000\n",
      "622/622 [==============================] - 0s 72us/sample - loss: 0.4793 - val_loss: 0.4474\n",
      "Epoch 102/1000\n",
      "622/622 [==============================] - 0s 88us/sample - loss: 0.4805 - val_loss: 0.4462\n",
      "Epoch 103/1000\n",
      "622/622 [==============================] - 0s 75us/sample - loss: 0.4795 - val_loss: 0.4464\n",
      "Epoch 104/1000\n",
      "622/622 [==============================] - 0s 90us/sample - loss: 0.4800 - val_loss: 0.4485\n",
      "Epoch 105/1000\n",
      "622/622 [==============================] - 0s 68us/sample - loss: 0.4796 - val_loss: 0.4477\n",
      "Epoch 106/1000\n",
      "622/622 [==============================] - 0s 70us/sample - loss: 0.4784 - val_loss: 0.4471\n",
      "Epoch 107/1000\n",
      "622/622 [==============================] - 0s 77us/sample - loss: 0.4782 - val_loss: 0.4477\n",
      "Epoch 108/1000\n",
      "622/622 [==============================] - 0s 67us/sample - loss: 0.4783 - val_loss: 0.4434\n",
      "Epoch 109/1000\n",
      "622/622 [==============================] - 0s 71us/sample - loss: 0.4782 - val_loss: 0.4448\n",
      "Epoch 110/1000\n",
      "622/622 [==============================] - 0s 77us/sample - loss: 0.4776 - val_loss: 0.4471\n",
      "Epoch 111/1000\n",
      "622/622 [==============================] - 0s 64us/sample - loss: 0.4755 - val_loss: 0.4465\n",
      "Epoch 112/1000\n",
      "622/622 [==============================] - 0s 90us/sample - loss: 0.4754 - val_loss: 0.4448\n",
      "Epoch 113/1000\n",
      "622/622 [==============================] - 0s 77us/sample - loss: 0.4836 - val_loss: 0.4515\n",
      "Epoch 114/1000\n",
      "622/622 [==============================] - 0s 77us/sample - loss: 0.4822 - val_loss: 0.4514\n",
      "Epoch 115/1000\n",
      "622/622 [==============================] - 0s 64us/sample - loss: 0.4832 - val_loss: 0.4462\n",
      "Epoch 116/1000\n",
      "622/622 [==============================] - 0s 79us/sample - loss: 0.4760 - val_loss: 0.4466\n",
      "Epoch 117/1000\n",
      "622/622 [==============================] - 0s 64us/sample - loss: 0.4795 - val_loss: 0.4450\n",
      "Epoch 118/1000\n",
      "622/622 [==============================] - 0s 77us/sample - loss: 0.4727 - val_loss: 0.4486\n",
      "Epoch 119/1000\n",
      "622/622 [==============================] - 0s 64us/sample - loss: 0.4781 - val_loss: 0.4441\n",
      "Epoch 120/1000\n",
      "622/622 [==============================] - 0s 79us/sample - loss: 0.4737 - val_loss: 0.4501\n",
      "Epoch 121/1000\n",
      "622/622 [==============================] - 0s 77us/sample - loss: 0.4852 - val_loss: 0.4540\n",
      "Epoch 122/1000\n",
      "622/622 [==============================] - 0s 64us/sample - loss: 0.4744 - val_loss: 0.4483\n",
      "Epoch 123/1000\n",
      "622/622 [==============================] - 0s 90us/sample - loss: 0.4812 - val_loss: 0.4450\n",
      "Epoch 124/1000\n",
      "622/622 [==============================] - 0s 77us/sample - loss: 0.4721 - val_loss: 0.4466\n",
      "Epoch 125/1000\n",
      "622/622 [==============================] - 0s 64us/sample - loss: 0.4861 - val_loss: 0.4471\n",
      "Epoch 126/1000\n",
      "622/622 [==============================] - 0s 77us/sample - loss: 0.4719 - val_loss: 0.4479\n",
      "Epoch 127/1000\n",
      "622/622 [==============================] - 0s 74us/sample - loss: 0.4793 - val_loss: 0.4415\n",
      "Epoch 128/1000\n",
      "622/622 [==============================] - 0s 77us/sample - loss: 0.4793 - val_loss: 0.4441\n",
      "Epoch 129/1000\n",
      "622/622 [==============================] - 0s 64us/sample - loss: 0.4774 - val_loss: 0.4475\n",
      "Epoch 130/1000\n",
      "622/622 [==============================] - 0s 77us/sample - loss: 0.4758 - val_loss: 0.4422\n",
      "Epoch 131/1000\n",
      "622/622 [==============================] - 0s 90us/sample - loss: 0.4720 - val_loss: 0.4448\n",
      "Epoch 132/1000\n",
      "622/622 [==============================] - 0s 65us/sample - loss: 0.4726 - val_loss: 0.4414\n",
      "Epoch 133/1000\n",
      "622/622 [==============================] - 0s 80us/sample - loss: 0.4718 - val_loss: 0.4399\n",
      "Epoch 134/1000\n",
      "622/622 [==============================] - 0s 80us/sample - loss: 0.4732 - val_loss: 0.4481\n",
      "Epoch 135/1000\n",
      "622/622 [==============================] - 0s 69us/sample - loss: 0.4755 - val_loss: 0.4487\n",
      "Epoch 136/1000\n",
      "622/622 [==============================] - 0s 67us/sample - loss: 0.4757 - val_loss: 0.4402\n",
      "Epoch 137/1000\n",
      "622/622 [==============================] - 0s 71us/sample - loss: 0.4752 - val_loss: 0.4415\n",
      "Epoch 138/1000\n",
      "622/622 [==============================] - 0s 77us/sample - loss: 0.4775 - val_loss: 0.4389\n",
      "Epoch 139/1000\n",
      "622/622 [==============================] - 0s 77us/sample - loss: 0.4727 - val_loss: 0.4412\n",
      "Epoch 140/1000\n",
      "622/622 [==============================] - 0s 71us/sample - loss: 0.4691 - val_loss: 0.4394\n",
      "Epoch 141/1000\n",
      "622/622 [==============================] - 0s 79us/sample - loss: 0.4700 - val_loss: 0.4406\n",
      "Epoch 142/1000\n",
      "622/622 [==============================] - 0s 83us/sample - loss: 0.4784 - val_loss: 0.4461\n",
      "Epoch 143/1000\n",
      "622/622 [==============================] - 0s 77us/sample - loss: 0.4749 - val_loss: 0.4419\n",
      "Epoch 144/1000\n",
      "622/622 [==============================] - 0s 77us/sample - loss: 0.4737 - val_loss: 0.4429\n",
      "Epoch 145/1000\n",
      "622/622 [==============================] - 0s 64us/sample - loss: 0.4837 - val_loss: 0.4414\n",
      "Epoch 146/1000\n",
      "622/622 [==============================] - 0s 64us/sample - loss: 0.4679 - val_loss: 0.4434\n",
      "Epoch 147/1000\n",
      "622/622 [==============================] - 0s 72us/sample - loss: 0.4909 - val_loss: 0.4683\n",
      "Epoch 148/1000\n",
      "622/622 [==============================] - 0s 90us/sample - loss: 0.4721 - val_loss: 0.4454\n",
      "Epoch 149/1000\n",
      "622/622 [==============================] - 0s 77us/sample - loss: 0.4689 - val_loss: 0.4388\n",
      "Epoch 150/1000\n",
      "622/622 [==============================] - 0s 77us/sample - loss: 0.4683 - val_loss: 0.4411\n",
      "Epoch 151/1000\n",
      "622/622 [==============================] - 0s 77us/sample - loss: 0.4692 - val_loss: 0.4491\n",
      "Epoch 152/1000\n",
      "622/622 [==============================] - 0s 77us/sample - loss: 0.4723 - val_loss: 0.4388\n",
      "Epoch 153/1000\n",
      "622/622 [==============================] - 0s 68us/sample - loss: 0.4670 - val_loss: 0.4417\n",
      "Epoch 154/1000\n",
      "622/622 [==============================] - 0s 76us/sample - loss: 0.4702 - val_loss: 0.4372\n"
     ]
    },
    {
     "name": "stdout",
     "output_type": "stream",
     "text": [
      "Epoch 155/1000\n",
      "622/622 [==============================] - 0s 83us/sample - loss: 0.4669 - val_loss: 0.4367\n",
      "Epoch 156/1000\n",
      "622/622 [==============================] - 0s 90us/sample - loss: 0.4671 - val_loss: 0.4396\n",
      "Epoch 157/1000\n",
      "622/622 [==============================] - 0s 72us/sample - loss: 0.4664 - val_loss: 0.4368\n",
      "Epoch 158/1000\n",
      "622/622 [==============================] - 0s 79us/sample - loss: 0.4693 - val_loss: 0.4408\n",
      "Epoch 159/1000\n",
      "622/622 [==============================] - 0s 68us/sample - loss: 0.4674 - val_loss: 0.4378\n",
      "Epoch 160/1000\n",
      "622/622 [==============================] - 0s 80us/sample - loss: 0.4689 - val_loss: 0.4358\n",
      "Epoch 161/1000\n",
      "622/622 [==============================] - 0s 54us/sample - loss: 0.4672 - val_loss: 0.4425\n",
      "Epoch 162/1000\n",
      "622/622 [==============================] - 0s 81us/sample - loss: 0.4689 - val_loss: 0.4354\n",
      "Epoch 163/1000\n",
      "622/622 [==============================] - 0s 93us/sample - loss: 0.4684 - val_loss: 0.4409\n",
      "Epoch 164/1000\n",
      "622/622 [==============================] - 0s 90us/sample - loss: 0.4672 - val_loss: 0.4367\n",
      "Epoch 165/1000\n",
      "622/622 [==============================] - 0s 72us/sample - loss: 0.4652 - val_loss: 0.4350\n",
      "Epoch 166/1000\n",
      "622/622 [==============================] - 0s 64us/sample - loss: 0.4690 - val_loss: 0.4340\n",
      "Epoch 167/1000\n",
      "622/622 [==============================] - 0s 90us/sample - loss: 0.4681 - val_loss: 0.4400\n",
      "Epoch 168/1000\n",
      "622/622 [==============================] - 0s 64us/sample - loss: 0.4663 - val_loss: 0.4358\n",
      "Epoch 169/1000\n",
      "622/622 [==============================] - 0s 64us/sample - loss: 0.4642 - val_loss: 0.4411\n",
      "Epoch 170/1000\n",
      "622/622 [==============================] - 0s 64us/sample - loss: 0.4668 - val_loss: 0.4378\n",
      "Epoch 171/1000\n",
      "622/622 [==============================] - 0s 85us/sample - loss: 0.4744 - val_loss: 0.4392\n",
      "Epoch 172/1000\n",
      "622/622 [==============================] - 0s 77us/sample - loss: 0.4638 - val_loss: 0.4363\n",
      "Epoch 173/1000\n",
      "622/622 [==============================] - 0s 77us/sample - loss: 0.4683 - val_loss: 0.4362\n",
      "Epoch 174/1000\n",
      "622/622 [==============================] - 0s 64us/sample - loss: 0.4665 - val_loss: 0.4365\n",
      "Epoch 175/1000\n",
      "622/622 [==============================] - 0s 64us/sample - loss: 0.4666 - val_loss: 0.4334\n",
      "Epoch 176/1000\n",
      "622/622 [==============================] - 0s 64us/sample - loss: 0.4661 - val_loss: 0.4424\n",
      "Epoch 177/1000\n",
      "622/622 [==============================] - 0s 90us/sample - loss: 0.4699 - val_loss: 0.4394\n",
      "Epoch 178/1000\n",
      "622/622 [==============================] - 0s 77us/sample - loss: 0.4623 - val_loss: 0.4398\n",
      "Epoch 179/1000\n",
      "622/622 [==============================] - 0s 64us/sample - loss: 0.4730 - val_loss: 0.4386\n",
      "Epoch 180/1000\n",
      "622/622 [==============================] - 0s 64us/sample - loss: 0.4645 - val_loss: 0.4331\n",
      "Epoch 181/1000\n",
      "622/622 [==============================] - 0s 64us/sample - loss: 0.4640 - val_loss: 0.4381\n",
      "Epoch 182/1000\n",
      "622/622 [==============================] - 0s 77us/sample - loss: 0.4634 - val_loss: 0.4359\n",
      "Epoch 183/1000\n",
      "622/622 [==============================] - 0s 64us/sample - loss: 0.4655 - val_loss: 0.4391\n",
      "Epoch 184/1000\n",
      "622/622 [==============================] - 0s 64us/sample - loss: 0.4608 - val_loss: 0.4412\n",
      "Epoch 185/1000\n",
      "622/622 [==============================] - 0s 77us/sample - loss: 0.4669 - val_loss: 0.4361\n",
      "Epoch 186/1000\n",
      "622/622 [==============================] - 0s 77us/sample - loss: 0.4643 - val_loss: 0.4338\n",
      "Epoch 187/1000\n",
      "622/622 [==============================] - 0s 64us/sample - loss: 0.4671 - val_loss: 0.4422\n",
      "Epoch 188/1000\n",
      "622/622 [==============================] - 0s 76us/sample - loss: 0.4741 - val_loss: 0.4383\n",
      "Epoch 189/1000\n",
      "622/622 [==============================] - 0s 64us/sample - loss: 0.4645 - val_loss: 0.4329\n",
      "Epoch 190/1000\n",
      "622/622 [==============================] - 0s 64us/sample - loss: 0.4619 - val_loss: 0.4411\n",
      "Epoch 191/1000\n",
      "622/622 [==============================] - 0s 77us/sample - loss: 0.4668 - val_loss: 0.4343\n",
      "Epoch 192/1000\n",
      "622/622 [==============================] - 0s 77us/sample - loss: 0.4613 - val_loss: 0.4380\n",
      "Epoch 193/1000\n",
      "622/622 [==============================] - 0s 66us/sample - loss: 0.4603 - val_loss: 0.4354\n",
      "Epoch 194/1000\n",
      "622/622 [==============================] - 0s 77us/sample - loss: 0.4624 - val_loss: 0.4357\n",
      "Epoch 195/1000\n",
      "622/622 [==============================] - 0s 79us/sample - loss: 0.4603 - val_loss: 0.4352\n",
      "Epoch 196/1000\n",
      "622/622 [==============================] - 0s 67us/sample - loss: 0.4598 - val_loss: 0.4371\n",
      "Epoch 197/1000\n",
      "622/622 [==============================] - 0s 73us/sample - loss: 0.4614 - val_loss: 0.4403\n",
      "Epoch 198/1000\n",
      "622/622 [==============================] - 0s 64us/sample - loss: 0.4606 - val_loss: 0.4329\n",
      "Epoch 199/1000\n",
      "622/622 [==============================] - 0s 82us/sample - loss: 0.4613 - val_loss: 0.4361\n",
      "Epoch 200/1000\n",
      "622/622 [==============================] - 0s 88us/sample - loss: 0.4618 - val_loss: 0.4330\n",
      "Epoch 201/1000\n",
      "622/622 [==============================] - 0s 73us/sample - loss: 0.4594 - val_loss: 0.4368\n",
      "Epoch 202/1000\n",
      "622/622 [==============================] - 0s 77us/sample - loss: 0.4637 - val_loss: 0.4347\n",
      "Epoch 203/1000\n",
      "622/622 [==============================] - 0s 64us/sample - loss: 0.4603 - val_loss: 0.4376\n",
      "Epoch 204/1000\n",
      "622/622 [==============================] - 0s 82us/sample - loss: 0.4774 - val_loss: 0.4379\n",
      "Epoch 205/1000\n",
      "622/622 [==============================] - 0s 64us/sample - loss: 0.4642 - val_loss: 0.4367\n",
      "Epoch 206/1000\n",
      "622/622 [==============================] - 0s 89us/sample - loss: 0.4660 - val_loss: 0.4346\n",
      "Epoch 207/1000\n",
      "622/622 [==============================] - 0s 77us/sample - loss: 0.4593 - val_loss: 0.4344\n",
      "Epoch 208/1000\n",
      "622/622 [==============================] - 0s 77us/sample - loss: 0.4593 - val_loss: 0.4330\n",
      "Epoch 209/1000\n",
      "622/622 [==============================] - 0s 81us/sample - loss: 0.4632 - val_loss: 0.4395\n",
      "Epoch 210/1000\n",
      "622/622 [==============================] - 0s 67us/sample - loss: 0.4775 - val_loss: 0.4311\n",
      "Epoch 211/1000\n",
      "622/622 [==============================] - 0s 75us/sample - loss: 0.4640 - val_loss: 0.4356\n",
      "Epoch 212/1000\n",
      "622/622 [==============================] - 0s 73us/sample - loss: 0.4595 - val_loss: 0.4363\n",
      "Epoch 213/1000\n",
      "622/622 [==============================] - 0s 73us/sample - loss: 0.4593 - val_loss: 0.4344\n",
      "Epoch 214/1000\n",
      "622/622 [==============================] - 0s 74us/sample - loss: 0.4637 - val_loss: 0.4481\n",
      "Epoch 215/1000\n",
      "622/622 [==============================] - 0s 72us/sample - loss: 0.4648 - val_loss: 0.4343\n",
      "Epoch 216/1000\n",
      "622/622 [==============================] - 0s 77us/sample - loss: 0.4598 - val_loss: 0.4330\n",
      "Epoch 217/1000\n",
      "622/622 [==============================] - 0s 72us/sample - loss: 0.4589 - val_loss: 0.4311\n",
      "Epoch 218/1000\n",
      "622/622 [==============================] - 0s 73us/sample - loss: 0.4599 - val_loss: 0.4347\n",
      "Epoch 219/1000\n",
      "622/622 [==============================] - 0s 83us/sample - loss: 0.4622 - val_loss: 0.4326\n",
      "Epoch 220/1000\n",
      "622/622 [==============================] - 0s 73us/sample - loss: 0.4584 - val_loss: 0.4344\n",
      "Epoch 221/1000\n",
      "622/622 [==============================] - 0s 64us/sample - loss: 0.4614 - val_loss: 0.4352\n",
      "Epoch 222/1000\n",
      "622/622 [==============================] - 0s 93us/sample - loss: 0.4602 - val_loss: 0.4312\n",
      "Epoch 223/1000\n",
      "622/622 [==============================] - 0s 63us/sample - loss: 0.4594 - val_loss: 0.4299\n",
      "Epoch 224/1000\n",
      "622/622 [==============================] - 0s 75us/sample - loss: 0.4599 - val_loss: 0.4340\n",
      "Epoch 225/1000\n",
      "622/622 [==============================] - 0s 64us/sample - loss: 0.4577 - val_loss: 0.4316\n",
      "Epoch 226/1000\n",
      "622/622 [==============================] - 0s 79us/sample - loss: 0.4610 - val_loss: 0.4368\n",
      "Epoch 227/1000\n",
      "622/622 [==============================] - 0s 78us/sample - loss: 0.4609 - val_loss: 0.4297\n",
      "Epoch 228/1000\n",
      "622/622 [==============================] - 0s 61us/sample - loss: 0.4575 - val_loss: 0.4348\n",
      "Epoch 229/1000\n",
      "622/622 [==============================] - 0s 80us/sample - loss: 0.4586 - val_loss: 0.4332\n",
      "Epoch 230/1000\n",
      "622/622 [==============================] - 0s 77us/sample - loss: 0.4623 - val_loss: 0.4353\n",
      "Epoch 231/1000\n",
      "622/622 [==============================] - 0s 75us/sample - loss: 0.4582 - val_loss: 0.4298\n",
      "Epoch 232/1000\n",
      "622/622 [==============================] - 0s 64us/sample - loss: 0.4557 - val_loss: 0.4326\n",
      "Epoch 233/1000\n",
      "622/622 [==============================] - 0s 72us/sample - loss: 0.4574 - val_loss: 0.4295\n",
      "Epoch 234/1000\n",
      "622/622 [==============================] - 0s 87us/sample - loss: 0.4569 - val_loss: 0.4332\n",
      "Epoch 235/1000\n",
      "622/622 [==============================] - 0s 60us/sample - loss: 0.4578 - val_loss: 0.4313\n",
      "Epoch 236/1000\n",
      "622/622 [==============================] - 0s 67us/sample - loss: 0.4581 - val_loss: 0.4294\n",
      "Epoch 237/1000\n",
      "622/622 [==============================] - 0s 82us/sample - loss: 0.4578 - val_loss: 0.4349\n",
      "Epoch 238/1000\n",
      "622/622 [==============================] - 0s 77us/sample - loss: 0.4578 - val_loss: 0.4342\n",
      "Epoch 239/1000\n",
      "622/622 [==============================] - 0s 79us/sample - loss: 0.4569 - val_loss: 0.4334\n",
      "Epoch 240/1000\n",
      "622/622 [==============================] - 0s 77us/sample - loss: 0.4637 - val_loss: 0.4361\n",
      "Epoch 241/1000\n",
      "622/622 [==============================] - 0s 77us/sample - loss: 0.4622 - val_loss: 0.4290\n",
      "Epoch 242/1000\n",
      "622/622 [==============================] - 0s 64us/sample - loss: 0.4633 - val_loss: 0.4310\n",
      "Epoch 243/1000\n",
      "622/622 [==============================] - 0s 77us/sample - loss: 0.4554 - val_loss: 0.4349\n",
      "Epoch 244/1000\n",
      "622/622 [==============================] - 0s 64us/sample - loss: 0.4588 - val_loss: 0.4327\n",
      "Epoch 245/1000\n",
      "622/622 [==============================] - 0s 90us/sample - loss: 0.4570 - val_loss: 0.4426\n",
      "Epoch 246/1000\n",
      "622/622 [==============================] - 0s 77us/sample - loss: 0.4711 - val_loss: 0.4276\n",
      "Epoch 247/1000\n",
      "622/622 [==============================] - 0s 64us/sample - loss: 0.4594 - val_loss: 0.4359\n",
      "Epoch 248/1000\n",
      "622/622 [==============================] - 0s 64us/sample - loss: 0.4559 - val_loss: 0.4289\n",
      "Epoch 249/1000\n",
      "622/622 [==============================] - 0s 64us/sample - loss: 0.4549 - val_loss: 0.4320\n",
      "Epoch 250/1000\n",
      "622/622 [==============================] - 0s 77us/sample - loss: 0.4577 - val_loss: 0.4314\n",
      "Epoch 251/1000\n",
      "622/622 [==============================] - 0s 79us/sample - loss: 0.4561 - val_loss: 0.4296\n",
      "Epoch 252/1000\n",
      "622/622 [==============================] - 0s 77us/sample - loss: 0.4546 - val_loss: 0.4310\n",
      "Epoch 253/1000\n",
      "622/622 [==============================] - 0s 77us/sample - loss: 0.4588 - val_loss: 0.4340\n",
      "Epoch 254/1000\n",
      "622/622 [==============================] - 0s 64us/sample - loss: 0.4581 - val_loss: 0.4286\n",
      "Epoch 255/1000\n",
      "622/622 [==============================] - 0s 79us/sample - loss: 0.4558 - val_loss: 0.4314\n",
      "Epoch 256/1000\n",
      "622/622 [==============================] - 0s 64us/sample - loss: 0.4581 - val_loss: 0.4329\n",
      "Epoch 257/1000\n",
      "622/622 [==============================] - 0s 77us/sample - loss: 0.4564 - val_loss: 0.4291\n",
      "Epoch 258/1000\n",
      "622/622 [==============================] - 0s 64us/sample - loss: 0.4557 - val_loss: 0.4381\n",
      "Epoch 259/1000\n",
      "622/622 [==============================] - 0s 77us/sample - loss: 0.4552 - val_loss: 0.4310\n",
      "Epoch 260/1000\n",
      "622/622 [==============================] - 0s 73us/sample - loss: 0.4584 - val_loss: 0.4302\n",
      "Epoch 261/1000\n",
      "622/622 [==============================] - 0s 75us/sample - loss: 0.4556 - val_loss: 0.4307\n",
      "Epoch 262/1000\n",
      "622/622 [==============================] - 0s 77us/sample - loss: 0.4548 - val_loss: 0.4293\n",
      "Epoch 263/1000\n",
      "622/622 [==============================] - 0s 72us/sample - loss: 0.4552 - val_loss: 0.4332\n",
      "Epoch 264/1000\n",
      "622/622 [==============================] - 0s 71us/sample - loss: 0.4581 - val_loss: 0.4311\n",
      "Epoch 265/1000\n",
      "622/622 [==============================] - 0s 74us/sample - loss: 0.4557 - val_loss: 0.4302\n",
      "Epoch 266/1000\n",
      "622/622 [==============================] - 0s 89us/sample - loss: 0.4567 - val_loss: 0.4321\n",
      "Epoch 267/1000\n",
      "622/622 [==============================] - 0s 67us/sample - loss: 0.4573 - val_loss: 0.4386\n",
      "Epoch 268/1000\n",
      "622/622 [==============================] - 0s 86us/sample - loss: 0.4595 - val_loss: 0.4391\n",
      "Epoch 269/1000\n",
      "622/622 [==============================] - 0s 77us/sample - loss: 0.4564 - val_loss: 0.4288\n",
      "Epoch 270/1000\n",
      "622/622 [==============================] - 0s 72us/sample - loss: 0.4644 - val_loss: 0.4372\n",
      "Epoch 271/1000\n",
      "622/622 [==============================] - 0s 71us/sample - loss: 0.4622 - val_loss: 0.4283\n",
      "Epoch 272/1000\n",
      "622/622 [==============================] - 0s 76us/sample - loss: 0.4585 - val_loss: 0.4307\n",
      "Epoch 273/1000\n",
      "622/622 [==============================] - 0s 77us/sample - loss: 0.4576 - val_loss: 0.4352\n",
      "Epoch 274/1000\n",
      "622/622 [==============================] - 0s 84us/sample - loss: 0.4557 - val_loss: 0.4321\n",
      "Epoch 275/1000\n",
      "622/622 [==============================] - 0s 64us/sample - loss: 0.4529 - val_loss: 0.4340\n",
      "Epoch 276/1000\n",
      "622/622 [==============================] - 0s 79us/sample - loss: 0.4603 - val_loss: 0.4297\n",
      "Epoch 277/1000\n",
      "622/622 [==============================] - 0s 77us/sample - loss: 0.4571 - val_loss: 0.4299\n",
      "Epoch 278/1000\n",
      "622/622 [==============================] - 0s 78us/sample - loss: 0.4566 - val_loss: 0.4307\n",
      "Epoch 279/1000\n",
      "622/622 [==============================] - 0s 77us/sample - loss: 0.4574 - val_loss: 0.4329\n",
      "Epoch 280/1000\n",
      "622/622 [==============================] - 0s 75us/sample - loss: 0.4550 - val_loss: 0.4287\n",
      "Epoch 281/1000\n",
      "622/622 [==============================] - 0s 64us/sample - loss: 0.4556 - val_loss: 0.4267\n",
      "Epoch 282/1000\n",
      "622/622 [==============================] - 0s 65us/sample - loss: 0.4552 - val_loss: 0.4453\n",
      "Epoch 283/1000\n",
      "622/622 [==============================] - 0s 70us/sample - loss: 0.4618 - val_loss: 0.4283\n",
      "Epoch 284/1000\n",
      "622/622 [==============================] - 0s 66us/sample - loss: 0.4531 - val_loss: 0.4336\n",
      "Epoch 285/1000\n",
      "622/622 [==============================] - 0s 81us/sample - loss: 0.4540 - val_loss: 0.4335\n",
      "Epoch 286/1000\n",
      "622/622 [==============================] - 0s 65us/sample - loss: 0.4573 - val_loss: 0.4247\n",
      "Epoch 287/1000\n",
      "622/622 [==============================] - 0s 80us/sample - loss: 0.4518 - val_loss: 0.4313\n",
      "Epoch 288/1000\n",
      "622/622 [==============================] - 0s 67us/sample - loss: 0.4525 - val_loss: 0.4298\n",
      "Epoch 289/1000\n",
      "622/622 [==============================] - 0s 97us/sample - loss: 0.4570 - val_loss: 0.4252\n",
      "Epoch 290/1000\n",
      "622/622 [==============================] - 0s 64us/sample - loss: 0.4555 - val_loss: 0.4322\n",
      "Epoch 291/1000\n",
      "622/622 [==============================] - 0s 76us/sample - loss: 0.4609 - val_loss: 0.4424\n",
      "Epoch 292/1000\n",
      "622/622 [==============================] - 0s 77us/sample - loss: 0.4558 - val_loss: 0.4247\n",
      "Epoch 293/1000\n",
      "622/622 [==============================] - 0s 77us/sample - loss: 0.4570 - val_loss: 0.4303\n",
      "Epoch 294/1000\n",
      "622/622 [==============================] - 0s 77us/sample - loss: 0.4537 - val_loss: 0.4376\n",
      "Epoch 295/1000\n",
      "622/622 [==============================] - 0s 65us/sample - loss: 0.4485 - val_loss: 0.4373\n",
      "Epoch 296/1000\n",
      "622/622 [==============================] - 0s 80us/sample - loss: 0.4645 - val_loss: 0.4292\n",
      "Epoch 297/1000\n",
      "622/622 [==============================] - 0s 90us/sample - loss: 0.4534 - val_loss: 0.4289\n",
      "Epoch 298/1000\n",
      "622/622 [==============================] - 0s 71us/sample - loss: 0.4548 - val_loss: 0.4295\n",
      "Epoch 299/1000\n",
      "622/622 [==============================] - 0s 72us/sample - loss: 0.4521 - val_loss: 0.4245\n",
      "Epoch 300/1000\n",
      "622/622 [==============================] - 0s 77us/sample - loss: 0.4529 - val_loss: 0.4291\n",
      "Epoch 301/1000\n",
      "622/622 [==============================] - 0s 77us/sample - loss: 0.4533 - val_loss: 0.4273\n",
      "Epoch 302/1000\n",
      "622/622 [==============================] - 0s 77us/sample - loss: 0.4582 - val_loss: 0.4292\n",
      "Epoch 303/1000\n",
      "622/622 [==============================] - 0s 64us/sample - loss: 0.4549 - val_loss: 0.4366\n",
      "Epoch 304/1000\n",
      "622/622 [==============================] - 0s 77us/sample - loss: 0.4640 - val_loss: 0.4309\n",
      "Epoch 305/1000\n",
      "622/622 [==============================] - 0s 64us/sample - loss: 0.4540 - val_loss: 0.4284\n",
      "Epoch 306/1000\n",
      "622/622 [==============================] - 0s 77us/sample - loss: 0.4513 - val_loss: 0.4425\n",
      "Epoch 307/1000\n"
     ]
    },
    {
     "name": "stdout",
     "output_type": "stream",
     "text": [
      "622/622 [==============================] - 0s 77us/sample - loss: 0.4604 - val_loss: 0.4265\n",
      "Epoch 308/1000\n",
      "622/622 [==============================] - 0s 77us/sample - loss: 0.4535 - val_loss: 0.4304\n",
      "Epoch 309/1000\n",
      "622/622 [==============================] - 0s 77us/sample - loss: 0.4569 - val_loss: 0.4346\n",
      "Epoch 310/1000\n",
      "622/622 [==============================] - 0s 77us/sample - loss: 0.4551 - val_loss: 0.4235\n",
      "Epoch 311/1000\n",
      "622/622 [==============================] - 0s 90us/sample - loss: 0.4505 - val_loss: 0.4289\n",
      "Epoch 312/1000\n",
      "622/622 [==============================] - 0s 77us/sample - loss: 0.4533 - val_loss: 0.4351\n",
      "Epoch 313/1000\n",
      "622/622 [==============================] - 0s 77us/sample - loss: 0.4549 - val_loss: 0.4279\n",
      "Epoch 314/1000\n",
      "622/622 [==============================] - 0s 77us/sample - loss: 0.4514 - val_loss: 0.4343\n",
      "Epoch 315/1000\n",
      "622/622 [==============================] - 0s 64us/sample - loss: 0.4512 - val_loss: 0.4261\n",
      "Epoch 316/1000\n",
      "622/622 [==============================] - 0s 77us/sample - loss: 0.4517 - val_loss: 0.4280\n",
      "Epoch 317/1000\n",
      "622/622 [==============================] - 0s 64us/sample - loss: 0.4484 - val_loss: 0.4301\n",
      "Epoch 318/1000\n",
      "622/622 [==============================] - 0s 64us/sample - loss: 0.4517 - val_loss: 0.4291\n",
      "Epoch 319/1000\n",
      "622/622 [==============================] - 0s 77us/sample - loss: 0.4503 - val_loss: 0.4301\n",
      "Epoch 320/1000\n",
      "622/622 [==============================] - 0s 64us/sample - loss: 0.4520 - val_loss: 0.4273\n",
      "Epoch 321/1000\n",
      "622/622 [==============================] - 0s 77us/sample - loss: 0.4510 - val_loss: 0.4286\n",
      "Epoch 322/1000\n",
      "622/622 [==============================] - 0s 66us/sample - loss: 0.4500 - val_loss: 0.4269\n",
      "Epoch 323/1000\n",
      "622/622 [==============================] - 0s 81us/sample - loss: 0.4552 - val_loss: 0.4350\n",
      "Epoch 324/1000\n",
      "622/622 [==============================] - 0s 77us/sample - loss: 0.4594 - val_loss: 0.4238\n",
      "Epoch 325/1000\n",
      "622/622 [==============================] - 0s 77us/sample - loss: 0.4493 - val_loss: 0.4295\n",
      "Epoch 326/1000\n",
      "622/622 [==============================] - 0s 74us/sample - loss: 0.4511 - val_loss: 0.4324\n",
      "Epoch 327/1000\n",
      "622/622 [==============================] - 0s 65us/sample - loss: 0.4524 - val_loss: 0.4295\n",
      "Epoch 328/1000\n",
      "622/622 [==============================] - 0s 68us/sample - loss: 0.4520 - val_loss: 0.4299\n",
      "Epoch 329/1000\n",
      "622/622 [==============================] - 0s 71us/sample - loss: 0.4520 - val_loss: 0.4265\n",
      "Epoch 330/1000\n",
      "622/622 [==============================] - 0s 74us/sample - loss: 0.4539 - val_loss: 0.4273\n",
      "Epoch 331/1000\n",
      "622/622 [==============================] - 0s 77us/sample - loss: 0.4492 - val_loss: 0.4343\n",
      "Epoch 332/1000\n",
      "622/622 [==============================] - 0s 72us/sample - loss: 0.4490 - val_loss: 0.4295\n",
      "Epoch 333/1000\n",
      "622/622 [==============================] - 0s 81us/sample - loss: 0.4562 - val_loss: 0.4275\n",
      "Epoch 334/1000\n",
      "622/622 [==============================] - 0s 83us/sample - loss: 0.4511 - val_loss: 0.4256\n",
      "Epoch 335/1000\n",
      "622/622 [==============================] - 0s 76us/sample - loss: 0.4506 - val_loss: 0.4340\n",
      "Epoch 336/1000\n",
      "622/622 [==============================] - 0s 70us/sample - loss: 0.4547 - val_loss: 0.4440\n",
      "Epoch 337/1000\n",
      "622/622 [==============================] - 0s 77us/sample - loss: 0.4550 - val_loss: 0.4295\n",
      "Epoch 338/1000\n",
      "622/622 [==============================] - 0s 69us/sample - loss: 0.4504 - val_loss: 0.4231\n",
      "Epoch 339/1000\n",
      "622/622 [==============================] - 0s 65us/sample - loss: 0.4493 - val_loss: 0.4326\n",
      "Epoch 340/1000\n",
      "622/622 [==============================] - 0s 69us/sample - loss: 0.4506 - val_loss: 0.4266\n",
      "Epoch 341/1000\n",
      "622/622 [==============================] - 0s 80us/sample - loss: 0.4521 - val_loss: 0.4217\n",
      "Epoch 342/1000\n",
      "622/622 [==============================] - 0s 78us/sample - loss: 0.4577 - val_loss: 0.4407\n",
      "Epoch 343/1000\n",
      "622/622 [==============================] - 0s 71us/sample - loss: 0.4485 - val_loss: 0.4229\n",
      "Epoch 344/1000\n",
      "622/622 [==============================] - 0s 77us/sample - loss: 0.4527 - val_loss: 0.4323\n",
      "Epoch 345/1000\n",
      "622/622 [==============================] - 0s 71us/sample - loss: 0.4631 - val_loss: 0.4262\n",
      "Epoch 346/1000\n",
      "622/622 [==============================] - 0s 64us/sample - loss: 0.4761 - val_loss: 0.4322\n",
      "Epoch 347/1000\n",
      "622/622 [==============================] - 0s 69us/sample - loss: 0.4469 - val_loss: 0.4271\n",
      "Epoch 348/1000\n",
      "622/622 [==============================] - 0s 65us/sample - loss: 0.4512 - val_loss: 0.4289\n",
      "Epoch 349/1000\n",
      "622/622 [==============================] - 0s 75us/sample - loss: 0.4522 - val_loss: 0.4233\n",
      "Epoch 350/1000\n",
      "622/622 [==============================] - 0s 74us/sample - loss: 0.4500 - val_loss: 0.4279\n",
      "Epoch 351/1000\n",
      "622/622 [==============================] - 0s 79us/sample - loss: 0.4479 - val_loss: 0.4227\n",
      "Epoch 352/1000\n",
      "622/622 [==============================] - 0s 69us/sample - loss: 0.4499 - val_loss: 0.4274\n",
      "Epoch 353/1000\n",
      "622/622 [==============================] - 0s 78us/sample - loss: 0.4542 - val_loss: 0.4308\n",
      "Epoch 354/1000\n",
      "622/622 [==============================] - 0s 77us/sample - loss: 0.4462 - val_loss: 0.4295\n",
      "Epoch 355/1000\n",
      "622/622 [==============================] - 0s 77us/sample - loss: 0.4500 - val_loss: 0.4285\n",
      "Epoch 356/1000\n",
      "622/622 [==============================] - 0s 87us/sample - loss: 0.4488 - val_loss: 0.4228\n",
      "Epoch 357/1000\n",
      "622/622 [==============================] - 0s 64us/sample - loss: 0.4482 - val_loss: 0.4226\n",
      "Epoch 358/1000\n",
      "622/622 [==============================] - 0s 79us/sample - loss: 0.4524 - val_loss: 0.4244\n",
      "Epoch 359/1000\n",
      "622/622 [==============================] - 0s 64us/sample - loss: 0.4511 - val_loss: 0.4239\n",
      "Epoch 360/1000\n",
      "622/622 [==============================] - 0s 75us/sample - loss: 0.4489 - val_loss: 0.4246\n",
      "Epoch 361/1000\n",
      "622/622 [==============================] - 0s 77us/sample - loss: 0.4491 - val_loss: 0.4288\n",
      "Epoch 362/1000\n",
      "622/622 [==============================] - 0s 75us/sample - loss: 0.4562 - val_loss: 0.4371\n",
      "Epoch 363/1000\n",
      "622/622 [==============================] - 0s 72us/sample - loss: 0.4620 - val_loss: 0.4196\n",
      "Epoch 364/1000\n",
      "622/622 [==============================] - 0s 90us/sample - loss: 0.4729 - val_loss: 0.4345\n",
      "Epoch 365/1000\n",
      "622/622 [==============================] - 0s 64us/sample - loss: 0.4642 - val_loss: 0.4277\n",
      "Epoch 366/1000\n",
      "622/622 [==============================] - 0s 77us/sample - loss: 0.4484 - val_loss: 0.4597\n",
      "Epoch 367/1000\n",
      "622/622 [==============================] - 0s 90us/sample - loss: 0.4697 - val_loss: 0.4236\n",
      "Epoch 368/1000\n",
      "622/622 [==============================] - 0s 64us/sample - loss: 0.4539 - val_loss: 0.4283\n",
      "Epoch 369/1000\n",
      "622/622 [==============================] - 0s 77us/sample - loss: 0.4630 - val_loss: 0.4285\n",
      "Epoch 370/1000\n",
      "622/622 [==============================] - 0s 64us/sample - loss: 0.4445 - val_loss: 0.4290\n",
      "Epoch 371/1000\n",
      "622/622 [==============================] - 0s 77us/sample - loss: 0.4543 - val_loss: 0.4273\n",
      "Epoch 372/1000\n",
      "622/622 [==============================] - 0s 64us/sample - loss: 0.4569 - val_loss: 0.4422\n",
      "Epoch 373/1000\n",
      "622/622 [==============================] - 0s 77us/sample - loss: 0.4666 - val_loss: 0.4227\n",
      "Epoch 374/1000\n",
      "622/622 [==============================] - 0s 64us/sample - loss: 0.4502 - val_loss: 0.4260\n",
      "Epoch 375/1000\n",
      "622/622 [==============================] - 0s 64us/sample - loss: 0.4497 - val_loss: 0.4254\n",
      "Epoch 376/1000\n",
      "622/622 [==============================] - 0s 77us/sample - loss: 0.4517 - val_loss: 0.4293\n",
      "Epoch 377/1000\n",
      "622/622 [==============================] - 0s 90us/sample - loss: 0.4465 - val_loss: 0.4234\n",
      "Epoch 378/1000\n",
      "622/622 [==============================] - 0s 77us/sample - loss: 0.4523 - val_loss: 0.4224\n",
      "Epoch 379/1000\n",
      "622/622 [==============================] - 0s 64us/sample - loss: 0.4549 - val_loss: 0.4191\n",
      "Epoch 380/1000\n",
      "622/622 [==============================] - 0s 77us/sample - loss: 0.4606 - val_loss: 0.4317\n",
      "Epoch 381/1000\n",
      "622/622 [==============================] - 0s 77us/sample - loss: 0.4472 - val_loss: 0.4226\n",
      "Epoch 382/1000\n",
      "622/622 [==============================] - 0s 77us/sample - loss: 0.4535 - val_loss: 0.4263\n",
      "Epoch 383/1000\n",
      "622/622 [==============================] - 0s 77us/sample - loss: 0.4569 - val_loss: 0.4231\n",
      "Epoch 384/1000\n",
      "622/622 [==============================] - 0s 90us/sample - loss: 0.4497 - val_loss: 0.4392\n",
      "Epoch 385/1000\n",
      "622/622 [==============================] - 0s 77us/sample - loss: 0.4552 - val_loss: 0.4240\n",
      "Epoch 386/1000\n",
      "622/622 [==============================] - 0s 75us/sample - loss: 0.4506 - val_loss: 0.4204\n",
      "Epoch 387/1000\n",
      "622/622 [==============================] - 0s 65us/sample - loss: 0.4477 - val_loss: 0.4283\n",
      "Epoch 388/1000\n",
      "622/622 [==============================] - 0s 71us/sample - loss: 0.4479 - val_loss: 0.4180\n",
      "Epoch 389/1000\n",
      "622/622 [==============================] - 0s 79us/sample - loss: 0.4468 - val_loss: 0.4331\n",
      "Epoch 390/1000\n",
      "622/622 [==============================] - 0s 79us/sample - loss: 0.4540 - val_loss: 0.4228\n",
      "Epoch 391/1000\n",
      "622/622 [==============================] - 0s 54us/sample - loss: 0.4488 - val_loss: 0.4236\n",
      "Epoch 392/1000\n",
      "622/622 [==============================] - 0s 80us/sample - loss: 0.4453 - val_loss: 0.4256\n",
      "Epoch 393/1000\n",
      "622/622 [==============================] - 0s 76us/sample - loss: 0.4496 - val_loss: 0.4249\n",
      "Epoch 394/1000\n",
      "622/622 [==============================] - 0s 71us/sample - loss: 0.4497 - val_loss: 0.4206\n",
      "Epoch 395/1000\n",
      "622/622 [==============================] - 0s 79us/sample - loss: 0.4480 - val_loss: 0.4209\n",
      "Epoch 396/1000\n",
      "622/622 [==============================] - 0s 77us/sample - loss: 0.4471 - val_loss: 0.4279\n",
      "Epoch 397/1000\n",
      "622/622 [==============================] - 0s 70us/sample - loss: 0.4506 - val_loss: 0.4206\n",
      "Epoch 398/1000\n",
      "622/622 [==============================] - 0s 69us/sample - loss: 0.4464 - val_loss: 0.4253\n",
      "Epoch 399/1000\n",
      "622/622 [==============================] - 0s 94us/sample - loss: 0.4490 - val_loss: 0.4203\n",
      "Epoch 400/1000\n",
      "622/622 [==============================] - 0s 80us/sample - loss: 0.4488 - val_loss: 0.4241\n",
      "Epoch 401/1000\n",
      "622/622 [==============================] - 0s 77us/sample - loss: 0.4475 - val_loss: 0.4242\n",
      "Epoch 402/1000\n",
      "622/622 [==============================] - 0s 74us/sample - loss: 0.4470 - val_loss: 0.4277\n",
      "Epoch 403/1000\n",
      "622/622 [==============================] - 0s 64us/sample - loss: 0.4477 - val_loss: 0.4233\n",
      "Epoch 404/1000\n",
      "622/622 [==============================] - 0s 68us/sample - loss: 0.4463 - val_loss: 0.4219\n",
      "Epoch 405/1000\n",
      "622/622 [==============================] - 0s 64us/sample - loss: 0.4467 - val_loss: 0.4201\n",
      "Epoch 406/1000\n",
      "622/622 [==============================] - 0s 57us/sample - loss: 0.4537 - val_loss: 0.4241\n",
      "Epoch 407/1000\n",
      "622/622 [==============================] - 0s 91us/sample - loss: 0.4463 - val_loss: 0.4199\n",
      "Epoch 408/1000\n",
      "622/622 [==============================] - 0s 77us/sample - loss: 0.4478 - val_loss: 0.4212\n",
      "Epoch 409/1000\n",
      "622/622 [==============================] - 0s 73us/sample - loss: 0.4441 - val_loss: 0.4341\n",
      "Epoch 410/1000\n",
      "622/622 [==============================] - 0s 77us/sample - loss: 0.4571 - val_loss: 0.4261\n",
      "Epoch 411/1000\n",
      "622/622 [==============================] - 0s 79us/sample - loss: 0.4532 - val_loss: 0.4217\n",
      "Epoch 412/1000\n",
      "622/622 [==============================] - 0s 77us/sample - loss: 0.4486 - val_loss: 0.4222\n",
      "Epoch 413/1000\n",
      "622/622 [==============================] - 0s 89us/sample - loss: 0.4448 - val_loss: 0.4266\n",
      "Epoch 414/1000\n",
      "622/622 [==============================] - 0s 64us/sample - loss: 0.4482 - val_loss: 0.4202\n",
      "Epoch 415/1000\n",
      "622/622 [==============================] - 0s 68us/sample - loss: 0.4468 - val_loss: 0.4271\n",
      "Epoch 416/1000\n",
      "622/622 [==============================] - 0s 77us/sample - loss: 0.4498 - val_loss: 0.4213\n",
      "Epoch 417/1000\n",
      "622/622 [==============================] - 0s 72us/sample - loss: 0.4467 - val_loss: 0.4241\n",
      "Epoch 418/1000\n",
      "622/622 [==============================] - 0s 64us/sample - loss: 0.4498 - val_loss: 0.4232\n",
      "Epoch 419/1000\n",
      "622/622 [==============================] - 0s 80us/sample - loss: 0.4521 - val_loss: 0.4226\n",
      "Epoch 420/1000\n",
      "622/622 [==============================] - 0s 64us/sample - loss: 0.4456 - val_loss: 0.4261\n",
      "Epoch 421/1000\n",
      "622/622 [==============================] - 0s 83us/sample - loss: 0.4488 - val_loss: 0.4284\n",
      "Epoch 422/1000\n",
      "622/622 [==============================] - 0s 93us/sample - loss: 0.4468 - val_loss: 0.4205\n",
      "Epoch 423/1000\n",
      "622/622 [==============================] - 0s 72us/sample - loss: 0.4460 - val_loss: 0.4226\n",
      "Epoch 424/1000\n",
      "622/622 [==============================] - 0s 77us/sample - loss: 0.4495 - val_loss: 0.4243\n",
      "Epoch 425/1000\n",
      "622/622 [==============================] - 0s 70us/sample - loss: 0.4460 - val_loss: 0.4214\n",
      "Epoch 426/1000\n",
      "622/622 [==============================] - 0s 77us/sample - loss: 0.4495 - val_loss: 0.4276\n",
      "Epoch 427/1000\n",
      "622/622 [==============================] - 0s 71us/sample - loss: 0.4492 - val_loss: 0.4218\n",
      "Epoch 428/1000\n",
      "622/622 [==============================] - 0s 64us/sample - loss: 0.4448 - val_loss: 0.4254\n",
      "Epoch 429/1000\n",
      "622/622 [==============================] - 0s 77us/sample - loss: 0.4458 - val_loss: 0.4211\n",
      "Epoch 430/1000\n",
      "622/622 [==============================] - 0s 64us/sample - loss: 0.4441 - val_loss: 0.4263\n",
      "Epoch 431/1000\n",
      "622/622 [==============================] - 0s 64us/sample - loss: 0.4464 - val_loss: 0.4238\n",
      "Epoch 432/1000\n",
      "622/622 [==============================] - 0s 64us/sample - loss: 0.4505 - val_loss: 0.4215\n",
      "Epoch 433/1000\n",
      "622/622 [==============================] - 0s 66us/sample - loss: 0.4451 - val_loss: 0.4197\n",
      "Epoch 434/1000\n",
      "622/622 [==============================] - 0s 77us/sample - loss: 0.4465 - val_loss: 0.4261\n",
      "Epoch 435/1000\n",
      "622/622 [==============================] - 0s 64us/sample - loss: 0.4515 - val_loss: 0.4194\n",
      "Epoch 436/1000\n",
      "622/622 [==============================] - 0s 77us/sample - loss: 0.4517 - val_loss: 0.4305\n",
      "Epoch 437/1000\n",
      "622/622 [==============================] - 0s 77us/sample - loss: 0.4545 - val_loss: 0.4263\n",
      "Epoch 438/1000\n",
      "622/622 [==============================] - 0s 64us/sample - loss: 0.4592 - val_loss: 0.4327\n",
      "Epoch 00438: early stopping\n"
     ]
    },
    {
     "data": {
      "text/plain": [
       "<tensorflow.python.keras.callbacks.History at 0x16e189f1308>"
      ]
     },
     "execution_count": 166,
     "metadata": {},
     "output_type": "execute_result"
    }
   ],
   "source": [
    "model.fit(x=X_train,y=y_train, validation_data=(X_cval, y_cval), epochs=1000, verbose=1, callbacks=[early_stop] )"
   ]
  },
  {
   "cell_type": "code",
   "execution_count": 167,
   "metadata": {},
   "outputs": [],
   "source": [
    "model_loss = pd.DataFrame(model.history.history)"
   ]
  },
  {
   "cell_type": "code",
   "execution_count": 168,
   "metadata": {},
   "outputs": [
    {
     "data": {
      "text/plain": [
       "<matplotlib.axes._subplots.AxesSubplot at 0x16e18f73308>"
      ]
     },
     "execution_count": 168,
     "metadata": {},
     "output_type": "execute_result"
    },
    {
     "data": {
      "image/png": "[encoded data removed]",
      "text/plain": [
       "<Figure size 432x288 with 1 Axes>"
      ]
     },
     "metadata": {
      "needs_background": "light"
     },
     "output_type": "display_data"
    }
   ],
   "source": [
    "model_loss.plot()"
   ]
  },
  {
   "cell_type": "code",
   "execution_count": 169,
   "metadata": {},
   "outputs": [],
   "source": [
    "from sklearn.metrics import confusion_matrix, classification_report"
   ]
  },
  {
   "cell_type": "code",
   "execution_count": 170,
   "metadata": {},
   "outputs": [],
   "source": [
    "predictions = model.predict_classes(X_cval)\n"
   ]
  },
  {
   "cell_type": "code",
   "execution_count": 171,
   "metadata": {},
   "outputs": [
    {
     "name": "stdout",
     "output_type": "stream",
     "text": [
      "[[140  36]\n",
      " [ 21  70]]\n",
      "\n",
      "\n",
      "              precision    recall  f1-score   support\n",
      "\n",
      "           0       0.87      0.80      0.83       176\n",
      "           1       0.66      0.77      0.71        91\n",
      "\n",
      "    accuracy                           0.79       267\n",
      "   macro avg       0.76      0.78      0.77       267\n",
      "weighted avg       0.80      0.79      0.79       267\n",
      "\n"
     ]
    }
   ],
   "source": [
    "print(confusion_matrix(y_cval, predictions))\n",
    "print('\\n')\n",
    "print(classification_report(y_cval, predictions))"
   ]
  },
  {
   "cell_type": "code",
   "execution_count": 172,
   "metadata": {},
   "outputs": [],
   "source": [
    "from sklearn.svm import SVC"
   ]
  },
  {
   "cell_type": "code",
   "execution_count": 173,
   "metadata": {},
   "outputs": [
    {
     "data": {
      "text/plain": [
       "SVC(C=1.0, break_ties=False, cache_size=200, class_weight=None, coef0=0.0,\n",
       "    decision_function_shape='ovr', degree=3, gamma='scale', kernel='rbf',\n",
       "    max_iter=-1, probability=False, random_state=None, shrinking=True,\n",
       "    tol=0.001, verbose=False)"
      ]
     },
     "execution_count": 173,
     "metadata": {},
     "output_type": "execute_result"
    }
   ],
   "source": [
    "svc = SVC()\n",
    "svc.fit(X_train, y_train)"
   ]
  },
  {
   "cell_type": "code",
   "execution_count": 174,
   "metadata": {},
   "outputs": [
    {
     "data": {
      "text/plain": [
       "array([0, 1, 1, 0, 0, 0, 1, 0, 0, 0, 0, 0, 0, 0, 0, 0, 0, 0, 0, 0, 0, 0,\n",
       "       1, 0, 0, 0, 0, 0, 1, 0, 1, 0, 0, 0, 0, 0, 0, 0, 0, 1, 1, 0, 0, 0,\n",
       "       0, 1, 0, 0, 0, 0, 0, 0, 0, 0, 0, 1, 0, 0, 0, 0, 0, 0, 0, 0, 0, 0,\n",
       "       1, 0, 1, 0, 0, 1, 0, 1, 0, 0, 0, 1, 0, 0, 0, 0, 1, 0, 0, 1, 0, 0,\n",
       "       0, 0, 1, 0, 0, 0, 0, 0, 1, 0, 1, 0, 0, 0, 0, 0, 0, 0, 0, 0, 0, 0,\n",
       "       0, 0, 0, 0, 0, 0, 1, 0, 0, 0, 1, 0, 0, 0, 0, 0, 1, 0, 1, 0, 0, 0,\n",
       "       0, 0, 0, 0, 0, 0, 0, 0, 1, 0, 0, 0, 0, 0, 0, 1, 0, 0, 0, 1, 0, 0,\n",
       "       0, 0, 0, 0, 0, 1, 0, 0, 0, 0, 1, 0, 0, 0, 1, 0, 1, 0, 1, 0, 1, 0,\n",
       "       0, 0, 1, 1, 0, 0, 0, 0, 0, 0, 1, 1, 0, 0, 0, 0, 0, 0, 1, 0, 0, 0,\n",
       "       0, 0, 0, 0, 0, 0, 0, 0, 1, 0, 0, 1, 0, 0, 1, 1, 0, 1, 0, 0, 1, 0,\n",
       "       0, 0, 0, 0, 0, 1, 0, 0, 1, 1, 0, 0, 0, 0, 0, 0, 1, 0, 0, 0, 0, 0,\n",
       "       0, 1, 0, 0, 0, 0, 0, 0, 0, 0, 0, 0, 0, 0, 1, 0, 0, 0, 0, 0, 0, 0,\n",
       "       1, 0, 0], dtype=int64)"
      ]
     },
     "execution_count": 174,
     "metadata": {},
     "output_type": "execute_result"
    }
   ],
   "source": [
    "svc.predict(X_cval)"
   ]
  },
  {
   "cell_type": "code",
   "execution_count": 175,
   "metadata": {},
   "outputs": [],
   "source": [
    "predictions = svc.predict(X_cval)\n"
   ]
  },
  {
   "cell_type": "code",
   "execution_count": 176,
   "metadata": {},
   "outputs": [
    {
     "name": "stdout",
     "output_type": "stream",
     "text": [
      "[[157  19]\n",
      " [ 59  32]]\n",
      "\n",
      "\n",
      "              precision    recall  f1-score   support\n",
      "\n",
      "           0       0.73      0.89      0.80       176\n",
      "           1       0.63      0.35      0.45        91\n",
      "\n",
      "    accuracy                           0.71       267\n",
      "   macro avg       0.68      0.62      0.63       267\n",
      "weighted avg       0.69      0.71      0.68       267\n",
      "\n"
     ]
    }
   ],
   "source": [
    "print(confusion_matrix(y_cval, predictions))\n",
    "print('\\n')\n",
    "print(classification_report(y_cval, predictions))"
   ]
  },
  {
   "cell_type": "code",
   "execution_count": 177,
   "metadata": {},
   "outputs": [],
   "source": [
    "from sklearn.linear_model import LogisticRegression\n",
    "\n",
    "log = LogisticRegression()"
   ]
  },
  {
   "cell_type": "code",
   "execution_count": 178,
   "metadata": {},
   "outputs": [
    {
     "name": "stderr",
     "output_type": "stream",
     "text": [
      "C:\\Users\\akshay\\anaconda3\\lib\\site-packages\\sklearn\\linear_model\\_logistic.py:940: ConvergenceWarning: lbfgs failed to converge (status=1):\n",
      "STOP: TOTAL NO. of ITERATIONS REACHED LIMIT.\n",
      "\n",
      "Increase the number of iterations (max_iter) or scale the data as shown in:\n",
      "    https://scikit-learn.org/stable/modules/preprocessing.html\n",
      "Please also refer to the documentation for alternative solver options:\n",
      "    https://scikit-learn.org/stable/modules/linear_model.html#logistic-regression\n",
      "  extra_warning_msg=_LOGISTIC_SOLVER_CONVERGENCE_MSG)\n"
     ]
    },
    {
     "data": {
      "text/plain": [
       "LogisticRegression(C=1.0, class_weight=None, dual=False, fit_intercept=True,\n",
       "                   intercept_scaling=1, l1_ratio=None, max_iter=100,\n",
       "                   multi_class='auto', n_jobs=None, penalty='l2',\n",
       "                   random_state=None, solver='lbfgs', tol=0.0001, verbose=0,\n",
       "                   warm_start=False)"
      ]
     },
     "execution_count": 178,
     "metadata": {},
     "output_type": "execute_result"
    }
   ],
   "source": [
    "log.fit(X_train, y_train)\n"
   ]
  },
  {
   "cell_type": "code",
   "execution_count": 179,
   "metadata": {},
   "outputs": [],
   "source": [
    "predictions = log.predict(X_cval)"
   ]
  },
  {
   "cell_type": "code",
   "execution_count": 180,
   "metadata": {},
   "outputs": [
    {
     "name": "stdout",
     "output_type": "stream",
     "text": [
      "[[160  16]\n",
      " [ 28  63]]\n",
      "\n",
      "\n",
      "              precision    recall  f1-score   support\n",
      "\n",
      "           0       0.85      0.91      0.88       176\n",
      "           1       0.80      0.69      0.74        91\n",
      "\n",
      "    accuracy                           0.84       267\n",
      "   macro avg       0.82      0.80      0.81       267\n",
      "weighted avg       0.83      0.84      0.83       267\n",
      "\n"
     ]
    }
   ],
   "source": [
    "print(confusion_matrix(y_cval, predictions))\n",
    "print('\\n')\n",
    "print(classification_report(y_cval, predictions))"
   ]
  },
  {
   "cell_type": "code",
   "execution_count": 181,
   "metadata": {},
   "outputs": [],
   "source": [
    "from sklearn.pipeline import Pipeline"
   ]
  },
  {
   "cell_type": "code",
   "execution_count": 316,
   "metadata": {},
   "outputs": [],
   "source": [
    "test_df = pd.read_csv('test.csv',index_col=0)"
   ]
  },
  {
   "cell_type": "code",
   "execution_count": 317,
   "metadata": {},
   "outputs": [
    {
     "data": {
      "text/html": [
       "<div>\n",
       "<style scoped>\n",
       "    .dataframe tbody tr th:only-of-type {\n",
       "        vertical-align: middle;\n",
       "    }\n",
       "\n",
       "    .dataframe tbody tr th {\n",
       "        vertical-align: top;\n",
       "    }\n",
       "\n",
       "    .dataframe thead th {\n",
       "        text-align: right;\n",
       "    }\n",
       "</style>\n",
       "<table border=\"1\" class=\"dataframe\">\n",
       "  <thead>\n",
       "    <tr style=\"text-align: right;\">\n",
       "      <th></th>\n",
       "      <th>Pclass</th>\n",
       "      <th>Name</th>\n",
       "      <th>Sex</th>\n",
       "      <th>Age</th>\n",
       "      <th>SibSp</th>\n",
       "      <th>Parch</th>\n",
       "      <th>Ticket</th>\n",
       "      <th>Fare</th>\n",
       "      <th>Cabin</th>\n",
       "      <th>Embarked</th>\n",
       "    </tr>\n",
       "    <tr>\n",
       "      <th>PassengerId</th>\n",
       "      <th></th>\n",
       "      <th></th>\n",
       "      <th></th>\n",
       "      <th></th>\n",
       "      <th></th>\n",
       "      <th></th>\n",
       "      <th></th>\n",
       "      <th></th>\n",
       "      <th></th>\n",
       "      <th></th>\n",
       "    </tr>\n",
       "  </thead>\n",
       "  <tbody>\n",
       "    <tr>\n",
       "      <th>892</th>\n",
       "      <td>3</td>\n",
       "      <td>Kelly, Mr. James</td>\n",
       "      <td>male</td>\n",
       "      <td>34.5</td>\n",
       "      <td>0</td>\n",
       "      <td>0</td>\n",
       "      <td>330911</td>\n",
       "      <td>7.8292</td>\n",
       "      <td>NaN</td>\n",
       "      <td>Q</td>\n",
       "    </tr>\n",
       "    <tr>\n",
       "      <th>893</th>\n",
       "      <td>3</td>\n",
       "      <td>Wilkes, Mrs. James (Ellen Needs)</td>\n",
       "      <td>female</td>\n",
       "      <td>47.0</td>\n",
       "      <td>1</td>\n",
       "      <td>0</td>\n",
       "      <td>363272</td>\n",
       "      <td>7.0000</td>\n",
       "      <td>NaN</td>\n",
       "      <td>S</td>\n",
       "    </tr>\n",
       "    <tr>\n",
       "      <th>894</th>\n",
       "      <td>2</td>\n",
       "      <td>Myles, Mr. Thomas Francis</td>\n",
       "      <td>male</td>\n",
       "      <td>62.0</td>\n",
       "      <td>0</td>\n",
       "      <td>0</td>\n",
       "      <td>240276</td>\n",
       "      <td>9.6875</td>\n",
       "      <td>NaN</td>\n",
       "      <td>Q</td>\n",
       "    </tr>\n",
       "    <tr>\n",
       "      <th>895</th>\n",
       "      <td>3</td>\n",
       "      <td>Wirz, Mr. Albert</td>\n",
       "      <td>male</td>\n",
       "      <td>27.0</td>\n",
       "      <td>0</td>\n",
       "      <td>0</td>\n",
       "      <td>315154</td>\n",
       "      <td>8.6625</td>\n",
       "      <td>NaN</td>\n",
       "      <td>S</td>\n",
       "    </tr>\n",
       "    <tr>\n",
       "      <th>896</th>\n",
       "      <td>3</td>\n",
       "      <td>Hirvonen, Mrs. Alexander (Helga E Lindqvist)</td>\n",
       "      <td>female</td>\n",
       "      <td>22.0</td>\n",
       "      <td>1</td>\n",
       "      <td>1</td>\n",
       "      <td>3101298</td>\n",
       "      <td>12.2875</td>\n",
       "      <td>NaN</td>\n",
       "      <td>S</td>\n",
       "    </tr>\n",
       "  </tbody>\n",
       "</table>\n",
       "</div>"
      ],
      "text/plain": [
       "             Pclass                                          Name     Sex  \\\n",
       "PassengerId                                                                 \n",
       "892               3                              Kelly, Mr. James    male   \n",
       "893               3              Wilkes, Mrs. James (Ellen Needs)  female   \n",
       "894               2                     Myles, Mr. Thomas Francis    male   \n",
       "895               3                              Wirz, Mr. Albert    male   \n",
       "896               3  Hirvonen, Mrs. Alexander (Helga E Lindqvist)  female   \n",
       "\n",
       "              Age  SibSp  Parch   Ticket     Fare Cabin Embarked  \n",
       "PassengerId                                                       \n",
       "892          34.5      0      0   330911   7.8292   NaN        Q  \n",
       "893          47.0      1      0   363272   7.0000   NaN        S  \n",
       "894          62.0      0      0   240276   9.6875   NaN        Q  \n",
       "895          27.0      0      0   315154   8.6625   NaN        S  \n",
       "896          22.0      1      1  3101298  12.2875   NaN        S  "
      ]
     },
     "execution_count": 317,
     "metadata": {},
     "output_type": "execute_result"
    }
   ],
   "source": [
    "test_df.head()"
   ]
  },
  {
   "cell_type": "code",
   "execution_count": 318,
   "metadata": {},
   "outputs": [],
   "source": [
    "test_df = test_df.drop(['Name', 'Ticket', 'Cabin' ], axis=1)"
   ]
  },
  {
   "cell_type": "code",
   "execution_count": 319,
   "metadata": {},
   "outputs": [
    {
     "data": {
      "text/html": [
       "<div>\n",
       "<style scoped>\n",
       "    .dataframe tbody tr th:only-of-type {\n",
       "        vertical-align: middle;\n",
       "    }\n",
       "\n",
       "    .dataframe tbody tr th {\n",
       "        vertical-align: top;\n",
       "    }\n",
       "\n",
       "    .dataframe thead th {\n",
       "        text-align: right;\n",
       "    }\n",
       "</style>\n",
       "<table border=\"1\" class=\"dataframe\">\n",
       "  <thead>\n",
       "    <tr style=\"text-align: right;\">\n",
       "      <th></th>\n",
       "      <th>Pclass</th>\n",
       "      <th>Sex</th>\n",
       "      <th>Age</th>\n",
       "      <th>SibSp</th>\n",
       "      <th>Parch</th>\n",
       "      <th>Fare</th>\n",
       "      <th>Embarked</th>\n",
       "    </tr>\n",
       "    <tr>\n",
       "      <th>PassengerId</th>\n",
       "      <th></th>\n",
       "      <th></th>\n",
       "      <th></th>\n",
       "      <th></th>\n",
       "      <th></th>\n",
       "      <th></th>\n",
       "      <th></th>\n",
       "    </tr>\n",
       "  </thead>\n",
       "  <tbody>\n",
       "    <tr>\n",
       "      <th>892</th>\n",
       "      <td>3</td>\n",
       "      <td>male</td>\n",
       "      <td>34.5</td>\n",
       "      <td>0</td>\n",
       "      <td>0</td>\n",
       "      <td>7.8292</td>\n",
       "      <td>Q</td>\n",
       "    </tr>\n",
       "    <tr>\n",
       "      <th>893</th>\n",
       "      <td>3</td>\n",
       "      <td>female</td>\n",
       "      <td>47.0</td>\n",
       "      <td>1</td>\n",
       "      <td>0</td>\n",
       "      <td>7.0000</td>\n",
       "      <td>S</td>\n",
       "    </tr>\n",
       "    <tr>\n",
       "      <th>894</th>\n",
       "      <td>2</td>\n",
       "      <td>male</td>\n",
       "      <td>62.0</td>\n",
       "      <td>0</td>\n",
       "      <td>0</td>\n",
       "      <td>9.6875</td>\n",
       "      <td>Q</td>\n",
       "    </tr>\n",
       "    <tr>\n",
       "      <th>895</th>\n",
       "      <td>3</td>\n",
       "      <td>male</td>\n",
       "      <td>27.0</td>\n",
       "      <td>0</td>\n",
       "      <td>0</td>\n",
       "      <td>8.6625</td>\n",
       "      <td>S</td>\n",
       "    </tr>\n",
       "    <tr>\n",
       "      <th>896</th>\n",
       "      <td>3</td>\n",
       "      <td>female</td>\n",
       "      <td>22.0</td>\n",
       "      <td>1</td>\n",
       "      <td>1</td>\n",
       "      <td>12.2875</td>\n",
       "      <td>S</td>\n",
       "    </tr>\n",
       "  </tbody>\n",
       "</table>\n",
       "</div>"
      ],
      "text/plain": [
       "             Pclass     Sex   Age  SibSp  Parch     Fare Embarked\n",
       "PassengerId                                                      \n",
       "892               3    male  34.5      0      0   7.8292        Q\n",
       "893               3  female  47.0      1      0   7.0000        S\n",
       "894               2    male  62.0      0      0   9.6875        Q\n",
       "895               3    male  27.0      0      0   8.6625        S\n",
       "896               3  female  22.0      1      1  12.2875        S"
      ]
     },
     "execution_count": 319,
     "metadata": {},
     "output_type": "execute_result"
    }
   ],
   "source": [
    "test_df.head()"
   ]
  },
  {
   "cell_type": "code",
   "execution_count": 320,
   "metadata": {},
   "outputs": [],
   "source": [
    "test_df['Age'] = test_df['Age'].fillna(test_df['Age'].mean())"
   ]
  },
  {
   "cell_type": "code",
   "execution_count": 321,
   "metadata": {},
   "outputs": [
    {
     "data": {
      "text/plain": [
       "Pclass      0\n",
       "Sex         0\n",
       "Age         0\n",
       "SibSp       0\n",
       "Parch       0\n",
       "Fare        1\n",
       "Embarked    0\n",
       "dtype: int64"
      ]
     },
     "execution_count": 321,
     "metadata": {},
     "output_type": "execute_result"
    }
   ],
   "source": [
    "test_df.isnull().sum()"
   ]
  },
  {
   "cell_type": "code",
   "execution_count": 322,
   "metadata": {},
   "outputs": [],
   "source": [
    "test_df['Fare'] = test_df['Fare'].fillna(test_df['Fare'].mean())"
   ]
  },
  {
   "cell_type": "code",
   "execution_count": 323,
   "metadata": {},
   "outputs": [
    {
     "data": {
      "text/html": [
       "<div>\n",
       "<style scoped>\n",
       "    .dataframe tbody tr th:only-of-type {\n",
       "        vertical-align: middle;\n",
       "    }\n",
       "\n",
       "    .dataframe tbody tr th {\n",
       "        vertical-align: top;\n",
       "    }\n",
       "\n",
       "    .dataframe thead th {\n",
       "        text-align: right;\n",
       "    }\n",
       "</style>\n",
       "<table border=\"1\" class=\"dataframe\">\n",
       "  <thead>\n",
       "    <tr style=\"text-align: right;\">\n",
       "      <th></th>\n",
       "      <th>Survived</th>\n",
       "      <th>Sex</th>\n",
       "      <th>Age</th>\n",
       "      <th>SibSp</th>\n",
       "      <th>Parch</th>\n",
       "      <th>Fare</th>\n",
       "      <th>2</th>\n",
       "      <th>3</th>\n",
       "      <th>Q</th>\n",
       "      <th>S</th>\n",
       "    </tr>\n",
       "    <tr>\n",
       "      <th>PassengerId</th>\n",
       "      <th></th>\n",
       "      <th></th>\n",
       "      <th></th>\n",
       "      <th></th>\n",
       "      <th></th>\n",
       "      <th></th>\n",
       "      <th></th>\n",
       "      <th></th>\n",
       "      <th></th>\n",
       "      <th></th>\n",
       "    </tr>\n",
       "  </thead>\n",
       "  <tbody>\n",
       "    <tr>\n",
       "      <th>1</th>\n",
       "      <td>0</td>\n",
       "      <td>0</td>\n",
       "      <td>22.0</td>\n",
       "      <td>1</td>\n",
       "      <td>0</td>\n",
       "      <td>7.2500</td>\n",
       "      <td>0</td>\n",
       "      <td>1</td>\n",
       "      <td>0</td>\n",
       "      <td>1</td>\n",
       "    </tr>\n",
       "    <tr>\n",
       "      <th>2</th>\n",
       "      <td>1</td>\n",
       "      <td>1</td>\n",
       "      <td>38.0</td>\n",
       "      <td>1</td>\n",
       "      <td>0</td>\n",
       "      <td>71.2833</td>\n",
       "      <td>0</td>\n",
       "      <td>0</td>\n",
       "      <td>0</td>\n",
       "      <td>0</td>\n",
       "    </tr>\n",
       "    <tr>\n",
       "      <th>3</th>\n",
       "      <td>1</td>\n",
       "      <td>1</td>\n",
       "      <td>26.0</td>\n",
       "      <td>0</td>\n",
       "      <td>0</td>\n",
       "      <td>7.9250</td>\n",
       "      <td>0</td>\n",
       "      <td>1</td>\n",
       "      <td>0</td>\n",
       "      <td>1</td>\n",
       "    </tr>\n",
       "    <tr>\n",
       "      <th>4</th>\n",
       "      <td>1</td>\n",
       "      <td>1</td>\n",
       "      <td>35.0</td>\n",
       "      <td>1</td>\n",
       "      <td>0</td>\n",
       "      <td>53.1000</td>\n",
       "      <td>0</td>\n",
       "      <td>0</td>\n",
       "      <td>0</td>\n",
       "      <td>1</td>\n",
       "    </tr>\n",
       "    <tr>\n",
       "      <th>5</th>\n",
       "      <td>0</td>\n",
       "      <td>0</td>\n",
       "      <td>35.0</td>\n",
       "      <td>0</td>\n",
       "      <td>0</td>\n",
       "      <td>8.0500</td>\n",
       "      <td>0</td>\n",
       "      <td>1</td>\n",
       "      <td>0</td>\n",
       "      <td>1</td>\n",
       "    </tr>\n",
       "  </tbody>\n",
       "</table>\n",
       "</div>"
      ],
      "text/plain": [
       "             Survived  Sex   Age  SibSp  Parch     Fare  2  3  Q  S\n",
       "PassengerId                                                        \n",
       "1                   0    0  22.0      1      0   7.2500  0  1  0  1\n",
       "2                   1    1  38.0      1      0  71.2833  0  0  0  0\n",
       "3                   1    1  26.0      0      0   7.9250  0  1  0  1\n",
       "4                   1    1  35.0      1      0  53.1000  0  0  0  1\n",
       "5                   0    0  35.0      0      0   8.0500  0  1  0  1"
      ]
     },
     "execution_count": 323,
     "metadata": {},
     "output_type": "execute_result"
    }
   ],
   "source": [
    "df.head()"
   ]
  },
  {
   "cell_type": "code",
   "execution_count": 324,
   "metadata": {},
   "outputs": [],
   "source": [
    "test_emb_dummies = pd.get_dummies(test_df['Embarked'], drop_first=True)\n",
    "test_class_dummies = pd.get_dummies(test_df['Pclass'], drop_first=True)\n",
    "test_df = pd.concat([test_df.drop('Pclass',axis=1), test_class_dummies], axis=1)\n",
    "test_df = pd.concat([test_df.drop('Embarked',axis=1), test_emb_dummies], axis=1)"
   ]
  },
  {
   "cell_type": "code",
   "execution_count": 325,
   "metadata": {},
   "outputs": [
    {
     "data": {
      "text/html": [
       "<div>\n",
       "<style scoped>\n",
       "    .dataframe tbody tr th:only-of-type {\n",
       "        vertical-align: middle;\n",
       "    }\n",
       "\n",
       "    .dataframe tbody tr th {\n",
       "        vertical-align: top;\n",
       "    }\n",
       "\n",
       "    .dataframe thead th {\n",
       "        text-align: right;\n",
       "    }\n",
       "</style>\n",
       "<table border=\"1\" class=\"dataframe\">\n",
       "  <thead>\n",
       "    <tr style=\"text-align: right;\">\n",
       "      <th></th>\n",
       "      <th>Sex</th>\n",
       "      <th>Age</th>\n",
       "      <th>SibSp</th>\n",
       "      <th>Parch</th>\n",
       "      <th>Fare</th>\n",
       "      <th>2</th>\n",
       "      <th>3</th>\n",
       "      <th>Q</th>\n",
       "      <th>S</th>\n",
       "    </tr>\n",
       "    <tr>\n",
       "      <th>PassengerId</th>\n",
       "      <th></th>\n",
       "      <th></th>\n",
       "      <th></th>\n",
       "      <th></th>\n",
       "      <th></th>\n",
       "      <th></th>\n",
       "      <th></th>\n",
       "      <th></th>\n",
       "      <th></th>\n",
       "    </tr>\n",
       "  </thead>\n",
       "  <tbody>\n",
       "    <tr>\n",
       "      <th>892</th>\n",
       "      <td>male</td>\n",
       "      <td>34.5</td>\n",
       "      <td>0</td>\n",
       "      <td>0</td>\n",
       "      <td>7.8292</td>\n",
       "      <td>0</td>\n",
       "      <td>1</td>\n",
       "      <td>1</td>\n",
       "      <td>0</td>\n",
       "    </tr>\n",
       "    <tr>\n",
       "      <th>893</th>\n",
       "      <td>female</td>\n",
       "      <td>47.0</td>\n",
       "      <td>1</td>\n",
       "      <td>0</td>\n",
       "      <td>7.0000</td>\n",
       "      <td>0</td>\n",
       "      <td>1</td>\n",
       "      <td>0</td>\n",
       "      <td>1</td>\n",
       "    </tr>\n",
       "    <tr>\n",
       "      <th>894</th>\n",
       "      <td>male</td>\n",
       "      <td>62.0</td>\n",
       "      <td>0</td>\n",
       "      <td>0</td>\n",
       "      <td>9.6875</td>\n",
       "      <td>1</td>\n",
       "      <td>0</td>\n",
       "      <td>1</td>\n",
       "      <td>0</td>\n",
       "    </tr>\n",
       "    <tr>\n",
       "      <th>895</th>\n",
       "      <td>male</td>\n",
       "      <td>27.0</td>\n",
       "      <td>0</td>\n",
       "      <td>0</td>\n",
       "      <td>8.6625</td>\n",
       "      <td>0</td>\n",
       "      <td>1</td>\n",
       "      <td>0</td>\n",
       "      <td>1</td>\n",
       "    </tr>\n",
       "    <tr>\n",
       "      <th>896</th>\n",
       "      <td>female</td>\n",
       "      <td>22.0</td>\n",
       "      <td>1</td>\n",
       "      <td>1</td>\n",
       "      <td>12.2875</td>\n",
       "      <td>0</td>\n",
       "      <td>1</td>\n",
       "      <td>0</td>\n",
       "      <td>1</td>\n",
       "    </tr>\n",
       "  </tbody>\n",
       "</table>\n",
       "</div>"
      ],
      "text/plain": [
       "                Sex   Age  SibSp  Parch     Fare  2  3  Q  S\n",
       "PassengerId                                                 \n",
       "892            male  34.5      0      0   7.8292  0  1  1  0\n",
       "893          female  47.0      1      0   7.0000  0  1  0  1\n",
       "894            male  62.0      0      0   9.6875  1  0  1  0\n",
       "895            male  27.0      0      0   8.6625  0  1  0  1\n",
       "896          female  22.0      1      1  12.2875  0  1  0  1"
      ]
     },
     "execution_count": 325,
     "metadata": {},
     "output_type": "execute_result"
    }
   ],
   "source": [
    "test_df.head()"
   ]
  },
  {
   "cell_type": "code",
   "execution_count": 326,
   "metadata": {},
   "outputs": [],
   "source": [
    "def func(x):\n",
    "    if x>2:\n",
    "        return 2\n",
    "    else :\n",
    "        return x"
   ]
  },
  {
   "cell_type": "code",
   "execution_count": 327,
   "metadata": {},
   "outputs": [],
   "source": [
    "test_df['SibSp'] = test_df['SibSp'].apply(lambda x: func(x))"
   ]
  },
  {
   "cell_type": "code",
   "execution_count": 328,
   "metadata": {},
   "outputs": [
    {
     "data": {
      "text/plain": [
       "0    283\n",
       "1    110\n",
       "2     25\n",
       "Name: SibSp, dtype: int64"
      ]
     },
     "execution_count": 328,
     "metadata": {},
     "output_type": "execute_result"
    }
   ],
   "source": [
    "test_df['SibSp'].value_counts()"
   ]
  },
  {
   "cell_type": "code",
   "execution_count": 329,
   "metadata": {},
   "outputs": [],
   "source": [
    "test_df['Parch'] = test_df['Parch'].apply(lambda x: func(x))"
   ]
  },
  {
   "cell_type": "code",
   "execution_count": 330,
   "metadata": {},
   "outputs": [
    {
     "data": {
      "text/plain": [
       "0    324\n",
       "1     52\n",
       "2     42\n",
       "Name: Parch, dtype: int64"
      ]
     },
     "execution_count": 330,
     "metadata": {},
     "output_type": "execute_result"
    }
   ],
   "source": [
    "test_df['Parch'].value_counts()"
   ]
  },
  {
   "cell_type": "code",
   "execution_count": 331,
   "metadata": {},
   "outputs": [
    {
     "data": {
      "text/html": [
       "<div>\n",
       "<style scoped>\n",
       "    .dataframe tbody tr th:only-of-type {\n",
       "        vertical-align: middle;\n",
       "    }\n",
       "\n",
       "    .dataframe tbody tr th {\n",
       "        vertical-align: top;\n",
       "    }\n",
       "\n",
       "    .dataframe thead th {\n",
       "        text-align: right;\n",
       "    }\n",
       "</style>\n",
       "<table border=\"1\" class=\"dataframe\">\n",
       "  <thead>\n",
       "    <tr style=\"text-align: right;\">\n",
       "      <th></th>\n",
       "      <th>Survived</th>\n",
       "      <th>Sex</th>\n",
       "      <th>Age</th>\n",
       "      <th>SibSp</th>\n",
       "      <th>Parch</th>\n",
       "      <th>Fare</th>\n",
       "      <th>2</th>\n",
       "      <th>3</th>\n",
       "      <th>Q</th>\n",
       "      <th>S</th>\n",
       "    </tr>\n",
       "    <tr>\n",
       "      <th>PassengerId</th>\n",
       "      <th></th>\n",
       "      <th></th>\n",
       "      <th></th>\n",
       "      <th></th>\n",
       "      <th></th>\n",
       "      <th></th>\n",
       "      <th></th>\n",
       "      <th></th>\n",
       "      <th></th>\n",
       "      <th></th>\n",
       "    </tr>\n",
       "  </thead>\n",
       "  <tbody>\n",
       "    <tr>\n",
       "      <th>1</th>\n",
       "      <td>0</td>\n",
       "      <td>0</td>\n",
       "      <td>22.0</td>\n",
       "      <td>1</td>\n",
       "      <td>0</td>\n",
       "      <td>7.2500</td>\n",
       "      <td>0</td>\n",
       "      <td>1</td>\n",
       "      <td>0</td>\n",
       "      <td>1</td>\n",
       "    </tr>\n",
       "    <tr>\n",
       "      <th>2</th>\n",
       "      <td>1</td>\n",
       "      <td>1</td>\n",
       "      <td>38.0</td>\n",
       "      <td>1</td>\n",
       "      <td>0</td>\n",
       "      <td>71.2833</td>\n",
       "      <td>0</td>\n",
       "      <td>0</td>\n",
       "      <td>0</td>\n",
       "      <td>0</td>\n",
       "    </tr>\n",
       "    <tr>\n",
       "      <th>3</th>\n",
       "      <td>1</td>\n",
       "      <td>1</td>\n",
       "      <td>26.0</td>\n",
       "      <td>0</td>\n",
       "      <td>0</td>\n",
       "      <td>7.9250</td>\n",
       "      <td>0</td>\n",
       "      <td>1</td>\n",
       "      <td>0</td>\n",
       "      <td>1</td>\n",
       "    </tr>\n",
       "    <tr>\n",
       "      <th>4</th>\n",
       "      <td>1</td>\n",
       "      <td>1</td>\n",
       "      <td>35.0</td>\n",
       "      <td>1</td>\n",
       "      <td>0</td>\n",
       "      <td>53.1000</td>\n",
       "      <td>0</td>\n",
       "      <td>0</td>\n",
       "      <td>0</td>\n",
       "      <td>1</td>\n",
       "    </tr>\n",
       "    <tr>\n",
       "      <th>5</th>\n",
       "      <td>0</td>\n",
       "      <td>0</td>\n",
       "      <td>35.0</td>\n",
       "      <td>0</td>\n",
       "      <td>0</td>\n",
       "      <td>8.0500</td>\n",
       "      <td>0</td>\n",
       "      <td>1</td>\n",
       "      <td>0</td>\n",
       "      <td>1</td>\n",
       "    </tr>\n",
       "  </tbody>\n",
       "</table>\n",
       "</div>"
      ],
      "text/plain": [
       "             Survived  Sex   Age  SibSp  Parch     Fare  2  3  Q  S\n",
       "PassengerId                                                        \n",
       "1                   0    0  22.0      1      0   7.2500  0  1  0  1\n",
       "2                   1    1  38.0      1      0  71.2833  0  0  0  0\n",
       "3                   1    1  26.0      0      0   7.9250  0  1  0  1\n",
       "4                   1    1  35.0      1      0  53.1000  0  0  0  1\n",
       "5                   0    0  35.0      0      0   8.0500  0  1  0  1"
      ]
     },
     "execution_count": 331,
     "metadata": {},
     "output_type": "execute_result"
    }
   ],
   "source": [
    "df.head()"
   ]
  },
  {
   "cell_type": "code",
   "execution_count": 332,
   "metadata": {},
   "outputs": [
    {
     "data": {
      "text/html": [
       "<div>\n",
       "<style scoped>\n",
       "    .dataframe tbody tr th:only-of-type {\n",
       "        vertical-align: middle;\n",
       "    }\n",
       "\n",
       "    .dataframe tbody tr th {\n",
       "        vertical-align: top;\n",
       "    }\n",
       "\n",
       "    .dataframe thead th {\n",
       "        text-align: right;\n",
       "    }\n",
       "</style>\n",
       "<table border=\"1\" class=\"dataframe\">\n",
       "  <thead>\n",
       "    <tr style=\"text-align: right;\">\n",
       "      <th></th>\n",
       "      <th>Sex</th>\n",
       "      <th>Age</th>\n",
       "      <th>SibSp</th>\n",
       "      <th>Parch</th>\n",
       "      <th>Fare</th>\n",
       "      <th>2</th>\n",
       "      <th>3</th>\n",
       "      <th>Q</th>\n",
       "      <th>S</th>\n",
       "    </tr>\n",
       "    <tr>\n",
       "      <th>PassengerId</th>\n",
       "      <th></th>\n",
       "      <th></th>\n",
       "      <th></th>\n",
       "      <th></th>\n",
       "      <th></th>\n",
       "      <th></th>\n",
       "      <th></th>\n",
       "      <th></th>\n",
       "      <th></th>\n",
       "    </tr>\n",
       "  </thead>\n",
       "  <tbody>\n",
       "    <tr>\n",
       "      <th>892</th>\n",
       "      <td>male</td>\n",
       "      <td>34.5</td>\n",
       "      <td>0</td>\n",
       "      <td>0</td>\n",
       "      <td>7.8292</td>\n",
       "      <td>0</td>\n",
       "      <td>1</td>\n",
       "      <td>1</td>\n",
       "      <td>0</td>\n",
       "    </tr>\n",
       "    <tr>\n",
       "      <th>893</th>\n",
       "      <td>female</td>\n",
       "      <td>47.0</td>\n",
       "      <td>1</td>\n",
       "      <td>0</td>\n",
       "      <td>7.0000</td>\n",
       "      <td>0</td>\n",
       "      <td>1</td>\n",
       "      <td>0</td>\n",
       "      <td>1</td>\n",
       "    </tr>\n",
       "    <tr>\n",
       "      <th>894</th>\n",
       "      <td>male</td>\n",
       "      <td>62.0</td>\n",
       "      <td>0</td>\n",
       "      <td>0</td>\n",
       "      <td>9.6875</td>\n",
       "      <td>1</td>\n",
       "      <td>0</td>\n",
       "      <td>1</td>\n",
       "      <td>0</td>\n",
       "    </tr>\n",
       "    <tr>\n",
       "      <th>895</th>\n",
       "      <td>male</td>\n",
       "      <td>27.0</td>\n",
       "      <td>0</td>\n",
       "      <td>0</td>\n",
       "      <td>8.6625</td>\n",
       "      <td>0</td>\n",
       "      <td>1</td>\n",
       "      <td>0</td>\n",
       "      <td>1</td>\n",
       "    </tr>\n",
       "    <tr>\n",
       "      <th>896</th>\n",
       "      <td>female</td>\n",
       "      <td>22.0</td>\n",
       "      <td>1</td>\n",
       "      <td>1</td>\n",
       "      <td>12.2875</td>\n",
       "      <td>0</td>\n",
       "      <td>1</td>\n",
       "      <td>0</td>\n",
       "      <td>1</td>\n",
       "    </tr>\n",
       "  </tbody>\n",
       "</table>\n",
       "</div>"
      ],
      "text/plain": [
       "                Sex   Age  SibSp  Parch     Fare  2  3  Q  S\n",
       "PassengerId                                                 \n",
       "892            male  34.5      0      0   7.8292  0  1  1  0\n",
       "893          female  47.0      1      0   7.0000  0  1  0  1\n",
       "894            male  62.0      0      0   9.6875  1  0  1  0\n",
       "895            male  27.0      0      0   8.6625  0  1  0  1\n",
       "896          female  22.0      1      1  12.2875  0  1  0  1"
      ]
     },
     "execution_count": 332,
     "metadata": {},
     "output_type": "execute_result"
    }
   ],
   "source": [
    "test_df.head()"
   ]
  },
  {
   "cell_type": "code",
   "execution_count": 333,
   "metadata": {},
   "outputs": [],
   "source": [
    "test_df['Sex'] = test_df['Sex'].map({'female':1, 'male':0})"
   ]
  },
  {
   "cell_type": "code",
   "execution_count": 334,
   "metadata": {},
   "outputs": [
    {
     "data": {
      "text/html": [
       "<div>\n",
       "<style scoped>\n",
       "    .dataframe tbody tr th:only-of-type {\n",
       "        vertical-align: middle;\n",
       "    }\n",
       "\n",
       "    .dataframe tbody tr th {\n",
       "        vertical-align: top;\n",
       "    }\n",
       "\n",
       "    .dataframe thead th {\n",
       "        text-align: right;\n",
       "    }\n",
       "</style>\n",
       "<table border=\"1\" class=\"dataframe\">\n",
       "  <thead>\n",
       "    <tr style=\"text-align: right;\">\n",
       "      <th></th>\n",
       "      <th>Sex</th>\n",
       "      <th>Age</th>\n",
       "      <th>SibSp</th>\n",
       "      <th>Parch</th>\n",
       "      <th>Fare</th>\n",
       "      <th>2</th>\n",
       "      <th>3</th>\n",
       "      <th>Q</th>\n",
       "      <th>S</th>\n",
       "    </tr>\n",
       "    <tr>\n",
       "      <th>PassengerId</th>\n",
       "      <th></th>\n",
       "      <th></th>\n",
       "      <th></th>\n",
       "      <th></th>\n",
       "      <th></th>\n",
       "      <th></th>\n",
       "      <th></th>\n",
       "      <th></th>\n",
       "      <th></th>\n",
       "    </tr>\n",
       "  </thead>\n",
       "  <tbody>\n",
       "    <tr>\n",
       "      <th>892</th>\n",
       "      <td>0</td>\n",
       "      <td>34.5</td>\n",
       "      <td>0</td>\n",
       "      <td>0</td>\n",
       "      <td>7.8292</td>\n",
       "      <td>0</td>\n",
       "      <td>1</td>\n",
       "      <td>1</td>\n",
       "      <td>0</td>\n",
       "    </tr>\n",
       "    <tr>\n",
       "      <th>893</th>\n",
       "      <td>1</td>\n",
       "      <td>47.0</td>\n",
       "      <td>1</td>\n",
       "      <td>0</td>\n",
       "      <td>7.0000</td>\n",
       "      <td>0</td>\n",
       "      <td>1</td>\n",
       "      <td>0</td>\n",
       "      <td>1</td>\n",
       "    </tr>\n",
       "    <tr>\n",
       "      <th>894</th>\n",
       "      <td>0</td>\n",
       "      <td>62.0</td>\n",
       "      <td>0</td>\n",
       "      <td>0</td>\n",
       "      <td>9.6875</td>\n",
       "      <td>1</td>\n",
       "      <td>0</td>\n",
       "      <td>1</td>\n",
       "      <td>0</td>\n",
       "    </tr>\n",
       "    <tr>\n",
       "      <th>895</th>\n",
       "      <td>0</td>\n",
       "      <td>27.0</td>\n",
       "      <td>0</td>\n",
       "      <td>0</td>\n",
       "      <td>8.6625</td>\n",
       "      <td>0</td>\n",
       "      <td>1</td>\n",
       "      <td>0</td>\n",
       "      <td>1</td>\n",
       "    </tr>\n",
       "    <tr>\n",
       "      <th>896</th>\n",
       "      <td>1</td>\n",
       "      <td>22.0</td>\n",
       "      <td>1</td>\n",
       "      <td>1</td>\n",
       "      <td>12.2875</td>\n",
       "      <td>0</td>\n",
       "      <td>1</td>\n",
       "      <td>0</td>\n",
       "      <td>1</td>\n",
       "    </tr>\n",
       "  </tbody>\n",
       "</table>\n",
       "</div>"
      ],
      "text/plain": [
       "             Sex   Age  SibSp  Parch     Fare  2  3  Q  S\n",
       "PassengerId                                              \n",
       "892            0  34.5      0      0   7.8292  0  1  1  0\n",
       "893            1  47.0      1      0   7.0000  0  1  0  1\n",
       "894            0  62.0      0      0   9.6875  1  0  1  0\n",
       "895            0  27.0      0      0   8.6625  0  1  0  1\n",
       "896            1  22.0      1      1  12.2875  0  1  0  1"
      ]
     },
     "execution_count": 334,
     "metadata": {},
     "output_type": "execute_result"
    }
   ],
   "source": [
    "test_df.head()"
   ]
  },
  {
   "cell_type": "code",
   "execution_count": 335,
   "metadata": {},
   "outputs": [
    {
     "name": "stderr",
     "output_type": "stream",
     "text": [
      "C:\\Users\\akshay\\anaconda3\\lib\\site-packages\\sklearn\\linear_model\\_logistic.py:940: ConvergenceWarning: lbfgs failed to converge (status=1):\n",
      "STOP: TOTAL NO. of ITERATIONS REACHED LIMIT.\n",
      "\n",
      "Increase the number of iterations (max_iter) or scale the data as shown in:\n",
      "    https://scikit-learn.org/stable/modules/preprocessing.html\n",
      "Please also refer to the documentation for alternative solver options:\n",
      "    https://scikit-learn.org/stable/modules/linear_model.html#logistic-regression\n",
      "  extra_warning_msg=_LOGISTIC_SOLVER_CONVERGENCE_MSG)\n"
     ]
    },
    {
     "data": {
      "text/plain": [
       "LogisticRegression(C=1.0, class_weight=None, dual=False, fit_intercept=True,\n",
       "                   intercept_scaling=1, l1_ratio=None, max_iter=100,\n",
       "                   multi_class='auto', n_jobs=None, penalty='l2',\n",
       "                   random_state=None, solver='lbfgs', tol=0.0001, verbose=0,\n",
       "                   warm_start=False)"
      ]
     },
     "execution_count": 335,
     "metadata": {},
     "output_type": "execute_result"
    }
   ],
   "source": [
    "log.fit(X_train, y_train)\n"
   ]
  },
  {
   "cell_type": "code",
   "execution_count": 336,
   "metadata": {},
   "outputs": [],
   "source": [
    "predictions = log.predict(X_cval)"
   ]
  },
  {
   "cell_type": "code",
   "execution_count": 337,
   "metadata": {},
   "outputs": [
    {
     "name": "stdout",
     "output_type": "stream",
     "text": [
      "[[160  16]\n",
      " [ 28  63]]\n",
      "\n",
      "\n",
      "              precision    recall  f1-score   support\n",
      "\n",
      "           0       0.85      0.91      0.88       176\n",
      "           1       0.80      0.69      0.74        91\n",
      "\n",
      "    accuracy                           0.84       267\n",
      "   macro avg       0.82      0.80      0.81       267\n",
      "weighted avg       0.83      0.84      0.83       267\n",
      "\n"
     ]
    }
   ],
   "source": [
    "print(confusion_matrix(y_cval, predictions))\n",
    "print('\\n')\n",
    "print(classification_report(y_cval, predictions))"
   ]
  },
  {
   "cell_type": "code",
   "execution_count": 338,
   "metadata": {},
   "outputs": [],
   "source": [
    "test_predictions = log.predict(test_df.values)"
   ]
  },
  {
   "cell_type": "code",
   "execution_count": 339,
   "metadata": {},
   "outputs": [
    {
     "data": {
      "text/plain": [
       "array([0, 0, 0, 0, 0, 0, 1, 0, 1, 0, 0, 0, 1, 0, 1, 1, 0, 0, 0, 1, 0, 0,\n",
       "       1, 1, 1, 0, 1, 0, 0, 0, 0, 0, 0, 0, 0, 0, 1, 1, 0, 0, 0, 0, 0, 1,\n",
       "       1, 0, 0, 0, 1, 0, 0, 0, 1, 1, 0, 0, 0, 0, 0, 1, 0, 0, 0, 1, 1, 1,\n",
       "       1, 0, 1, 1, 1, 0, 1, 1, 1, 1, 0, 1, 0, 1, 0, 0, 0, 0, 0, 0, 1, 1,\n",
       "       1, 0, 1, 0, 1, 0, 1, 0, 1, 0, 1, 0, 1, 0, 0, 0, 1, 0, 0, 0, 0, 0,\n",
       "       0, 1, 1, 1, 1, 0, 0, 1, 1, 1, 1, 0, 1, 0, 0, 1, 0, 0, 0, 0, 0, 0,\n",
       "       1, 0, 0, 0, 0, 0, 1, 0, 0, 1, 0, 0, 0, 0, 0, 0, 0, 0, 1, 0, 0, 0,\n",
       "       0, 0, 1, 1, 0, 1, 1, 0, 1, 0, 0, 0, 0, 0, 1, 1, 0, 0, 0, 0, 0, 1,\n",
       "       1, 0, 1, 1, 0, 0, 1, 0, 1, 0, 1, 0, 0, 0, 0, 0, 0, 0, 0, 0, 1, 1,\n",
       "       0, 1, 1, 0, 0, 1, 0, 1, 1, 0, 1, 0, 0, 0, 0, 1, 0, 0, 1, 0, 1, 0,\n",
       "       1, 0, 1, 0, 1, 1, 0, 1, 0, 0, 0, 1, 0, 0, 0, 0, 0, 0, 1, 1, 1, 1,\n",
       "       0, 0, 0, 0, 1, 0, 1, 1, 1, 0, 1, 0, 0, 0, 0, 0, 1, 0, 0, 0, 1, 1,\n",
       "       0, 0, 0, 0, 1, 0, 0, 0, 1, 1, 0, 1, 0, 0, 0, 0, 1, 0, 1, 1, 1, 0,\n",
       "       0, 0, 0, 0, 0, 1, 0, 0, 0, 0, 1, 0, 0, 0, 0, 0, 0, 0, 1, 1, 0, 0,\n",
       "       0, 0, 0, 0, 0, 1, 1, 1, 0, 0, 0, 0, 0, 0, 0, 0, 1, 0, 1, 0, 0, 0,\n",
       "       1, 0, 0, 1, 0, 0, 0, 0, 0, 0, 0, 0, 0, 1, 0, 1, 0, 1, 0, 1, 1, 0,\n",
       "       0, 0, 1, 0, 1, 0, 0, 0, 0, 1, 1, 0, 1, 0, 0, 1, 1, 0, 0, 1, 0, 0,\n",
       "       1, 1, 0, 0, 0, 0, 0, 0, 1, 1, 0, 1, 0, 0, 0, 0, 1, 1, 0, 0, 0, 1,\n",
       "       0, 1, 0, 0, 1, 0, 1, 1, 0, 1, 0, 0, 1, 1, 1, 1, 1, 0, 1, 0, 0, 0],\n",
       "      dtype=int64)"
      ]
     },
     "execution_count": 339,
     "metadata": {},
     "output_type": "execute_result"
    }
   ],
   "source": [
    "test_predictions"
   ]
  },
  {
   "cell_type": "code",
   "execution_count": 340,
   "metadata": {},
   "outputs": [],
   "source": [
    "test_output = pd.DataFrame(test_predictions, index=test_df.index, columns=['Survived'])"
   ]
  },
  {
   "cell_type": "code",
   "execution_count": 341,
   "metadata": {},
   "outputs": [
    {
     "data": {
      "text/html": [
       "<div>\n",
       "<style scoped>\n",
       "    .dataframe tbody tr th:only-of-type {\n",
       "        vertical-align: middle;\n",
       "    }\n",
       "\n",
       "    .dataframe tbody tr th {\n",
       "        vertical-align: top;\n",
       "    }\n",
       "\n",
       "    .dataframe thead th {\n",
       "        text-align: right;\n",
       "    }\n",
       "</style>\n",
       "<table border=\"1\" class=\"dataframe\">\n",
       "  <thead>\n",
       "    <tr style=\"text-align: right;\">\n",
       "      <th></th>\n",
       "      <th>Survived</th>\n",
       "    </tr>\n",
       "    <tr>\n",
       "      <th>PassengerId</th>\n",
       "      <th></th>\n",
       "    </tr>\n",
       "  </thead>\n",
       "  <tbody>\n",
       "    <tr>\n",
       "      <th>892</th>\n",
       "      <td>0</td>\n",
       "    </tr>\n",
       "    <tr>\n",
       "      <th>893</th>\n",
       "      <td>0</td>\n",
       "    </tr>\n",
       "    <tr>\n",
       "      <th>894</th>\n",
       "      <td>0</td>\n",
       "    </tr>\n",
       "    <tr>\n",
       "      <th>895</th>\n",
       "      <td>0</td>\n",
       "    </tr>\n",
       "    <tr>\n",
       "      <th>896</th>\n",
       "      <td>0</td>\n",
       "    </tr>\n",
       "  </tbody>\n",
       "</table>\n",
       "</div>"
      ],
      "text/plain": [
       "             Survived\n",
       "PassengerId          \n",
       "892                 0\n",
       "893                 0\n",
       "894                 0\n",
       "895                 0\n",
       "896                 0"
      ]
     },
     "execution_count": 341,
     "metadata": {},
     "output_type": "execute_result"
    }
   ],
   "source": [
    "test_output.head()"
   ]
  },
  {
   "cell_type": "code",
   "execution_count": 342,
   "metadata": {},
   "outputs": [
    {
     "data": {
      "text/plain": [
       "0    269\n",
       "1    149\n",
       "Name: Survived, dtype: int64"
      ]
     },
     "execution_count": 342,
     "metadata": {},
     "output_type": "execute_result"
    }
   ],
   "source": [
    "test_output['Survived'].value_counts()"
   ]
  },
  {
   "cell_type": "code",
   "execution_count": 250,
   "metadata": {},
   "outputs": [],
   "source": [
    "test_output.to_csv('test_output.csv')"
   ]
  },
  {
   "cell_type": "code",
   "execution_count": 251,
   "metadata": {},
   "outputs": [],
   "source": [
    "test_output = pd.read_csv('test_output.csv')"
   ]
  },
  {
   "cell_type": "code",
   "execution_count": 253,
   "metadata": {},
   "outputs": [
    {
     "name": "stdout",
     "output_type": "stream",
     "text": [
      "<class 'pandas.core.frame.DataFrame'>\n",
      "RangeIndex: 418 entries, 0 to 417\n",
      "Data columns (total 2 columns):\n",
      " #   Column       Non-Null Count  Dtype\n",
      "---  ------       --------------  -----\n",
      " 0   PassengerId  418 non-null    int64\n",
      " 1   Survived     418 non-null    int64\n",
      "dtypes: int64(2)\n",
      "memory usage: 6.7 KB\n"
     ]
    }
   ],
   "source": [
    "test_output.info()"
   ]
  },
  {
   "cell_type": "code",
   "execution_count": 264,
   "metadata": {},
   "outputs": [],
   "source": [
    "model = Sequential()\n",
    "\n",
    "model.add(Dense(units=8, activation='relu'))\n",
    "\n",
    "\n",
    "\n",
    "model.add(Dense(1, activation='sigmoid'))\n",
    "\n",
    "model.compile(loss='binary_crossentropy', optimizer='adam')\n",
    "\n",
    "from tensorflow.keras.callbacks import EarlyStopping\n",
    "\n",
    "early_stop = EarlyStopping(monitor='val_loss', mode='min', patience=50, verbose=1)"
   ]
  },
  {
   "cell_type": "code",
   "execution_count": 255,
   "metadata": {},
   "outputs": [
    {
     "data": {
      "text/html": [
       "<div>\n",
       "<style scoped>\n",
       "    .dataframe tbody tr th:only-of-type {\n",
       "        vertical-align: middle;\n",
       "    }\n",
       "\n",
       "    .dataframe tbody tr th {\n",
       "        vertical-align: top;\n",
       "    }\n",
       "\n",
       "    .dataframe thead th {\n",
       "        text-align: right;\n",
       "    }\n",
       "</style>\n",
       "<table border=\"1\" class=\"dataframe\">\n",
       "  <thead>\n",
       "    <tr style=\"text-align: right;\">\n",
       "      <th></th>\n",
       "      <th>Sex</th>\n",
       "      <th>Age</th>\n",
       "      <th>SibSp</th>\n",
       "      <th>Parch</th>\n",
       "      <th>Fare</th>\n",
       "      <th>Q</th>\n",
       "      <th>S</th>\n",
       "      <th>2</th>\n",
       "      <th>3</th>\n",
       "    </tr>\n",
       "    <tr>\n",
       "      <th>PassengerId</th>\n",
       "      <th></th>\n",
       "      <th></th>\n",
       "      <th></th>\n",
       "      <th></th>\n",
       "      <th></th>\n",
       "      <th></th>\n",
       "      <th></th>\n",
       "      <th></th>\n",
       "      <th></th>\n",
       "    </tr>\n",
       "  </thead>\n",
       "  <tbody>\n",
       "    <tr>\n",
       "      <th>892</th>\n",
       "      <td>0</td>\n",
       "      <td>34.5</td>\n",
       "      <td>0</td>\n",
       "      <td>0</td>\n",
       "      <td>7.8292</td>\n",
       "      <td>1</td>\n",
       "      <td>0</td>\n",
       "      <td>0</td>\n",
       "      <td>1</td>\n",
       "    </tr>\n",
       "    <tr>\n",
       "      <th>893</th>\n",
       "      <td>1</td>\n",
       "      <td>47.0</td>\n",
       "      <td>1</td>\n",
       "      <td>0</td>\n",
       "      <td>7.0000</td>\n",
       "      <td>0</td>\n",
       "      <td>1</td>\n",
       "      <td>0</td>\n",
       "      <td>1</td>\n",
       "    </tr>\n",
       "    <tr>\n",
       "      <th>894</th>\n",
       "      <td>0</td>\n",
       "      <td>62.0</td>\n",
       "      <td>0</td>\n",
       "      <td>0</td>\n",
       "      <td>9.6875</td>\n",
       "      <td>1</td>\n",
       "      <td>0</td>\n",
       "      <td>1</td>\n",
       "      <td>0</td>\n",
       "    </tr>\n",
       "    <tr>\n",
       "      <th>895</th>\n",
       "      <td>0</td>\n",
       "      <td>27.0</td>\n",
       "      <td>0</td>\n",
       "      <td>0</td>\n",
       "      <td>8.6625</td>\n",
       "      <td>0</td>\n",
       "      <td>1</td>\n",
       "      <td>0</td>\n",
       "      <td>1</td>\n",
       "    </tr>\n",
       "    <tr>\n",
       "      <th>896</th>\n",
       "      <td>1</td>\n",
       "      <td>22.0</td>\n",
       "      <td>1</td>\n",
       "      <td>1</td>\n",
       "      <td>12.2875</td>\n",
       "      <td>0</td>\n",
       "      <td>1</td>\n",
       "      <td>0</td>\n",
       "      <td>1</td>\n",
       "    </tr>\n",
       "  </tbody>\n",
       "</table>\n",
       "</div>"
      ],
      "text/plain": [
       "             Sex   Age  SibSp  Parch     Fare  Q  S  2  3\n",
       "PassengerId                                              \n",
       "892            0  34.5      0      0   7.8292  1  0  0  1\n",
       "893            1  47.0      1      0   7.0000  0  1  0  1\n",
       "894            0  62.0      0      0   9.6875  1  0  1  0\n",
       "895            0  27.0      0      0   8.6625  0  1  0  1\n",
       "896            1  22.0      1      1  12.2875  0  1  0  1"
      ]
     },
     "execution_count": 255,
     "metadata": {},
     "output_type": "execute_result"
    }
   ],
   "source": [
    "test_df.head()"
   ]
  },
  {
   "cell_type": "code",
   "execution_count": 343,
   "metadata": {},
   "outputs": [],
   "source": [
    "X_test = scaler.transform(test_df)"
   ]
  },
  {
   "cell_type": "code",
   "execution_count": null,
   "metadata": {},
   "outputs": [],
   "source": []
  },
  {
   "cell_type": "code",
   "execution_count": 344,
   "metadata": {},
   "outputs": [],
   "source": [
    "test_predictions = log.predict(X_test)"
   ]
  },
  {
   "cell_type": "code",
   "execution_count": 345,
   "metadata": {},
   "outputs": [],
   "source": [
    "test_output_4 = pd.DataFrame(test_predictions, index=test_df.index, columns=['Survived'])"
   ]
  },
  {
   "cell_type": "code",
   "execution_count": 346,
   "metadata": {},
   "outputs": [
    {
     "data": {
      "text/plain": [
       "1    253\n",
       "0    165\n",
       "Name: Survived, dtype: int64"
      ]
     },
     "execution_count": 346,
     "metadata": {},
     "output_type": "execute_result"
    }
   ],
   "source": [
    "test_output_4['Survived'].value_counts()"
   ]
  },
  {
   "cell_type": "code",
   "execution_count": 262,
   "metadata": {},
   "outputs": [
    {
     "data": {
      "text/html": [
       "<div>\n",
       "<style scoped>\n",
       "    .dataframe tbody tr th:only-of-type {\n",
       "        vertical-align: middle;\n",
       "    }\n",
       "\n",
       "    .dataframe tbody tr th {\n",
       "        vertical-align: top;\n",
       "    }\n",
       "\n",
       "    .dataframe thead th {\n",
       "        text-align: right;\n",
       "    }\n",
       "</style>\n",
       "<table border=\"1\" class=\"dataframe\">\n",
       "  <thead>\n",
       "    <tr style=\"text-align: right;\">\n",
       "      <th></th>\n",
       "      <th>Survived</th>\n",
       "    </tr>\n",
       "    <tr>\n",
       "      <th>PassengerId</th>\n",
       "      <th></th>\n",
       "    </tr>\n",
       "  </thead>\n",
       "  <tbody>\n",
       "    <tr>\n",
       "      <th>892</th>\n",
       "      <td>1</td>\n",
       "    </tr>\n",
       "    <tr>\n",
       "      <th>893</th>\n",
       "      <td>1</td>\n",
       "    </tr>\n",
       "    <tr>\n",
       "      <th>894</th>\n",
       "      <td>1</td>\n",
       "    </tr>\n",
       "    <tr>\n",
       "      <th>895</th>\n",
       "      <td>0</td>\n",
       "    </tr>\n",
       "    <tr>\n",
       "      <th>896</th>\n",
       "      <td>1</td>\n",
       "    </tr>\n",
       "  </tbody>\n",
       "</table>\n",
       "</div>"
      ],
      "text/plain": [
       "             Survived\n",
       "PassengerId          \n",
       "892                 1\n",
       "893                 1\n",
       "894                 1\n",
       "895                 0\n",
       "896                 1"
      ]
     },
     "execution_count": 262,
     "metadata": {},
     "output_type": "execute_result"
    }
   ],
   "source": [
    "test_output_2.head()"
   ]
  },
  {
   "cell_type": "code",
   "execution_count": 263,
   "metadata": {},
   "outputs": [],
   "source": [
    "test_output_2.to_csv('test_output_2.csv')"
   ]
  },
  {
   "cell_type": "code",
   "execution_count": 266,
   "metadata": {},
   "outputs": [],
   "source": [
    "test_pred = model.predict_classes(X_test)"
   ]
  },
  {
   "cell_type": "code",
   "execution_count": 267,
   "metadata": {},
   "outputs": [],
   "source": [
    "test_output_3 = pd.DataFrame(test_pred, index=test_df.index, columns=['Survived'])"
   ]
  },
  {
   "cell_type": "code",
   "execution_count": 268,
   "metadata": {},
   "outputs": [
    {
     "data": {
      "text/plain": [
       "0    229\n",
       "1    189\n",
       "Name: Survived, dtype: int64"
      ]
     },
     "execution_count": 268,
     "metadata": {},
     "output_type": "execute_result"
    }
   ],
   "source": [
    "test_output_3['Survived'].value_counts()"
   ]
  },
  {
   "cell_type": "code",
   "execution_count": 269,
   "metadata": {},
   "outputs": [],
   "source": [
    "test_output_3.to_csv('test_output_3.csv')"
   ]
  },
  {
   "cell_type": "code",
   "execution_count": 270,
   "metadata": {},
   "outputs": [
    {
     "data": {
      "text/html": [
       "<div>\n",
       "<style scoped>\n",
       "    .dataframe tbody tr th:only-of-type {\n",
       "        vertical-align: middle;\n",
       "    }\n",
       "\n",
       "    .dataframe tbody tr th {\n",
       "        vertical-align: top;\n",
       "    }\n",
       "\n",
       "    .dataframe thead th {\n",
       "        text-align: right;\n",
       "    }\n",
       "</style>\n",
       "<table border=\"1\" class=\"dataframe\">\n",
       "  <thead>\n",
       "    <tr style=\"text-align: right;\">\n",
       "      <th></th>\n",
       "      <th>Sex</th>\n",
       "      <th>Age</th>\n",
       "      <th>SibSp</th>\n",
       "      <th>Parch</th>\n",
       "      <th>Fare</th>\n",
       "      <th>Q</th>\n",
       "      <th>S</th>\n",
       "      <th>2</th>\n",
       "      <th>3</th>\n",
       "    </tr>\n",
       "    <tr>\n",
       "      <th>PassengerId</th>\n",
       "      <th></th>\n",
       "      <th></th>\n",
       "      <th></th>\n",
       "      <th></th>\n",
       "      <th></th>\n",
       "      <th></th>\n",
       "      <th></th>\n",
       "      <th></th>\n",
       "      <th></th>\n",
       "    </tr>\n",
       "  </thead>\n",
       "  <tbody>\n",
       "    <tr>\n",
       "      <th>892</th>\n",
       "      <td>0</td>\n",
       "      <td>34.5</td>\n",
       "      <td>0</td>\n",
       "      <td>0</td>\n",
       "      <td>7.8292</td>\n",
       "      <td>1</td>\n",
       "      <td>0</td>\n",
       "      <td>0</td>\n",
       "      <td>1</td>\n",
       "    </tr>\n",
       "    <tr>\n",
       "      <th>893</th>\n",
       "      <td>1</td>\n",
       "      <td>47.0</td>\n",
       "      <td>1</td>\n",
       "      <td>0</td>\n",
       "      <td>7.0000</td>\n",
       "      <td>0</td>\n",
       "      <td>1</td>\n",
       "      <td>0</td>\n",
       "      <td>1</td>\n",
       "    </tr>\n",
       "    <tr>\n",
       "      <th>894</th>\n",
       "      <td>0</td>\n",
       "      <td>62.0</td>\n",
       "      <td>0</td>\n",
       "      <td>0</td>\n",
       "      <td>9.6875</td>\n",
       "      <td>1</td>\n",
       "      <td>0</td>\n",
       "      <td>1</td>\n",
       "      <td>0</td>\n",
       "    </tr>\n",
       "    <tr>\n",
       "      <th>895</th>\n",
       "      <td>0</td>\n",
       "      <td>27.0</td>\n",
       "      <td>0</td>\n",
       "      <td>0</td>\n",
       "      <td>8.6625</td>\n",
       "      <td>0</td>\n",
       "      <td>1</td>\n",
       "      <td>0</td>\n",
       "      <td>1</td>\n",
       "    </tr>\n",
       "    <tr>\n",
       "      <th>896</th>\n",
       "      <td>1</td>\n",
       "      <td>22.0</td>\n",
       "      <td>1</td>\n",
       "      <td>1</td>\n",
       "      <td>12.2875</td>\n",
       "      <td>0</td>\n",
       "      <td>1</td>\n",
       "      <td>0</td>\n",
       "      <td>1</td>\n",
       "    </tr>\n",
       "  </tbody>\n",
       "</table>\n",
       "</div>"
      ],
      "text/plain": [
       "             Sex   Age  SibSp  Parch     Fare  Q  S  2  3\n",
       "PassengerId                                              \n",
       "892            0  34.5      0      0   7.8292  1  0  0  1\n",
       "893            1  47.0      1      0   7.0000  0  1  0  1\n",
       "894            0  62.0      0      0   9.6875  1  0  1  0\n",
       "895            0  27.0      0      0   8.6625  0  1  0  1\n",
       "896            1  22.0      1      1  12.2875  0  1  0  1"
      ]
     },
     "execution_count": 270,
     "metadata": {},
     "output_type": "execute_result"
    }
   ],
   "source": [
    "test_df.head()"
   ]
  },
  {
   "cell_type": "code",
   "execution_count": 271,
   "metadata": {},
   "outputs": [
    {
     "data": {
      "text/html": [
       "<div>\n",
       "<style scoped>\n",
       "    .dataframe tbody tr th:only-of-type {\n",
       "        vertical-align: middle;\n",
       "    }\n",
       "\n",
       "    .dataframe tbody tr th {\n",
       "        vertical-align: top;\n",
       "    }\n",
       "\n",
       "    .dataframe thead th {\n",
       "        text-align: right;\n",
       "    }\n",
       "</style>\n",
       "<table border=\"1\" class=\"dataframe\">\n",
       "  <thead>\n",
       "    <tr style=\"text-align: right;\">\n",
       "      <th></th>\n",
       "      <th>Survived</th>\n",
       "      <th>Sex</th>\n",
       "      <th>Age</th>\n",
       "      <th>SibSp</th>\n",
       "      <th>Parch</th>\n",
       "      <th>Fare</th>\n",
       "      <th>2</th>\n",
       "      <th>3</th>\n",
       "      <th>Q</th>\n",
       "      <th>S</th>\n",
       "    </tr>\n",
       "    <tr>\n",
       "      <th>PassengerId</th>\n",
       "      <th></th>\n",
       "      <th></th>\n",
       "      <th></th>\n",
       "      <th></th>\n",
       "      <th></th>\n",
       "      <th></th>\n",
       "      <th></th>\n",
       "      <th></th>\n",
       "      <th></th>\n",
       "      <th></th>\n",
       "    </tr>\n",
       "  </thead>\n",
       "  <tbody>\n",
       "    <tr>\n",
       "      <th>1</th>\n",
       "      <td>0</td>\n",
       "      <td>0</td>\n",
       "      <td>22.0</td>\n",
       "      <td>1</td>\n",
       "      <td>0</td>\n",
       "      <td>7.2500</td>\n",
       "      <td>0</td>\n",
       "      <td>1</td>\n",
       "      <td>0</td>\n",
       "      <td>1</td>\n",
       "    </tr>\n",
       "    <tr>\n",
       "      <th>2</th>\n",
       "      <td>1</td>\n",
       "      <td>1</td>\n",
       "      <td>38.0</td>\n",
       "      <td>1</td>\n",
       "      <td>0</td>\n",
       "      <td>71.2833</td>\n",
       "      <td>0</td>\n",
       "      <td>0</td>\n",
       "      <td>0</td>\n",
       "      <td>0</td>\n",
       "    </tr>\n",
       "    <tr>\n",
       "      <th>3</th>\n",
       "      <td>1</td>\n",
       "      <td>1</td>\n",
       "      <td>26.0</td>\n",
       "      <td>0</td>\n",
       "      <td>0</td>\n",
       "      <td>7.9250</td>\n",
       "      <td>0</td>\n",
       "      <td>1</td>\n",
       "      <td>0</td>\n",
       "      <td>1</td>\n",
       "    </tr>\n",
       "    <tr>\n",
       "      <th>4</th>\n",
       "      <td>1</td>\n",
       "      <td>1</td>\n",
       "      <td>35.0</td>\n",
       "      <td>1</td>\n",
       "      <td>0</td>\n",
       "      <td>53.1000</td>\n",
       "      <td>0</td>\n",
       "      <td>0</td>\n",
       "      <td>0</td>\n",
       "      <td>1</td>\n",
       "    </tr>\n",
       "    <tr>\n",
       "      <th>5</th>\n",
       "      <td>0</td>\n",
       "      <td>0</td>\n",
       "      <td>35.0</td>\n",
       "      <td>0</td>\n",
       "      <td>0</td>\n",
       "      <td>8.0500</td>\n",
       "      <td>0</td>\n",
       "      <td>1</td>\n",
       "      <td>0</td>\n",
       "      <td>1</td>\n",
       "    </tr>\n",
       "  </tbody>\n",
       "</table>\n",
       "</div>"
      ],
      "text/plain": [
       "             Survived  Sex   Age  SibSp  Parch     Fare  2  3  Q  S\n",
       "PassengerId                                                        \n",
       "1                   0    0  22.0      1      0   7.2500  0  1  0  1\n",
       "2                   1    1  38.0      1      0  71.2833  0  0  0  0\n",
       "3                   1    1  26.0      0      0   7.9250  0  1  0  1\n",
       "4                   1    1  35.0      1      0  53.1000  0  0  0  1\n",
       "5                   0    0  35.0      0      0   8.0500  0  1  0  1"
      ]
     },
     "execution_count": 271,
     "metadata": {},
     "output_type": "execute_result"
    }
   ],
   "source": [
    "df.head()"
   ]
  },
  {
   "cell_type": "code",
   "execution_count": 348,
   "metadata": {},
   "outputs": [],
   "source": [
    "test_output_4 = pd.DataFrame(test_predictions, index=test_df.index, columns=['Survived'])"
   ]
  },
  {
   "cell_type": "code",
   "execution_count": 349,
   "metadata": {},
   "outputs": [],
   "source": [
    "test_output_4.to_csv('test_output_4.csv')"
   ]
  },
  {
   "cell_type": "code",
   "execution_count": null,
   "metadata": {},
   "outputs": [],
   "source": []
  }
 ],
 "metadata": {
  "kernelspec": {
   "display_name": "Python 3",
   "language": "python",
   "name": "python3"
  },
  "language_info": {
   "codemirror_mode": {
    "name": "ipython",
    "version": 3
   },
   "file_extension": ".py",
   "mimetype": "text/x-python",
   "name": "python",
   "nbconvert_exporter": "python",
   "pygments_lexer": "ipython3",
   "version": "3.7.9"
  }
 },
 "nbformat": 4,
 "nbformat_minor": 4
}
