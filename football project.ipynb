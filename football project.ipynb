{
 "cells": [
  {
   "cell_type": "markdown",
   "metadata": {},
   "source": [
    "## This is a model where we will predict a football players's value with some given features from the dataset with the use of Artificial Neural Network"
   ]
  },
  {
   "cell_type": "markdown",
   "metadata": {},
   "source": [
    "IMPORTING PACKAGES"
   ]
  },
  {
   "cell_type": "code",
   "execution_count": 1,
   "metadata": {},
   "outputs": [],
   "source": [
    "import numpy as np\n",
    "import pandas as pd\n",
    "import seaborn as sns\n",
    "import matplotlib.pyplot as plt\n",
    "%matplotlib inline"
   ]
  },
  {
   "cell_type": "markdown",
   "metadata": {},
   "source": [
    "IMPORTING AND CHECKING THE DATA FRAMES"
   ]
  },
  {
   "cell_type": "code",
   "execution_count": 2,
   "metadata": {},
   "outputs": [],
   "source": [
    "df=pd.read_csv('football data.csv',index_col=0)"
   ]
  },
  {
   "cell_type": "code",
   "execution_count": 3,
   "metadata": {},
   "outputs": [
    {
     "data": {
      "text/html": [
       "<div>\n",
       "<style scoped>\n",
       "    .dataframe tbody tr th:only-of-type {\n",
       "        vertical-align: middle;\n",
       "    }\n",
       "\n",
       "    .dataframe tbody tr th {\n",
       "        vertical-align: top;\n",
       "    }\n",
       "\n",
       "    .dataframe thead th {\n",
       "        text-align: right;\n",
       "    }\n",
       "</style>\n",
       "<table border=\"1\" class=\"dataframe\">\n",
       "  <thead>\n",
       "    <tr style=\"text-align: right;\">\n",
       "      <th></th>\n",
       "      <th>ID</th>\n",
       "      <th>Name</th>\n",
       "      <th>Age</th>\n",
       "      <th>Photo</th>\n",
       "      <th>Nationality</th>\n",
       "      <th>Flag</th>\n",
       "      <th>Overall</th>\n",
       "      <th>Potential</th>\n",
       "      <th>Club</th>\n",
       "      <th>Club Logo</th>\n",
       "      <th>...</th>\n",
       "      <th>Composure</th>\n",
       "      <th>Marking</th>\n",
       "      <th>StandingTackle</th>\n",
       "      <th>SlidingTackle</th>\n",
       "      <th>GKDiving</th>\n",
       "      <th>GKHandling</th>\n",
       "      <th>GKKicking</th>\n",
       "      <th>GKPositioning</th>\n",
       "      <th>GKReflexes</th>\n",
       "      <th>Release Clause</th>\n",
       "    </tr>\n",
       "  </thead>\n",
       "  <tbody>\n",
       "    <tr>\n",
       "      <th>0</th>\n",
       "      <td>158023</td>\n",
       "      <td>L. Messi</td>\n",
       "      <td>31</td>\n",
       "      <td>https://cdn.sofifa.org/players/4/19/158023.png</td>\n",
       "      <td>Argentina</td>\n",
       "      <td>https://cdn.sofifa.org/flags/52.png</td>\n",
       "      <td>94</td>\n",
       "      <td>94</td>\n",
       "      <td>FC Barcelona</td>\n",
       "      <td>https://cdn.sofifa.org/teams/2/light/241.png</td>\n",
       "      <td>...</td>\n",
       "      <td>96.0</td>\n",
       "      <td>33.0</td>\n",
       "      <td>28.0</td>\n",
       "      <td>26.0</td>\n",
       "      <td>6.0</td>\n",
       "      <td>11.0</td>\n",
       "      <td>15.0</td>\n",
       "      <td>14.0</td>\n",
       "      <td>8.0</td>\n",
       "      <td>€226.5M</td>\n",
       "    </tr>\n",
       "    <tr>\n",
       "      <th>1</th>\n",
       "      <td>20801</td>\n",
       "      <td>Cristiano Ronaldo</td>\n",
       "      <td>33</td>\n",
       "      <td>https://cdn.sofifa.org/players/4/19/20801.png</td>\n",
       "      <td>Portugal</td>\n",
       "      <td>https://cdn.sofifa.org/flags/38.png</td>\n",
       "      <td>94</td>\n",
       "      <td>94</td>\n",
       "      <td>Juventus</td>\n",
       "      <td>https://cdn.sofifa.org/teams/2/light/45.png</td>\n",
       "      <td>...</td>\n",
       "      <td>95.0</td>\n",
       "      <td>28.0</td>\n",
       "      <td>31.0</td>\n",
       "      <td>23.0</td>\n",
       "      <td>7.0</td>\n",
       "      <td>11.0</td>\n",
       "      <td>15.0</td>\n",
       "      <td>14.0</td>\n",
       "      <td>11.0</td>\n",
       "      <td>€127.1M</td>\n",
       "    </tr>\n",
       "    <tr>\n",
       "      <th>2</th>\n",
       "      <td>190871</td>\n",
       "      <td>Neymar Jr</td>\n",
       "      <td>26</td>\n",
       "      <td>https://cdn.sofifa.org/players/4/19/190871.png</td>\n",
       "      <td>Brazil</td>\n",
       "      <td>https://cdn.sofifa.org/flags/54.png</td>\n",
       "      <td>92</td>\n",
       "      <td>93</td>\n",
       "      <td>Paris Saint-Germain</td>\n",
       "      <td>https://cdn.sofifa.org/teams/2/light/73.png</td>\n",
       "      <td>...</td>\n",
       "      <td>94.0</td>\n",
       "      <td>27.0</td>\n",
       "      <td>24.0</td>\n",
       "      <td>33.0</td>\n",
       "      <td>9.0</td>\n",
       "      <td>9.0</td>\n",
       "      <td>15.0</td>\n",
       "      <td>15.0</td>\n",
       "      <td>11.0</td>\n",
       "      <td>€228.1M</td>\n",
       "    </tr>\n",
       "    <tr>\n",
       "      <th>3</th>\n",
       "      <td>193080</td>\n",
       "      <td>De Gea</td>\n",
       "      <td>27</td>\n",
       "      <td>https://cdn.sofifa.org/players/4/19/193080.png</td>\n",
       "      <td>Spain</td>\n",
       "      <td>https://cdn.sofifa.org/flags/45.png</td>\n",
       "      <td>91</td>\n",
       "      <td>93</td>\n",
       "      <td>Manchester United</td>\n",
       "      <td>https://cdn.sofifa.org/teams/2/light/11.png</td>\n",
       "      <td>...</td>\n",
       "      <td>68.0</td>\n",
       "      <td>15.0</td>\n",
       "      <td>21.0</td>\n",
       "      <td>13.0</td>\n",
       "      <td>90.0</td>\n",
       "      <td>85.0</td>\n",
       "      <td>87.0</td>\n",
       "      <td>88.0</td>\n",
       "      <td>94.0</td>\n",
       "      <td>€138.6M</td>\n",
       "    </tr>\n",
       "    <tr>\n",
       "      <th>4</th>\n",
       "      <td>192985</td>\n",
       "      <td>K. De Bruyne</td>\n",
       "      <td>27</td>\n",
       "      <td>https://cdn.sofifa.org/players/4/19/192985.png</td>\n",
       "      <td>Belgium</td>\n",
       "      <td>https://cdn.sofifa.org/flags/7.png</td>\n",
       "      <td>91</td>\n",
       "      <td>92</td>\n",
       "      <td>Manchester City</td>\n",
       "      <td>https://cdn.sofifa.org/teams/2/light/10.png</td>\n",
       "      <td>...</td>\n",
       "      <td>88.0</td>\n",
       "      <td>68.0</td>\n",
       "      <td>58.0</td>\n",
       "      <td>51.0</td>\n",
       "      <td>15.0</td>\n",
       "      <td>13.0</td>\n",
       "      <td>5.0</td>\n",
       "      <td>10.0</td>\n",
       "      <td>13.0</td>\n",
       "      <td>€196.4M</td>\n",
       "    </tr>\n",
       "  </tbody>\n",
       "</table>\n",
       "<p>5 rows × 88 columns</p>\n",
       "</div>"
      ],
      "text/plain": [
       "       ID               Name  Age  \\\n",
       "0  158023           L. Messi   31   \n",
       "1   20801  Cristiano Ronaldo   33   \n",
       "2  190871          Neymar Jr   26   \n",
       "3  193080             De Gea   27   \n",
       "4  192985       K. De Bruyne   27   \n",
       "\n",
       "                                            Photo Nationality  \\\n",
       "0  https://cdn.sofifa.org/players/4/19/158023.png   Argentina   \n",
       "1   https://cdn.sofifa.org/players/4/19/20801.png    Portugal   \n",
       "2  https://cdn.sofifa.org/players/4/19/190871.png      Brazil   \n",
       "3  https://cdn.sofifa.org/players/4/19/193080.png       Spain   \n",
       "4  https://cdn.sofifa.org/players/4/19/192985.png     Belgium   \n",
       "\n",
       "                                  Flag  Overall  Potential  \\\n",
       "0  https://cdn.sofifa.org/flags/52.png       94         94   \n",
       "1  https://cdn.sofifa.org/flags/38.png       94         94   \n",
       "2  https://cdn.sofifa.org/flags/54.png       92         93   \n",
       "3  https://cdn.sofifa.org/flags/45.png       91         93   \n",
       "4   https://cdn.sofifa.org/flags/7.png       91         92   \n",
       "\n",
       "                  Club                                     Club Logo  ...  \\\n",
       "0         FC Barcelona  https://cdn.sofifa.org/teams/2/light/241.png  ...   \n",
       "1             Juventus   https://cdn.sofifa.org/teams/2/light/45.png  ...   \n",
       "2  Paris Saint-Germain   https://cdn.sofifa.org/teams/2/light/73.png  ...   \n",
       "3    Manchester United   https://cdn.sofifa.org/teams/2/light/11.png  ...   \n",
       "4      Manchester City   https://cdn.sofifa.org/teams/2/light/10.png  ...   \n",
       "\n",
       "  Composure Marking  StandingTackle SlidingTackle  GKDiving  GKHandling  \\\n",
       "0      96.0    33.0            28.0          26.0       6.0        11.0   \n",
       "1      95.0    28.0            31.0          23.0       7.0        11.0   \n",
       "2      94.0    27.0            24.0          33.0       9.0         9.0   \n",
       "3      68.0    15.0            21.0          13.0      90.0        85.0   \n",
       "4      88.0    68.0            58.0          51.0      15.0        13.0   \n",
       "\n",
       "   GKKicking GKPositioning GKReflexes Release Clause  \n",
       "0       15.0          14.0        8.0        €226.5M  \n",
       "1       15.0          14.0       11.0        €127.1M  \n",
       "2       15.0          15.0       11.0        €228.1M  \n",
       "3       87.0          88.0       94.0        €138.6M  \n",
       "4        5.0          10.0       13.0        €196.4M  \n",
       "\n",
       "[5 rows x 88 columns]"
      ]
     },
     "execution_count": 3,
     "metadata": {},
     "output_type": "execute_result"
    }
   ],
   "source": [
    "df.head()"
   ]
  },
  {
   "cell_type": "markdown",
   "metadata": {},
   "source": [
    "#This is important to check how many unique features are there in you data input (here in form of descending order)"
   ]
  },
  {
   "cell_type": "code",
   "execution_count": 4,
   "metadata": {},
   "outputs": [
    {
     "data": {
      "text/plain": [
       "ID                          18207\n",
       "Photo                       18207\n",
       "Name                        17194\n",
       "Joined                       1736\n",
       "Special                      1422\n",
       "                            ...  \n",
       "Weak Foot                       5\n",
       "International Reputation        5\n",
       "Skill Moves                     5\n",
       "Preferred Foot                  2\n",
       "Real Face                       2\n",
       "Length: 88, dtype: int64"
      ]
     },
     "execution_count": 4,
     "metadata": {},
     "output_type": "execute_result"
    }
   ],
   "source": [
    "df.nunique().sort_values(ascending=False)"
   ]
  },
  {
   "cell_type": "code",
   "execution_count": 5,
   "metadata": {},
   "outputs": [
    {
     "data": {
      "text/plain": [
       "88"
      ]
     },
     "execution_count": 5,
     "metadata": {},
     "output_type": "execute_result"
    }
   ],
   "source": [
    "df.columns.nunique()"
   ]
  },
  {
   "cell_type": "code",
   "execution_count": 6,
   "metadata": {},
   "outputs": [
    {
     "data": {
      "text/plain": [
       "18207"
      ]
     },
     "execution_count": 6,
     "metadata": {},
     "output_type": "execute_result"
    }
   ],
   "source": [
    "len(df)"
   ]
  },
  {
   "cell_type": "markdown",
   "metadata": {},
   "source": [
    "CHECKING FOR ANY MISSING DATA . For training a model there should  not be any feature left behind"
   ]
  },
  {
   "cell_type": "code",
   "execution_count": 5,
   "metadata": {},
   "outputs": [
    {
     "data": {
      "text/plain": [
       "ID                   0\n",
       "Name                 0\n",
       "Age                  0\n",
       "Photo                0\n",
       "Nationality          0\n",
       "                  ... \n",
       "GKHandling          48\n",
       "GKKicking           48\n",
       "GKPositioning       48\n",
       "GKReflexes          48\n",
       "Release Clause    1564\n",
       "Length: 88, dtype: int64"
      ]
     },
     "execution_count": 5,
     "metadata": {},
     "output_type": "execute_result"
    }
   ],
   "source": [
    "df.isnull().sum()"
   ]
  },
  {
   "cell_type": "code",
   "execution_count": 6,
   "metadata": {},
   "outputs": [
    {
     "data": {
      "text/plain": [
       "ID                0.000000\n",
       "Name              0.000000\n",
       "Age               0.000000\n",
       "Photo             0.000000\n",
       "Nationality       0.000000\n",
       "                    ...   \n",
       "GKHandling        0.263635\n",
       "GKKicking         0.263635\n",
       "GKPositioning     0.263635\n",
       "GKReflexes        0.263635\n",
       "Release Clause    8.590103\n",
       "Length: 88, dtype: float64"
      ]
     },
     "execution_count": 6,
     "metadata": {},
     "output_type": "execute_result"
    }
   ],
   "source": [
    "100* df.isnull().sum()/len(df)"
   ]
  },
  {
   "cell_type": "code",
   "execution_count": 7,
   "metadata": {},
   "outputs": [
    {
     "data": {
      "text/plain": [
       "164"
      ]
     },
     "execution_count": 7,
     "metadata": {},
     "output_type": "execute_result"
    }
   ],
   "source": [
    "df.isnull().nunique().sum()"
   ]
  },
  {
   "cell_type": "markdown",
   "metadata": {},
   "source": [
    "Now checking for columns and extracting important ones from them"
   ]
  },
  {
   "cell_type": "code",
   "execution_count": 8,
   "metadata": {},
   "outputs": [
    {
     "data": {
      "text/plain": [
       "Index(['ID', 'Name', 'Age', 'Photo', 'Nationality', 'Flag', 'Overall',\n",
       "       'Potential', 'Club', 'Club Logo', 'Value', 'Wage', 'Special',\n",
       "       'Preferred Foot', 'International Reputation', 'Weak Foot',\n",
       "       'Skill Moves', 'Work Rate', 'Body Type', 'Real Face', 'Position',\n",
       "       'Jersey Number', 'Joined', 'Loaned From', 'Contract Valid Until',\n",
       "       'Height', 'Weight', 'LS', 'ST', 'RS', 'LW', 'LF', 'CF', 'RF', 'RW',\n",
       "       'LAM', 'CAM', 'RAM', 'LM', 'LCM', 'CM', 'RCM', 'RM', 'LWB', 'LDM',\n",
       "       'CDM', 'RDM', 'RWB', 'LB', 'LCB', 'CB', 'RCB', 'RB', 'Crossing',\n",
       "       'Finishing', 'HeadingAccuracy', 'ShortPassing', 'Volleys', 'Dribbling',\n",
       "       'Curve', 'FKAccuracy', 'LongPassing', 'BallControl', 'Acceleration',\n",
       "       'SprintSpeed', 'Agility', 'Reactions', 'Balance', 'ShotPower',\n",
       "       'Jumping', 'Stamina', 'Strength', 'LongShots', 'Aggression',\n",
       "       'Interceptions', 'Positioning', 'Vision', 'Penalties', 'Composure',\n",
       "       'Marking', 'StandingTackle', 'SlidingTackle', 'GKDiving', 'GKHandling',\n",
       "       'GKKicking', 'GKPositioning', 'GKReflexes', 'Release Clause'],\n",
       "      dtype='object')"
      ]
     },
     "execution_count": 8,
     "metadata": {},
     "output_type": "execute_result"
    }
   ],
   "source": [
    "df.columns"
   ]
  },
  {
   "cell_type": "code",
   "execution_count": 9,
   "metadata": {},
   "outputs": [
    {
     "name": "stdout",
     "output_type": "stream",
     "text": [
      "<class 'pandas.core.frame.DataFrame'>\n",
      "Int64Index: 18207 entries, 0 to 18206\n",
      "Data columns (total 88 columns):\n",
      " #   Column                    Non-Null Count  Dtype  \n",
      "---  ------                    --------------  -----  \n",
      " 0   ID                        18207 non-null  int64  \n",
      " 1   Name                      18207 non-null  object \n",
      " 2   Age                       18207 non-null  int64  \n",
      " 3   Photo                     18207 non-null  object \n",
      " 4   Nationality               18207 non-null  object \n",
      " 5   Flag                      18207 non-null  object \n",
      " 6   Overall                   18207 non-null  int64  \n",
      " 7   Potential                 18207 non-null  int64  \n",
      " 8   Club                      17966 non-null  object \n",
      " 9   Club Logo                 18207 non-null  object \n",
      " 10  Value                     18207 non-null  object \n",
      " 11  Wage                      18207 non-null  object \n",
      " 12  Special                   18207 non-null  int64  \n",
      " 13  Preferred Foot            18159 non-null  object \n",
      " 14  International Reputation  18159 non-null  float64\n",
      " 15  Weak Foot                 18159 non-null  float64\n",
      " 16  Skill Moves               18159 non-null  float64\n",
      " 17  Work Rate                 18159 non-null  object \n",
      " 18  Body Type                 18159 non-null  object \n",
      " 19  Real Face                 18159 non-null  object \n",
      " 20  Position                  18147 non-null  object \n",
      " 21  Jersey Number             18147 non-null  float64\n",
      " 22  Joined                    16654 non-null  object \n",
      " 23  Loaned From               1264 non-null   object \n",
      " 24  Contract Valid Until      17918 non-null  object \n",
      " 25  Height                    18159 non-null  object \n",
      " 26  Weight                    18159 non-null  object \n",
      " 27  LS                        16122 non-null  object \n",
      " 28  ST                        16122 non-null  object \n",
      " 29  RS                        16122 non-null  object \n",
      " 30  LW                        16122 non-null  object \n",
      " 31  LF                        16122 non-null  object \n",
      " 32  CF                        16122 non-null  object \n",
      " 33  RF                        16122 non-null  object \n",
      " 34  RW                        16122 non-null  object \n",
      " 35  LAM                       16122 non-null  object \n",
      " 36  CAM                       16122 non-null  object \n",
      " 37  RAM                       16122 non-null  object \n",
      " 38  LM                        16122 non-null  object \n",
      " 39  LCM                       16122 non-null  object \n",
      " 40  CM                        16122 non-null  object \n",
      " 41  RCM                       16122 non-null  object \n",
      " 42  RM                        16122 non-null  object \n",
      " 43  LWB                       16122 non-null  object \n",
      " 44  LDM                       16122 non-null  object \n",
      " 45  CDM                       16122 non-null  object \n",
      " 46  RDM                       16122 non-null  object \n",
      " 47  RWB                       16122 non-null  object \n",
      " 48  LB                        16122 non-null  object \n",
      " 49  LCB                       16122 non-null  object \n",
      " 50  CB                        16122 non-null  object \n",
      " 51  RCB                       16122 non-null  object \n",
      " 52  RB                        16122 non-null  object \n",
      " 53  Crossing                  18159 non-null  float64\n",
      " 54  Finishing                 18159 non-null  float64\n",
      " 55  HeadingAccuracy           18159 non-null  float64\n",
      " 56  ShortPassing              18159 non-null  float64\n",
      " 57  Volleys                   18159 non-null  float64\n",
      " 58  Dribbling                 18159 non-null  float64\n",
      " 59  Curve                     18159 non-null  float64\n",
      " 60  FKAccuracy                18159 non-null  float64\n",
      " 61  LongPassing               18159 non-null  float64\n",
      " 62  BallControl               18159 non-null  float64\n",
      " 63  Acceleration              18159 non-null  float64\n",
      " 64  SprintSpeed               18159 non-null  float64\n",
      " 65  Agility                   18159 non-null  float64\n",
      " 66  Reactions                 18159 non-null  float64\n",
      " 67  Balance                   18159 non-null  float64\n",
      " 68  ShotPower                 18159 non-null  float64\n",
      " 69  Jumping                   18159 non-null  float64\n",
      " 70  Stamina                   18159 non-null  float64\n",
      " 71  Strength                  18159 non-null  float64\n",
      " 72  LongShots                 18159 non-null  float64\n",
      " 73  Aggression                18159 non-null  float64\n",
      " 74  Interceptions             18159 non-null  float64\n",
      " 75  Positioning               18159 non-null  float64\n",
      " 76  Vision                    18159 non-null  float64\n",
      " 77  Penalties                 18159 non-null  float64\n",
      " 78  Composure                 18159 non-null  float64\n",
      " 79  Marking                   18159 non-null  float64\n",
      " 80  StandingTackle            18159 non-null  float64\n",
      " 81  SlidingTackle             18159 non-null  float64\n",
      " 82  GKDiving                  18159 non-null  float64\n",
      " 83  GKHandling                18159 non-null  float64\n",
      " 84  GKKicking                 18159 non-null  float64\n",
      " 85  GKPositioning             18159 non-null  float64\n",
      " 86  GKReflexes                18159 non-null  float64\n",
      " 87  Release Clause            16643 non-null  object \n",
      "dtypes: float64(38), int64(5), object(45)\n",
      "memory usage: 12.4+ MB\n"
     ]
    }
   ],
   "source": [
    "df.info()"
   ]
  },
  {
   "cell_type": "markdown",
   "metadata": {},
   "source": [
    "FILLING THE MISSING VALUES WITH THEIR MEAN MOR MEDIANS"
   ]
  },
  {
   "cell_type": "code",
   "execution_count": 10,
   "metadata": {},
   "outputs": [
    {
     "data": {
      "text/plain": [
       "0        159lbs\n",
       "1        183lbs\n",
       "2        150lbs\n",
       "3        168lbs\n",
       "4        154lbs\n",
       "          ...  \n",
       "18202    134lbs\n",
       "18203    170lbs\n",
       "18204    148lbs\n",
       "18205    154lbs\n",
       "18206    176lbs\n",
       "Name: Weight, Length: 18207, dtype: object"
      ]
     },
     "execution_count": 10,
     "metadata": {},
     "output_type": "execute_result"
    }
   ],
   "source": [
    "df['Weight']"
   ]
  },
  {
   "cell_type": "markdown",
   "metadata": {},
   "source": [
    "Using important features and filling their missing values either by their mean or median (as per model's convenience)"
   ]
  },
  {
   "cell_type": "code",
   "execution_count": 11,
   "metadata": {},
   "outputs": [],
   "source": [
    "df['ShortPassing'].fillna(df['ShortPassing'].mean(), inplace = True)\n",
    "df['Volleys'].fillna(df['Volleys'].mean(), inplace = True)\n",
    "df['Dribbling'].fillna(df['Dribbling'].mean(), inplace = True)\n",
    "df['Curve'].fillna(df['Curve'].mean(), inplace = True)\n",
    "df['FKAccuracy'].fillna(df['FKAccuracy'], inplace = True)\n",
    "df['LongPassing'].fillna(df['LongPassing'].mean(), inplace = True)\n",
    "df['BallControl'].fillna(df['BallControl'].mean(), inplace = True)\n",
    "df['HeadingAccuracy'].fillna(df['HeadingAccuracy'].mean(), inplace = True)\n",
    "df['Finishing'].fillna(df['Finishing'].mean(), inplace = True)\n",
    "df['Crossing'].fillna(df['Crossing'].mean(), inplace = True)\n",
    "df['Weight'].fillna('165lbs', inplace = True)\n",
    "df['Contract Valid Until'].fillna(2019, inplace = True)\n",
    "df['Height'].fillna(\"5'11\", inplace = True)\n",
    "df['Loaned From'].fillna('None', inplace = True)\n",
    "df['Joined'].fillna('Jul 1, 2018', inplace = True)\n",
    "df['Jersey Number'].fillna(8, inplace = True)\n",
    "df['Body Type'].fillna('Normal', inplace = True)\n",
    "df['Position'].fillna('ST', inplace = True)\n",
    "df['Club'].fillna('No Club', inplace = True)\n",
    "df['Work Rate'].fillna('Medium/ Medium', inplace = True)\n",
    "df['Skill Moves'].fillna(df['Skill Moves'].median(), inplace = True)\n",
    "df['Weak Foot'].fillna(3, inplace = True)\n",
    "df['Preferred Foot'].fillna('Right', inplace = True)\n",
    "df['International Reputation'].fillna(1, inplace = True)\n",
    "df['Wage'].fillna('€200K', inplace = True)"
   ]
  },
  {
   "cell_type": "code",
   "execution_count": 12,
   "metadata": {},
   "outputs": [
    {
     "data": {
      "text/plain": [
       "141"
      ]
     },
     "execution_count": 12,
     "metadata": {},
     "output_type": "execute_result"
    }
   ],
   "source": [
    "df.isnull().nunique().sum()"
   ]
  },
  {
   "cell_type": "code",
   "execution_count": 13,
   "metadata": {},
   "outputs": [],
   "source": [
    "df.fillna(0, inplace = True)"
   ]
  },
  {
   "cell_type": "markdown",
   "metadata": {},
   "source": [
    "REPLACING THE STRING TO REQUIRED NUMERICAL VALUE FOR GETTING USE OF MORE COLUMNS "
   ]
  },
  {
   "cell_type": "code",
   "execution_count": 14,
   "metadata": {},
   "outputs": [
    {
     "data": {
      "text/plain": [
       "count      18207\n",
       "unique        57\n",
       "top       165lbs\n",
       "freq        1531\n",
       "Name: Weight, dtype: object"
      ]
     },
     "execution_count": 14,
     "metadata": {},
     "output_type": "execute_result"
    }
   ],
   "source": [
    "df['Weight'].describe()"
   ]
  },
  {
   "cell_type": "code",
   "execution_count": 15,
   "metadata": {},
   "outputs": [
    {
     "data": {
      "text/plain": [
       "0    159.0\n",
       "1    183.0\n",
       "2    150.0\n",
       "3    168.0\n",
       "4    154.0\n",
       "Name: Weight, dtype: float64"
      ]
     },
     "execution_count": 15,
     "metadata": {},
     "output_type": "execute_result"
    }
   ],
   "source": [
    "\n",
    "def extract_value_from(value):\n",
    "  out = value.replace('lbs', '')\n",
    "  return float(out)\n",
    "\n",
    "df['Weight'] = df['Weight'].apply(lambda x : extract_value_from(x))\n",
    "\n",
    "df['Weight'].head()"
   ]
  },
  {
   "cell_type": "code",
   "execution_count": 16,
   "metadata": {},
   "outputs": [
    {
     "data": {
      "text/plain": [
       "165.97654748173778"
      ]
     },
     "execution_count": 16,
     "metadata": {},
     "output_type": "execute_result"
    }
   ],
   "source": [
    "df['Weight'].mean()"
   ]
  },
  {
   "cell_type": "code",
   "execution_count": 17,
   "metadata": {},
   "outputs": [],
   "source": [
    "def extract_value_from(Value):\n",
    "    out = Value.replace('€', '')\n",
    "    if 'M' in out:\n",
    "        out = float(out.replace('M', ''))*1000000\n",
    "    elif 'K' in Value:\n",
    "        out = float(out.replace('K', ''))*1000\n",
    "    return float(out)"
   ]
  },
  {
   "cell_type": "code",
   "execution_count": 18,
   "metadata": {},
   "outputs": [
    {
     "data": {
      "text/plain": [
       "0    565000.0\n",
       "1    405000.0\n",
       "2    290000.0\n",
       "3    260000.0\n",
       "4    355000.0\n",
       "Name: Wage, dtype: float64"
      ]
     },
     "execution_count": 18,
     "metadata": {},
     "output_type": "execute_result"
    }
   ],
   "source": [
    "df['Value'] = df['Value'].apply(lambda x: extract_value_from(x))\n",
    "df['Wage'] = df['Wage'].apply(lambda x: extract_value_from(x))\n",
    "\n",
    "\n",
    "df['Wage'].head()\n"
   ]
  },
  {
   "cell_type": "markdown",
   "metadata": {},
   "source": [
    "# SELECTING IMPORTANT COLUMNS OF DATASET"
   ]
  },
  {
   "cell_type": "code",
   "execution_count": 19,
   "metadata": {},
   "outputs": [],
   "source": [
    "selected_columns = ['Name', 'Age', 'Nationality', 'Overall', 'Potential', 'Club', 'Value',\n",
    "                    'Wage', 'Special', 'Preferred Foot', 'International Reputation', 'Weak Foot',\n",
    "                    'Skill Moves', 'Work Rate', 'Body Type', 'Position', 'Height', 'Weight',\n",
    "                    'Finishing', 'HeadingAccuracy', 'ShortPassing', 'Volleys', 'Dribbling',\n",
    "                    'Curve', 'FKAccuracy', 'LongPassing', 'BallControl', 'Acceleration',\n",
    "                    'SprintSpeed', 'Agility', 'Reactions', 'Balance', 'ShotPower',\n",
    "                    'Jumping', 'Stamina', 'Strength', 'LongShots', 'Aggression',\n",
    "                    'Interceptions', 'Positioning', 'Vision', 'Penalties', 'Composure',\n",
    "                    'Marking', 'StandingTackle', 'SlidingTackle', 'GKDiving', 'GKHandling',\n",
    "                    'GKKicking', 'GKPositioning', 'GKReflexes', 'Release Clause']"
   ]
  },
  {
   "cell_type": "code",
   "execution_count": 20,
   "metadata": {},
   "outputs": [
    {
     "data": {
      "text/plain": [
       "Index(['Name', 'Age', 'Nationality', 'Overall', 'Potential', 'Club', 'Value',\n",
       "       'Wage', 'Special', 'Preferred Foot', 'International Reputation',\n",
       "       'Weak Foot', 'Skill Moves', 'Work Rate', 'Body Type', 'Position',\n",
       "       'Height', 'Weight', 'Finishing', 'HeadingAccuracy', 'ShortPassing',\n",
       "       'Volleys', 'Dribbling', 'Curve', 'FKAccuracy', 'LongPassing',\n",
       "       'BallControl', 'Acceleration', 'SprintSpeed', 'Agility', 'Reactions',\n",
       "       'Balance', 'ShotPower', 'Jumping', 'Stamina', 'Strength', 'LongShots',\n",
       "       'Aggression', 'Interceptions', 'Positioning', 'Vision', 'Penalties',\n",
       "       'Composure', 'Marking', 'StandingTackle', 'SlidingTackle', 'GKDiving',\n",
       "       'GKHandling', 'GKKicking', 'GKPositioning', 'GKReflexes',\n",
       "       'Release Clause'],\n",
       "      dtype='object')"
      ]
     },
     "execution_count": 20,
     "metadata": {},
     "output_type": "execute_result"
    }
   ],
   "source": [
    "df_selected = pd.DataFrame(df, columns = selected_columns)\n",
    "df_selected.columns"
   ]
  },
  {
   "cell_type": "code",
   "execution_count": 21,
   "metadata": {},
   "outputs": [
    {
     "data": {
      "text/html": [
       "<div>\n",
       "<style scoped>\n",
       "    .dataframe tbody tr th:only-of-type {\n",
       "        vertical-align: middle;\n",
       "    }\n",
       "\n",
       "    .dataframe tbody tr th {\n",
       "        vertical-align: top;\n",
       "    }\n",
       "\n",
       "    .dataframe thead th {\n",
       "        text-align: right;\n",
       "    }\n",
       "</style>\n",
       "<table border=\"1\" class=\"dataframe\">\n",
       "  <thead>\n",
       "    <tr style=\"text-align: right;\">\n",
       "      <th></th>\n",
       "      <th>Name</th>\n",
       "      <th>Age</th>\n",
       "      <th>Nationality</th>\n",
       "      <th>Overall</th>\n",
       "      <th>Potential</th>\n",
       "      <th>Club</th>\n",
       "      <th>Value</th>\n",
       "      <th>Wage</th>\n",
       "      <th>Special</th>\n",
       "      <th>Preferred Foot</th>\n",
       "      <th>...</th>\n",
       "      <th>Composure</th>\n",
       "      <th>Marking</th>\n",
       "      <th>StandingTackle</th>\n",
       "      <th>SlidingTackle</th>\n",
       "      <th>GKDiving</th>\n",
       "      <th>GKHandling</th>\n",
       "      <th>GKKicking</th>\n",
       "      <th>GKPositioning</th>\n",
       "      <th>GKReflexes</th>\n",
       "      <th>Release Clause</th>\n",
       "    </tr>\n",
       "  </thead>\n",
       "  <tbody>\n",
       "    <tr>\n",
       "      <th>0</th>\n",
       "      <td>L. Messi</td>\n",
       "      <td>31</td>\n",
       "      <td>Argentina</td>\n",
       "      <td>94</td>\n",
       "      <td>94</td>\n",
       "      <td>FC Barcelona</td>\n",
       "      <td>110500000.0</td>\n",
       "      <td>565000.0</td>\n",
       "      <td>2202</td>\n",
       "      <td>Left</td>\n",
       "      <td>...</td>\n",
       "      <td>96.0</td>\n",
       "      <td>33.0</td>\n",
       "      <td>28.0</td>\n",
       "      <td>26.0</td>\n",
       "      <td>6.0</td>\n",
       "      <td>11.0</td>\n",
       "      <td>15.0</td>\n",
       "      <td>14.0</td>\n",
       "      <td>8.0</td>\n",
       "      <td>€226.5M</td>\n",
       "    </tr>\n",
       "    <tr>\n",
       "      <th>1</th>\n",
       "      <td>Cristiano Ronaldo</td>\n",
       "      <td>33</td>\n",
       "      <td>Portugal</td>\n",
       "      <td>94</td>\n",
       "      <td>94</td>\n",
       "      <td>Juventus</td>\n",
       "      <td>77000000.0</td>\n",
       "      <td>405000.0</td>\n",
       "      <td>2228</td>\n",
       "      <td>Right</td>\n",
       "      <td>...</td>\n",
       "      <td>95.0</td>\n",
       "      <td>28.0</td>\n",
       "      <td>31.0</td>\n",
       "      <td>23.0</td>\n",
       "      <td>7.0</td>\n",
       "      <td>11.0</td>\n",
       "      <td>15.0</td>\n",
       "      <td>14.0</td>\n",
       "      <td>11.0</td>\n",
       "      <td>€127.1M</td>\n",
       "    </tr>\n",
       "    <tr>\n",
       "      <th>2</th>\n",
       "      <td>Neymar Jr</td>\n",
       "      <td>26</td>\n",
       "      <td>Brazil</td>\n",
       "      <td>92</td>\n",
       "      <td>93</td>\n",
       "      <td>Paris Saint-Germain</td>\n",
       "      <td>118500000.0</td>\n",
       "      <td>290000.0</td>\n",
       "      <td>2143</td>\n",
       "      <td>Right</td>\n",
       "      <td>...</td>\n",
       "      <td>94.0</td>\n",
       "      <td>27.0</td>\n",
       "      <td>24.0</td>\n",
       "      <td>33.0</td>\n",
       "      <td>9.0</td>\n",
       "      <td>9.0</td>\n",
       "      <td>15.0</td>\n",
       "      <td>15.0</td>\n",
       "      <td>11.0</td>\n",
       "      <td>€228.1M</td>\n",
       "    </tr>\n",
       "    <tr>\n",
       "      <th>3</th>\n",
       "      <td>De Gea</td>\n",
       "      <td>27</td>\n",
       "      <td>Spain</td>\n",
       "      <td>91</td>\n",
       "      <td>93</td>\n",
       "      <td>Manchester United</td>\n",
       "      <td>72000000.0</td>\n",
       "      <td>260000.0</td>\n",
       "      <td>1471</td>\n",
       "      <td>Right</td>\n",
       "      <td>...</td>\n",
       "      <td>68.0</td>\n",
       "      <td>15.0</td>\n",
       "      <td>21.0</td>\n",
       "      <td>13.0</td>\n",
       "      <td>90.0</td>\n",
       "      <td>85.0</td>\n",
       "      <td>87.0</td>\n",
       "      <td>88.0</td>\n",
       "      <td>94.0</td>\n",
       "      <td>€138.6M</td>\n",
       "    </tr>\n",
       "    <tr>\n",
       "      <th>4</th>\n",
       "      <td>K. De Bruyne</td>\n",
       "      <td>27</td>\n",
       "      <td>Belgium</td>\n",
       "      <td>91</td>\n",
       "      <td>92</td>\n",
       "      <td>Manchester City</td>\n",
       "      <td>102000000.0</td>\n",
       "      <td>355000.0</td>\n",
       "      <td>2281</td>\n",
       "      <td>Right</td>\n",
       "      <td>...</td>\n",
       "      <td>88.0</td>\n",
       "      <td>68.0</td>\n",
       "      <td>58.0</td>\n",
       "      <td>51.0</td>\n",
       "      <td>15.0</td>\n",
       "      <td>13.0</td>\n",
       "      <td>5.0</td>\n",
       "      <td>10.0</td>\n",
       "      <td>13.0</td>\n",
       "      <td>€196.4M</td>\n",
       "    </tr>\n",
       "  </tbody>\n",
       "</table>\n",
       "<p>5 rows × 52 columns</p>\n",
       "</div>"
      ],
      "text/plain": [
       "                Name  Age Nationality  Overall  Potential  \\\n",
       "0           L. Messi   31   Argentina       94         94   \n",
       "1  Cristiano Ronaldo   33    Portugal       94         94   \n",
       "2          Neymar Jr   26      Brazil       92         93   \n",
       "3             De Gea   27       Spain       91         93   \n",
       "4       K. De Bruyne   27     Belgium       91         92   \n",
       "\n",
       "                  Club        Value      Wage  Special Preferred Foot  ...  \\\n",
       "0         FC Barcelona  110500000.0  565000.0     2202           Left  ...   \n",
       "1             Juventus   77000000.0  405000.0     2228          Right  ...   \n",
       "2  Paris Saint-Germain  118500000.0  290000.0     2143          Right  ...   \n",
       "3    Manchester United   72000000.0  260000.0     1471          Right  ...   \n",
       "4      Manchester City  102000000.0  355000.0     2281          Right  ...   \n",
       "\n",
       "   Composure  Marking  StandingTackle SlidingTackle GKDiving GKHandling  \\\n",
       "0       96.0     33.0            28.0          26.0      6.0       11.0   \n",
       "1       95.0     28.0            31.0          23.0      7.0       11.0   \n",
       "2       94.0     27.0            24.0          33.0      9.0        9.0   \n",
       "3       68.0     15.0            21.0          13.0     90.0       85.0   \n",
       "4       88.0     68.0            58.0          51.0     15.0       13.0   \n",
       "\n",
       "  GKKicking  GKPositioning  GKReflexes  Release Clause  \n",
       "0      15.0           14.0         8.0         €226.5M  \n",
       "1      15.0           14.0        11.0         €127.1M  \n",
       "2      15.0           15.0        11.0         €228.1M  \n",
       "3      87.0           88.0        94.0         €138.6M  \n",
       "4       5.0           10.0        13.0         €196.4M  \n",
       "\n",
       "[5 rows x 52 columns]"
      ]
     },
     "execution_count": 21,
     "metadata": {},
     "output_type": "execute_result"
    }
   ],
   "source": [
    "df_selected.head()"
   ]
  },
  {
   "cell_type": "code",
   "execution_count": 22,
   "metadata": {},
   "outputs": [
    {
     "name": "stdout",
     "output_type": "stream",
     "text": [
      "<class 'pandas.core.frame.DataFrame'>\n",
      "Int64Index: 18207 entries, 0 to 18206\n",
      "Data columns (total 52 columns):\n",
      " #   Column                    Non-Null Count  Dtype  \n",
      "---  ------                    --------------  -----  \n",
      " 0   Name                      18207 non-null  object \n",
      " 1   Age                       18207 non-null  int64  \n",
      " 2   Nationality               18207 non-null  object \n",
      " 3   Overall                   18207 non-null  int64  \n",
      " 4   Potential                 18207 non-null  int64  \n",
      " 5   Club                      18207 non-null  object \n",
      " 6   Value                     18207 non-null  float64\n",
      " 7   Wage                      18207 non-null  float64\n",
      " 8   Special                   18207 non-null  int64  \n",
      " 9   Preferred Foot            18207 non-null  object \n",
      " 10  International Reputation  18207 non-null  float64\n",
      " 11  Weak Foot                 18207 non-null  float64\n",
      " 12  Skill Moves               18207 non-null  float64\n",
      " 13  Work Rate                 18207 non-null  object \n",
      " 14  Body Type                 18207 non-null  object \n",
      " 15  Position                  18207 non-null  object \n",
      " 16  Height                    18207 non-null  object \n",
      " 17  Weight                    18207 non-null  float64\n",
      " 18  Finishing                 18207 non-null  float64\n",
      " 19  HeadingAccuracy           18207 non-null  float64\n",
      " 20  ShortPassing              18207 non-null  float64\n",
      " 21  Volleys                   18207 non-null  float64\n",
      " 22  Dribbling                 18207 non-null  float64\n",
      " 23  Curve                     18207 non-null  float64\n",
      " 24  FKAccuracy                18207 non-null  float64\n",
      " 25  LongPassing               18207 non-null  float64\n",
      " 26  BallControl               18207 non-null  float64\n",
      " 27  Acceleration              18207 non-null  float64\n",
      " 28  SprintSpeed               18207 non-null  float64\n",
      " 29  Agility                   18207 non-null  float64\n",
      " 30  Reactions                 18207 non-null  float64\n",
      " 31  Balance                   18207 non-null  float64\n",
      " 32  ShotPower                 18207 non-null  float64\n",
      " 33  Jumping                   18207 non-null  float64\n",
      " 34  Stamina                   18207 non-null  float64\n",
      " 35  Strength                  18207 non-null  float64\n",
      " 36  LongShots                 18207 non-null  float64\n",
      " 37  Aggression                18207 non-null  float64\n",
      " 38  Interceptions             18207 non-null  float64\n",
      " 39  Positioning               18207 non-null  float64\n",
      " 40  Vision                    18207 non-null  float64\n",
      " 41  Penalties                 18207 non-null  float64\n",
      " 42  Composure                 18207 non-null  float64\n",
      " 43  Marking                   18207 non-null  float64\n",
      " 44  StandingTackle            18207 non-null  float64\n",
      " 45  SlidingTackle             18207 non-null  float64\n",
      " 46  GKDiving                  18207 non-null  float64\n",
      " 47  GKHandling                18207 non-null  float64\n",
      " 48  GKKicking                 18207 non-null  float64\n",
      " 49  GKPositioning             18207 non-null  float64\n",
      " 50  GKReflexes                18207 non-null  float64\n",
      " 51  Release Clause            18207 non-null  object \n",
      "dtypes: float64(39), int64(4), object(9)\n",
      "memory usage: 7.4+ MB\n"
     ]
    }
   ],
   "source": [
    "df_selected.info()"
   ]
  },
  {
   "cell_type": "code",
   "execution_count": 23,
   "metadata": {},
   "outputs": [
    {
     "data": {
      "text/html": [
       "<div>\n",
       "<style scoped>\n",
       "    .dataframe tbody tr th:only-of-type {\n",
       "        vertical-align: middle;\n",
       "    }\n",
       "\n",
       "    .dataframe tbody tr th {\n",
       "        vertical-align: top;\n",
       "    }\n",
       "\n",
       "    .dataframe thead th {\n",
       "        text-align: right;\n",
       "    }\n",
       "</style>\n",
       "<table border=\"1\" class=\"dataframe\">\n",
       "  <thead>\n",
       "    <tr style=\"text-align: right;\">\n",
       "      <th></th>\n",
       "      <th>Age</th>\n",
       "      <th>Overall</th>\n",
       "      <th>Potential</th>\n",
       "      <th>Value</th>\n",
       "      <th>Wage</th>\n",
       "      <th>Special</th>\n",
       "      <th>International Reputation</th>\n",
       "      <th>Weak Foot</th>\n",
       "      <th>Skill Moves</th>\n",
       "      <th>Weight</th>\n",
       "      <th>...</th>\n",
       "      <th>Penalties</th>\n",
       "      <th>Composure</th>\n",
       "      <th>Marking</th>\n",
       "      <th>StandingTackle</th>\n",
       "      <th>SlidingTackle</th>\n",
       "      <th>GKDiving</th>\n",
       "      <th>GKHandling</th>\n",
       "      <th>GKKicking</th>\n",
       "      <th>GKPositioning</th>\n",
       "      <th>GKReflexes</th>\n",
       "    </tr>\n",
       "  </thead>\n",
       "  <tbody>\n",
       "    <tr>\n",
       "      <th>count</th>\n",
       "      <td>18207.000000</td>\n",
       "      <td>18207.000000</td>\n",
       "      <td>18207.000000</td>\n",
       "      <td>1.820700e+04</td>\n",
       "      <td>18207.000000</td>\n",
       "      <td>18207.000000</td>\n",
       "      <td>18207.000000</td>\n",
       "      <td>18207.000000</td>\n",
       "      <td>18207.000000</td>\n",
       "      <td>18207.000000</td>\n",
       "      <td>...</td>\n",
       "      <td>18207.000000</td>\n",
       "      <td>18207.000000</td>\n",
       "      <td>18207.000000</td>\n",
       "      <td>18207.000000</td>\n",
       "      <td>18207.000000</td>\n",
       "      <td>18207.000000</td>\n",
       "      <td>18207.000000</td>\n",
       "      <td>18207.000000</td>\n",
       "      <td>18207.000000</td>\n",
       "      <td>18207.000000</td>\n",
       "    </tr>\n",
       "    <tr>\n",
       "      <th>mean</th>\n",
       "      <td>25.122206</td>\n",
       "      <td>66.238699</td>\n",
       "      <td>71.307299</td>\n",
       "      <td>2.410696e+06</td>\n",
       "      <td>9731.312133</td>\n",
       "      <td>1597.809908</td>\n",
       "      <td>1.112924</td>\n",
       "      <td>2.947438</td>\n",
       "      <td>2.360356</td>\n",
       "      <td>165.976547</td>\n",
       "      <td>...</td>\n",
       "      <td>48.420607</td>\n",
       "      <td>58.493656</td>\n",
       "      <td>47.156973</td>\n",
       "      <td>47.572088</td>\n",
       "      <td>45.541056</td>\n",
       "      <td>16.572417</td>\n",
       "      <td>16.348382</td>\n",
       "      <td>16.189268</td>\n",
       "      <td>16.345691</td>\n",
       "      <td>16.666831</td>\n",
       "    </tr>\n",
       "    <tr>\n",
       "      <th>std</th>\n",
       "      <td>4.669943</td>\n",
       "      <td>6.908930</td>\n",
       "      <td>6.136496</td>\n",
       "      <td>5.594933e+06</td>\n",
       "      <td>21999.290406</td>\n",
       "      <td>272.586016</td>\n",
       "      <td>0.393554</td>\n",
       "      <td>0.659591</td>\n",
       "      <td>0.755394</td>\n",
       "      <td>15.572856</td>\n",
       "      <td>...</td>\n",
       "      <td>15.879699</td>\n",
       "      <td>11.810375</td>\n",
       "      <td>20.025458</td>\n",
       "      <td>21.773243</td>\n",
       "      <td>21.389596</td>\n",
       "      <td>17.692536</td>\n",
       "      <td>16.905507</td>\n",
       "      <td>16.502101</td>\n",
       "      <td>17.032944</td>\n",
       "      <td>17.951898</td>\n",
       "    </tr>\n",
       "    <tr>\n",
       "      <th>min</th>\n",
       "      <td>16.000000</td>\n",
       "      <td>46.000000</td>\n",
       "      <td>48.000000</td>\n",
       "      <td>0.000000e+00</td>\n",
       "      <td>0.000000</td>\n",
       "      <td>731.000000</td>\n",
       "      <td>1.000000</td>\n",
       "      <td>1.000000</td>\n",
       "      <td>1.000000</td>\n",
       "      <td>110.000000</td>\n",
       "      <td>...</td>\n",
       "      <td>0.000000</td>\n",
       "      <td>0.000000</td>\n",
       "      <td>0.000000</td>\n",
       "      <td>0.000000</td>\n",
       "      <td>0.000000</td>\n",
       "      <td>0.000000</td>\n",
       "      <td>0.000000</td>\n",
       "      <td>0.000000</td>\n",
       "      <td>0.000000</td>\n",
       "      <td>0.000000</td>\n",
       "    </tr>\n",
       "    <tr>\n",
       "      <th>25%</th>\n",
       "      <td>21.000000</td>\n",
       "      <td>62.000000</td>\n",
       "      <td>67.000000</td>\n",
       "      <td>3.000000e+05</td>\n",
       "      <td>1000.000000</td>\n",
       "      <td>1457.000000</td>\n",
       "      <td>1.000000</td>\n",
       "      <td>3.000000</td>\n",
       "      <td>2.000000</td>\n",
       "      <td>154.000000</td>\n",
       "      <td>...</td>\n",
       "      <td>39.000000</td>\n",
       "      <td>51.000000</td>\n",
       "      <td>30.000000</td>\n",
       "      <td>26.000000</td>\n",
       "      <td>24.000000</td>\n",
       "      <td>8.000000</td>\n",
       "      <td>8.000000</td>\n",
       "      <td>8.000000</td>\n",
       "      <td>8.000000</td>\n",
       "      <td>8.000000</td>\n",
       "    </tr>\n",
       "    <tr>\n",
       "      <th>50%</th>\n",
       "      <td>25.000000</td>\n",
       "      <td>66.000000</td>\n",
       "      <td>71.000000</td>\n",
       "      <td>6.750000e+05</td>\n",
       "      <td>3000.000000</td>\n",
       "      <td>1635.000000</td>\n",
       "      <td>1.000000</td>\n",
       "      <td>3.000000</td>\n",
       "      <td>2.000000</td>\n",
       "      <td>165.000000</td>\n",
       "      <td>...</td>\n",
       "      <td>49.000000</td>\n",
       "      <td>59.000000</td>\n",
       "      <td>53.000000</td>\n",
       "      <td>55.000000</td>\n",
       "      <td>52.000000</td>\n",
       "      <td>11.000000</td>\n",
       "      <td>11.000000</td>\n",
       "      <td>11.000000</td>\n",
       "      <td>11.000000</td>\n",
       "      <td>11.000000</td>\n",
       "    </tr>\n",
       "    <tr>\n",
       "      <th>75%</th>\n",
       "      <td>28.000000</td>\n",
       "      <td>71.000000</td>\n",
       "      <td>75.000000</td>\n",
       "      <td>2.000000e+06</td>\n",
       "      <td>9000.000000</td>\n",
       "      <td>1787.000000</td>\n",
       "      <td>1.000000</td>\n",
       "      <td>3.000000</td>\n",
       "      <td>3.000000</td>\n",
       "      <td>176.000000</td>\n",
       "      <td>...</td>\n",
       "      <td>60.000000</td>\n",
       "      <td>67.000000</td>\n",
       "      <td>64.000000</td>\n",
       "      <td>66.000000</td>\n",
       "      <td>64.000000</td>\n",
       "      <td>14.000000</td>\n",
       "      <td>14.000000</td>\n",
       "      <td>14.000000</td>\n",
       "      <td>14.000000</td>\n",
       "      <td>14.000000</td>\n",
       "    </tr>\n",
       "    <tr>\n",
       "      <th>max</th>\n",
       "      <td>45.000000</td>\n",
       "      <td>94.000000</td>\n",
       "      <td>95.000000</td>\n",
       "      <td>1.185000e+08</td>\n",
       "      <td>565000.000000</td>\n",
       "      <td>2346.000000</td>\n",
       "      <td>5.000000</td>\n",
       "      <td>5.000000</td>\n",
       "      <td>5.000000</td>\n",
       "      <td>243.000000</td>\n",
       "      <td>...</td>\n",
       "      <td>92.000000</td>\n",
       "      <td>96.000000</td>\n",
       "      <td>94.000000</td>\n",
       "      <td>93.000000</td>\n",
       "      <td>91.000000</td>\n",
       "      <td>90.000000</td>\n",
       "      <td>92.000000</td>\n",
       "      <td>91.000000</td>\n",
       "      <td>90.000000</td>\n",
       "      <td>94.000000</td>\n",
       "    </tr>\n",
       "  </tbody>\n",
       "</table>\n",
       "<p>8 rows × 43 columns</p>\n",
       "</div>"
      ],
      "text/plain": [
       "                Age       Overall     Potential         Value           Wage  \\\n",
       "count  18207.000000  18207.000000  18207.000000  1.820700e+04   18207.000000   \n",
       "mean      25.122206     66.238699     71.307299  2.410696e+06    9731.312133   \n",
       "std        4.669943      6.908930      6.136496  5.594933e+06   21999.290406   \n",
       "min       16.000000     46.000000     48.000000  0.000000e+00       0.000000   \n",
       "25%       21.000000     62.000000     67.000000  3.000000e+05    1000.000000   \n",
       "50%       25.000000     66.000000     71.000000  6.750000e+05    3000.000000   \n",
       "75%       28.000000     71.000000     75.000000  2.000000e+06    9000.000000   \n",
       "max       45.000000     94.000000     95.000000  1.185000e+08  565000.000000   \n",
       "\n",
       "            Special  International Reputation     Weak Foot   Skill Moves  \\\n",
       "count  18207.000000              18207.000000  18207.000000  18207.000000   \n",
       "mean    1597.809908                  1.112924      2.947438      2.360356   \n",
       "std      272.586016                  0.393554      0.659591      0.755394   \n",
       "min      731.000000                  1.000000      1.000000      1.000000   \n",
       "25%     1457.000000                  1.000000      3.000000      2.000000   \n",
       "50%     1635.000000                  1.000000      3.000000      2.000000   \n",
       "75%     1787.000000                  1.000000      3.000000      3.000000   \n",
       "max     2346.000000                  5.000000      5.000000      5.000000   \n",
       "\n",
       "             Weight  ...     Penalties     Composure       Marking  \\\n",
       "count  18207.000000  ...  18207.000000  18207.000000  18207.000000   \n",
       "mean     165.976547  ...     48.420607     58.493656     47.156973   \n",
       "std       15.572856  ...     15.879699     11.810375     20.025458   \n",
       "min      110.000000  ...      0.000000      0.000000      0.000000   \n",
       "25%      154.000000  ...     39.000000     51.000000     30.000000   \n",
       "50%      165.000000  ...     49.000000     59.000000     53.000000   \n",
       "75%      176.000000  ...     60.000000     67.000000     64.000000   \n",
       "max      243.000000  ...     92.000000     96.000000     94.000000   \n",
       "\n",
       "       StandingTackle  SlidingTackle      GKDiving    GKHandling  \\\n",
       "count    18207.000000   18207.000000  18207.000000  18207.000000   \n",
       "mean        47.572088      45.541056     16.572417     16.348382   \n",
       "std         21.773243      21.389596     17.692536     16.905507   \n",
       "min          0.000000       0.000000      0.000000      0.000000   \n",
       "25%         26.000000      24.000000      8.000000      8.000000   \n",
       "50%         55.000000      52.000000     11.000000     11.000000   \n",
       "75%         66.000000      64.000000     14.000000     14.000000   \n",
       "max         93.000000      91.000000     90.000000     92.000000   \n",
       "\n",
       "          GKKicking  GKPositioning    GKReflexes  \n",
       "count  18207.000000   18207.000000  18207.000000  \n",
       "mean      16.189268      16.345691     16.666831  \n",
       "std       16.502101      17.032944     17.951898  \n",
       "min        0.000000       0.000000      0.000000  \n",
       "25%        8.000000       8.000000      8.000000  \n",
       "50%       11.000000      11.000000     11.000000  \n",
       "75%       14.000000      14.000000     14.000000  \n",
       "max       91.000000      90.000000     94.000000  \n",
       "\n",
       "[8 rows x 43 columns]"
      ]
     },
     "execution_count": 23,
     "metadata": {},
     "output_type": "execute_result"
    }
   ],
   "source": [
    "df_selected.describe()"
   ]
  },
  {
   "cell_type": "markdown",
   "metadata": {},
   "source": [
    "# CHECKING FOR SIMILAR CORELATED COLUMNS "
   ]
  },
  {
   "cell_type": "code",
   "execution_count": 24,
   "metadata": {},
   "outputs": [
    {
     "data": {
      "text/plain": [
       "(10.0, 0.0)"
      ]
     },
     "execution_count": 24,
     "metadata": {},
     "output_type": "execute_result"
    },
    {
     "data": {
      "image/png": "[encoded data removed]",
      "text/plain": [
       "<Figure size 1152x720 with 2 Axes>"
      ]
     },
     "metadata": {
      "needs_background": "light"
     },
     "output_type": "display_data"
    }
   ],
   "source": [
    "plt.figure(figsize=(16,10))\n",
    "sns.heatmap(df_selected.corr(),cmap='coolwarm')\n",
    "plt.ylim(10, 0)"
   ]
  },
  {
   "cell_type": "markdown",
   "metadata": {},
   "source": [
    "Using various visualization libraries to see the corelation between the wages"
   ]
  },
  {
   "cell_type": "code",
   "execution_count": 25,
   "metadata": {},
   "outputs": [
    {
     "data": {
      "text/plain": [
       "<AxesSubplot:xlabel='Value', ylabel='Wage'>"
      ]
     },
     "execution_count": 25,
     "metadata": {},
     "output_type": "execute_result"
    },
    {
     "data": {
      "image/png": "[encoded data removed]",
      "text/plain": [
       "<Figure size 432x288 with 1 Axes>"
      ]
     },
     "metadata": {
      "needs_background": "light"
     },
     "output_type": "display_data"
    }
   ],
   "source": [
    "sns.scatterplot(x='Value',y='Wage',data=df_selected)"
   ]
  },
  {
   "cell_type": "markdown",
   "metadata": {},
   "source": [
    " SOME MORE FEATURE ENGINEERING WITH HIGHLY CORRELATED COLUMNS \n",
    "    CONVERTING THEM TO FLOAT DATA TYPE"
   ]
  },
  {
   "cell_type": "code",
   "execution_count": 26,
   "metadata": {},
   "outputs": [
    {
     "data": {
      "text/plain": [
       "0           FC Barcelona\n",
       "1               Juventus\n",
       "2    Paris Saint-Germain\n",
       "3      Manchester United\n",
       "4        Manchester City\n",
       "Name: Club, dtype: object"
      ]
     },
     "execution_count": 26,
     "metadata": {},
     "output_type": "execute_result"
    }
   ],
   "source": [
    "df_selected['Club'].head()"
   ]
  },
  {
   "cell_type": "code",
   "execution_count": 27,
   "metadata": {},
   "outputs": [
    {
     "data": {
      "text/plain": [
       "<AxesSubplot:xlabel='Age', ylabel='Wage'>"
      ]
     },
     "execution_count": 27,
     "metadata": {},
     "output_type": "execute_result"
    },
    {
     "data": {
      "image/png": "[encoded data removed]",
      "text/plain": [
       "<Figure size 432x288 with 1 Axes>"
      ]
     },
     "metadata": {
      "needs_background": "light"
     },
     "output_type": "display_data"
    }
   ],
   "source": [
    "sns.scatterplot(x='Age',y='Wage',data=df_selected)"
   ]
  },
  {
   "cell_type": "code",
   "execution_count": 28,
   "metadata": {},
   "outputs": [
    {
     "data": {
      "text/plain": [
       "27"
      ]
     },
     "execution_count": 28,
     "metadata": {},
     "output_type": "execute_result"
    }
   ],
   "source": [
    "df_selected['Position'].nunique()"
   ]
  },
  {
   "cell_type": "markdown",
   "metadata": {},
   "source": [
    "# Position was highly corelated with value so replacing their string values to numerical so that they can be used in training model"
   ]
  },
  {
   "cell_type": "code",
   "execution_count": 29,
   "metadata": {},
   "outputs": [],
   "source": [
    "forward = [\"ST\", \"LW\", \"RW\", \"LF\", \"RF\", \"RS\",\"LS\", \"CF\"]\n",
    "midfielder = [\"CM\",\"RCM\",\"LCM\", \"CDM\",\"RDM\",\"LDM\", \"CAM\", \"LAM\", \"RAM\", \"RM\", \"LM\"]\n",
    "defender = [\"CB\", \"RCB\", \"LCB\", \"LWB\", \"RWB\", \"LB\", \"RB\"]"
   ]
  },
  {
   "cell_type": "code",
   "execution_count": 30,
   "metadata": {},
   "outputs": [],
   "source": [
    "df_selected.loc[df[\"Position\"] == \"GK\", \"Position\"] = 0.0\n",
    "df_selected.loc[df[\"Position\"].isin(defender), \"Position\"] = 1.0\n",
    "df_selected.loc[df[\"Position\"].isin(midfielder), \"Position\"] = 2.0\n",
    "df_selected.loc[df[\"Position\"].isin(forward), \"Position\"] = 3.0"
   ]
  },
  {
   "cell_type": "code",
   "execution_count": 31,
   "metadata": {},
   "outputs": [
    {
     "name": "stderr",
     "output_type": "stream",
     "text": [
      "C:\\Users\\91966\\anaconda3\\envs\\gputest\\lib\\site-packages\\seaborn\\distributions.py:2551: FutureWarning: `distplot` is a deprecated function and will be removed in a future version. Please adapt your code to use either `displot` (a figure-level function with similar flexibility) or `histplot` (an axes-level function for histograms).\n",
      "  warnings.warn(msg, FutureWarning)\n"
     ]
    },
    {
     "data": {
      "text/plain": [
       "<AxesSubplot:xlabel='Position'>"
      ]
     },
     "execution_count": 31,
     "metadata": {},
     "output_type": "execute_result"
    },
    {
     "data": {
      "image/png": "[encoded data removed]",
      "text/plain": [
       "<Figure size 432x288 with 1 Axes>"
      ]
     },
     "metadata": {
      "needs_background": "light"
     },
     "output_type": "display_data"
    }
   ],
   "source": [
    "sns.distplot(df_selected['Position'],bins=50,kde=False)"
   ]
  },
  {
   "cell_type": "code",
   "execution_count": 32,
   "metadata": {},
   "outputs": [
    {
     "data": {
      "text/plain": [
       "2.0    6838\n",
       "1.0    5866\n",
       "3.0    3478\n",
       "0.0    2025\n",
       "Name: Position, dtype: int64"
      ]
     },
     "execution_count": 32,
     "metadata": {},
     "output_type": "execute_result"
    }
   ],
   "source": [
    "df_selected[\"Position\"].value_counts()\n"
   ]
  },
  {
   "cell_type": "code",
   "execution_count": 33,
   "metadata": {},
   "outputs": [
    {
     "data": {
      "text/plain": [
       "<AxesSubplot:xlabel='Position', ylabel='Wage'>"
      ]
     },
     "execution_count": 33,
     "metadata": {},
     "output_type": "execute_result"
    },
    {
     "data": {
      "image/png": "[encoded data removed]",
      "text/plain": [
       "<Figure size 432x288 with 1 Axes>"
      ]
     },
     "metadata": {
      "needs_background": "light"
     },
     "output_type": "display_data"
    }
   ],
   "source": [
    "sns.boxplot(x='Position',data=df_selected,y='Wage')"
   ]
  },
  {
   "cell_type": "code",
   "execution_count": 34,
   "metadata": {},
   "outputs": [
    {
     "data": {
      "text/plain": [
       "0     5'7\n",
       "1     6'2\n",
       "2     5'9\n",
       "3     6'4\n",
       "4    5'11\n",
       "Name: Height, dtype: object"
      ]
     },
     "execution_count": 34,
     "metadata": {},
     "output_type": "execute_result"
    }
   ],
   "source": [
    "df_selected['Height'].head()"
   ]
  },
  {
   "cell_type": "code",
   "execution_count": 35,
   "metadata": {},
   "outputs": [],
   "source": [
    "def hconversion(value):\n",
    "        height = value.split(\"'\")\n",
    "        feet=int(height[0])\n",
    "        inches=int(height[1])\n",
    "        metre=((12*feet)+inches)*0.0254\n",
    "        return metre\n",
    "  "
   ]
  },
  {
   "cell_type": "code",
   "execution_count": 36,
   "metadata": {},
   "outputs": [],
   "source": [
    "df_selected['Height'] = df_selected['Height'].apply(lambda x : hconversion(x))"
   ]
  },
  {
   "cell_type": "code",
   "execution_count": 37,
   "metadata": {},
   "outputs": [
    {
     "data": {
      "text/plain": [
       "0    1.7018\n",
       "1    1.8796\n",
       "2    1.7526\n",
       "3    1.9304\n",
       "4    1.8034\n",
       "Name: Height, dtype: float64"
      ]
     },
     "execution_count": 37,
     "metadata": {},
     "output_type": "execute_result"
    }
   ],
   "source": [
    "df_selected['Height'].head()"
   ]
  },
  {
   "cell_type": "code",
   "execution_count": 38,
   "metadata": {},
   "outputs": [
    {
     "data": {
      "text/plain": [
       "<AxesSubplot:xlabel='Position', ylabel='Value'>"
      ]
     },
     "execution_count": 38,
     "metadata": {},
     "output_type": "execute_result"
    },
    {
     "data": {
      "image/png": "[encoded data removed]",
      "text/plain": [
       "<Figure size 1008x720 with 1 Axes>"
      ]
     },
     "metadata": {
      "needs_background": "light"
     },
     "output_type": "display_data"
    }
   ],
   "source": [
    "plt.figure(figsize=(14,10))\n",
    "sns.boxplot(x='Position',y='Value',data=df_selected,hue='Preferred Foot')"
   ]
  },
  {
   "cell_type": "markdown",
   "metadata": {},
   "source": [
    "   THOUGHT OF SPLITTING THE WORK RATE AND ASSIGNING THEM SOME VALUE BUT FAILED TO DO SO"
   ]
  },
  {
   "cell_type": "code",
   "execution_count": 39,
   "metadata": {},
   "outputs": [],
   "source": [
    "##df_selected['Work Rate'].head()"
   ]
  },
  {
   "cell_type": "markdown",
   "metadata": {},
   "source": [
    "ADJUSTING SOME MORE COLUMNS"
   ]
  },
  {
   "cell_type": "code",
   "execution_count": 40,
   "metadata": {},
   "outputs": [],
   "source": [
    "def extract_value_from(Value):\n",
    "    Value=str(Value)\n",
    "    out = Value.replace('€', '')\n",
    "    if 'M' in out:\n",
    "        out = float(out.replace('M', ''))*1000000\n",
    "    elif 'K' in Value:\n",
    "        out = float(out.replace('K', ''))*1000\n",
    "    return float(out)"
   ]
  },
  {
   "cell_type": "code",
   "execution_count": 41,
   "metadata": {},
   "outputs": [],
   "source": [
    "df_selected['Release Clause'] = df_selected['Release Clause'].apply(lambda x: extract_value_from(x))"
   ]
  },
  {
   "cell_type": "code",
   "execution_count": 42,
   "metadata": {},
   "outputs": [
    {
     "data": {
      "text/plain": [
       "0    226500000.0\n",
       "1    127100000.0\n",
       "2    228100000.0\n",
       "3    138600000.0\n",
       "4    196400000.0\n",
       "Name: Release Clause, dtype: float64"
      ]
     },
     "execution_count": 42,
     "metadata": {},
     "output_type": "execute_result"
    }
   ],
   "source": [
    "df_selected['Release Clause'].head()"
   ]
  },
  {
   "cell_type": "code",
   "execution_count": 43,
   "metadata": {},
   "outputs": [
    {
     "name": "stderr",
     "output_type": "stream",
     "text": [
      "C:\\Users\\91966\\anaconda3\\envs\\gputest\\lib\\site-packages\\seaborn\\_decorators.py:36: FutureWarning: Pass the following variable as a keyword arg: x. From version 0.12, the only valid positional argument will be `data`, and passing other arguments without an explicit keyword will result in an error or misinterpretation.\n",
      "  warnings.warn(\n"
     ]
    },
    {
     "data": {
      "text/plain": [
       "<AxesSubplot:xlabel='Preferred Foot', ylabel='count'>"
      ]
     },
     "execution_count": 43,
     "metadata": {},
     "output_type": "execute_result"
    },
    {
     "data": {
      "image/png": "[encoded data removed]",
      "text/plain": [
       "<Figure size 432x288 with 1 Axes>"
      ]
     },
     "metadata": {
      "needs_background": "light"
     },
     "output_type": "display_data"
    }
   ],
   "source": [
    "sns.countplot(df_selected['Preferred Foot'])"
   ]
  },
  {
   "cell_type": "markdown",
   "metadata": {},
   "source": [
    "#replacing string values to dummies which will be helpful and easy"
   ]
  },
  {
   "cell_type": "code",
   "execution_count": 47,
   "metadata": {},
   "outputs": [],
   "source": [
    "foot=pd.get_dummies(df_selected['Preferred Foot'],drop_first=True)"
   ]
  },
  {
   "cell_type": "code",
   "execution_count": 48,
   "metadata": {},
   "outputs": [
    {
     "data": {
      "text/html": [
       "<div>\n",
       "<style scoped>\n",
       "    .dataframe tbody tr th:only-of-type {\n",
       "        vertical-align: middle;\n",
       "    }\n",
       "\n",
       "    .dataframe tbody tr th {\n",
       "        vertical-align: top;\n",
       "    }\n",
       "\n",
       "    .dataframe thead th {\n",
       "        text-align: right;\n",
       "    }\n",
       "</style>\n",
       "<table border=\"1\" class=\"dataframe\">\n",
       "  <thead>\n",
       "    <tr style=\"text-align: right;\">\n",
       "      <th></th>\n",
       "      <th>Right</th>\n",
       "    </tr>\n",
       "  </thead>\n",
       "  <tbody>\n",
       "    <tr>\n",
       "      <th>0</th>\n",
       "      <td>0</td>\n",
       "    </tr>\n",
       "    <tr>\n",
       "      <th>1</th>\n",
       "      <td>1</td>\n",
       "    </tr>\n",
       "    <tr>\n",
       "      <th>2</th>\n",
       "      <td>1</td>\n",
       "    </tr>\n",
       "    <tr>\n",
       "      <th>3</th>\n",
       "      <td>1</td>\n",
       "    </tr>\n",
       "    <tr>\n",
       "      <th>4</th>\n",
       "      <td>1</td>\n",
       "    </tr>\n",
       "    <tr>\n",
       "      <th>...</th>\n",
       "      <td>...</td>\n",
       "    </tr>\n",
       "    <tr>\n",
       "      <th>18202</th>\n",
       "      <td>1</td>\n",
       "    </tr>\n",
       "    <tr>\n",
       "      <th>18203</th>\n",
       "      <td>1</td>\n",
       "    </tr>\n",
       "    <tr>\n",
       "      <th>18204</th>\n",
       "      <td>1</td>\n",
       "    </tr>\n",
       "    <tr>\n",
       "      <th>18205</th>\n",
       "      <td>1</td>\n",
       "    </tr>\n",
       "    <tr>\n",
       "      <th>18206</th>\n",
       "      <td>1</td>\n",
       "    </tr>\n",
       "  </tbody>\n",
       "</table>\n",
       "<p>18207 rows × 1 columns</p>\n",
       "</div>"
      ],
      "text/plain": [
       "       Right\n",
       "0          0\n",
       "1          1\n",
       "2          1\n",
       "3          1\n",
       "4          1\n",
       "...      ...\n",
       "18202      1\n",
       "18203      1\n",
       "18204      1\n",
       "18205      1\n",
       "18206      1\n",
       "\n",
       "[18207 rows x 1 columns]"
      ]
     },
     "execution_count": 48,
     "metadata": {},
     "output_type": "execute_result"
    }
   ],
   "source": [
    "foot"
   ]
  },
  {
   "cell_type": "code",
   "execution_count": 49,
   "metadata": {},
   "outputs": [],
   "source": [
    "df_selected=pd.concat([df_selected,foot],axis=1)"
   ]
  },
  {
   "cell_type": "code",
   "execution_count": 50,
   "metadata": {},
   "outputs": [],
   "source": [
    "df_selected=df_selected.drop(['Preferred Foot','Name','Nationality','Club'],axis=1)"
   ]
  },
  {
   "cell_type": "code",
   "execution_count": 51,
   "metadata": {},
   "outputs": [
    {
     "data": {
      "text/html": [
       "<div>\n",
       "<style scoped>\n",
       "    .dataframe tbody tr th:only-of-type {\n",
       "        vertical-align: middle;\n",
       "    }\n",
       "\n",
       "    .dataframe tbody tr th {\n",
       "        vertical-align: top;\n",
       "    }\n",
       "\n",
       "    .dataframe thead th {\n",
       "        text-align: right;\n",
       "    }\n",
       "</style>\n",
       "<table border=\"1\" class=\"dataframe\">\n",
       "  <thead>\n",
       "    <tr style=\"text-align: right;\">\n",
       "      <th></th>\n",
       "      <th>Age</th>\n",
       "      <th>Overall</th>\n",
       "      <th>Potential</th>\n",
       "      <th>Value</th>\n",
       "      <th>Wage</th>\n",
       "      <th>Special</th>\n",
       "      <th>International Reputation</th>\n",
       "      <th>Weak Foot</th>\n",
       "      <th>Skill Moves</th>\n",
       "      <th>Work Rate</th>\n",
       "      <th>...</th>\n",
       "      <th>StandingTackle</th>\n",
       "      <th>SlidingTackle</th>\n",
       "      <th>GKDiving</th>\n",
       "      <th>GKHandling</th>\n",
       "      <th>GKKicking</th>\n",
       "      <th>GKPositioning</th>\n",
       "      <th>GKReflexes</th>\n",
       "      <th>Release Clause</th>\n",
       "      <th>Right</th>\n",
       "      <th>Right</th>\n",
       "    </tr>\n",
       "  </thead>\n",
       "  <tbody>\n",
       "    <tr>\n",
       "      <th>0</th>\n",
       "      <td>31</td>\n",
       "      <td>94</td>\n",
       "      <td>94</td>\n",
       "      <td>110500000.0</td>\n",
       "      <td>565000.0</td>\n",
       "      <td>2202</td>\n",
       "      <td>5.0</td>\n",
       "      <td>4.0</td>\n",
       "      <td>4.0</td>\n",
       "      <td>Medium/ Medium</td>\n",
       "      <td>...</td>\n",
       "      <td>28.0</td>\n",
       "      <td>26.0</td>\n",
       "      <td>6.0</td>\n",
       "      <td>11.0</td>\n",
       "      <td>15.0</td>\n",
       "      <td>14.0</td>\n",
       "      <td>8.0</td>\n",
       "      <td>226500000.0</td>\n",
       "      <td>0</td>\n",
       "      <td>0</td>\n",
       "    </tr>\n",
       "    <tr>\n",
       "      <th>1</th>\n",
       "      <td>33</td>\n",
       "      <td>94</td>\n",
       "      <td>94</td>\n",
       "      <td>77000000.0</td>\n",
       "      <td>405000.0</td>\n",
       "      <td>2228</td>\n",
       "      <td>5.0</td>\n",
       "      <td>4.0</td>\n",
       "      <td>5.0</td>\n",
       "      <td>High/ Low</td>\n",
       "      <td>...</td>\n",
       "      <td>31.0</td>\n",
       "      <td>23.0</td>\n",
       "      <td>7.0</td>\n",
       "      <td>11.0</td>\n",
       "      <td>15.0</td>\n",
       "      <td>14.0</td>\n",
       "      <td>11.0</td>\n",
       "      <td>127100000.0</td>\n",
       "      <td>1</td>\n",
       "      <td>1</td>\n",
       "    </tr>\n",
       "    <tr>\n",
       "      <th>2</th>\n",
       "      <td>26</td>\n",
       "      <td>92</td>\n",
       "      <td>93</td>\n",
       "      <td>118500000.0</td>\n",
       "      <td>290000.0</td>\n",
       "      <td>2143</td>\n",
       "      <td>5.0</td>\n",
       "      <td>5.0</td>\n",
       "      <td>5.0</td>\n",
       "      <td>High/ Medium</td>\n",
       "      <td>...</td>\n",
       "      <td>24.0</td>\n",
       "      <td>33.0</td>\n",
       "      <td>9.0</td>\n",
       "      <td>9.0</td>\n",
       "      <td>15.0</td>\n",
       "      <td>15.0</td>\n",
       "      <td>11.0</td>\n",
       "      <td>228100000.0</td>\n",
       "      <td>1</td>\n",
       "      <td>1</td>\n",
       "    </tr>\n",
       "    <tr>\n",
       "      <th>3</th>\n",
       "      <td>27</td>\n",
       "      <td>91</td>\n",
       "      <td>93</td>\n",
       "      <td>72000000.0</td>\n",
       "      <td>260000.0</td>\n",
       "      <td>1471</td>\n",
       "      <td>4.0</td>\n",
       "      <td>3.0</td>\n",
       "      <td>1.0</td>\n",
       "      <td>Medium/ Medium</td>\n",
       "      <td>...</td>\n",
       "      <td>21.0</td>\n",
       "      <td>13.0</td>\n",
       "      <td>90.0</td>\n",
       "      <td>85.0</td>\n",
       "      <td>87.0</td>\n",
       "      <td>88.0</td>\n",
       "      <td>94.0</td>\n",
       "      <td>138600000.0</td>\n",
       "      <td>1</td>\n",
       "      <td>1</td>\n",
       "    </tr>\n",
       "    <tr>\n",
       "      <th>4</th>\n",
       "      <td>27</td>\n",
       "      <td>91</td>\n",
       "      <td>92</td>\n",
       "      <td>102000000.0</td>\n",
       "      <td>355000.0</td>\n",
       "      <td>2281</td>\n",
       "      <td>4.0</td>\n",
       "      <td>5.0</td>\n",
       "      <td>4.0</td>\n",
       "      <td>High/ High</td>\n",
       "      <td>...</td>\n",
       "      <td>58.0</td>\n",
       "      <td>51.0</td>\n",
       "      <td>15.0</td>\n",
       "      <td>13.0</td>\n",
       "      <td>5.0</td>\n",
       "      <td>10.0</td>\n",
       "      <td>13.0</td>\n",
       "      <td>196400000.0</td>\n",
       "      <td>1</td>\n",
       "      <td>1</td>\n",
       "    </tr>\n",
       "  </tbody>\n",
       "</table>\n",
       "<p>5 rows × 50 columns</p>\n",
       "</div>"
      ],
      "text/plain": [
       "   Age  Overall  Potential        Value      Wage  Special  \\\n",
       "0   31       94         94  110500000.0  565000.0     2202   \n",
       "1   33       94         94   77000000.0  405000.0     2228   \n",
       "2   26       92         93  118500000.0  290000.0     2143   \n",
       "3   27       91         93   72000000.0  260000.0     1471   \n",
       "4   27       91         92  102000000.0  355000.0     2281   \n",
       "\n",
       "   International Reputation  Weak Foot  Skill Moves       Work Rate  ...  \\\n",
       "0                       5.0        4.0          4.0  Medium/ Medium  ...   \n",
       "1                       5.0        4.0          5.0       High/ Low  ...   \n",
       "2                       5.0        5.0          5.0    High/ Medium  ...   \n",
       "3                       4.0        3.0          1.0  Medium/ Medium  ...   \n",
       "4                       4.0        5.0          4.0      High/ High  ...   \n",
       "\n",
       "  StandingTackle SlidingTackle  GKDiving  GKHandling  GKKicking  \\\n",
       "0           28.0          26.0       6.0        11.0       15.0   \n",
       "1           31.0          23.0       7.0        11.0       15.0   \n",
       "2           24.0          33.0       9.0         9.0       15.0   \n",
       "3           21.0          13.0      90.0        85.0       87.0   \n",
       "4           58.0          51.0      15.0        13.0        5.0   \n",
       "\n",
       "   GKPositioning  GKReflexes  Release Clause  Right  Right  \n",
       "0           14.0         8.0     226500000.0      0      0  \n",
       "1           14.0        11.0     127100000.0      1      1  \n",
       "2           15.0        11.0     228100000.0      1      1  \n",
       "3           88.0        94.0     138600000.0      1      1  \n",
       "4           10.0        13.0     196400000.0      1      1  \n",
       "\n",
       "[5 rows x 50 columns]"
      ]
     },
     "execution_count": 51,
     "metadata": {},
     "output_type": "execute_result"
    }
   ],
   "source": [
    "df_selected.head()"
   ]
  },
  {
   "cell_type": "markdown",
   "metadata": {},
   "source": [
    "# CHECKING AND REMOVING THE PLAYERS WITH 0 VALUES"
   ]
  },
  {
   "cell_type": "markdown",
   "metadata": {},
   "source": [
    "This is done because some players had good features but still not got selected for the upcoming year (exceptional features cases can cause difficult for model)"
   ]
  },
  {
   "cell_type": "code",
   "execution_count": 52,
   "metadata": {},
   "outputs": [
    {
     "data": {
      "text/plain": [
       "538              0.0\n",
       "6679             0.0\n",
       "11919            0.0\n",
       "8273             0.0\n",
       "8296             0.0\n",
       "            ...     \n",
       "15        89000000.0\n",
       "5         93000000.0\n",
       "4        102000000.0\n",
       "0        110500000.0\n",
       "2        118500000.0\n",
       "Name: Value, Length: 18207, dtype: float64"
      ]
     },
     "execution_count": 52,
     "metadata": {},
     "output_type": "execute_result"
    }
   ],
   "source": [
    "df_selected['Value'].sort_values(ascending=True)"
   ]
  },
  {
   "cell_type": "code",
   "execution_count": 53,
   "metadata": {},
   "outputs": [],
   "source": [
    "c=df_selected[df_selected['Value']>0]"
   ]
  },
  {
   "cell_type": "code",
   "execution_count": 54,
   "metadata": {},
   "outputs": [
    {
     "data": {
      "text/plain": [
       "2444530.2144249515"
      ]
     },
     "execution_count": 54,
     "metadata": {},
     "output_type": "execute_result"
    }
   ],
   "source": [
    "c['Value'].mean()"
   ]
  },
  {
   "cell_type": "markdown",
   "metadata": {},
   "source": [
    "# TRAINING AND TESTING THE MODEL"
   ]
  },
  {
   "cell_type": "markdown",
   "metadata": {},
   "source": [
    "Droping body type and workrate (not important features)"
   ]
  },
  {
   "cell_type": "code",
   "execution_count": 60,
   "metadata": {},
   "outputs": [],
   "source": [
    "c=c.drop(['Body Type','Work Rate'],axis=1)"
   ]
  },
  {
   "cell_type": "code",
   "execution_count": 57,
   "metadata": {},
   "outputs": [],
   "source": [
    "X=c.drop('Value',axis=1).values\n",
    "y=c['Value'].values"
   ]
  },
  {
   "cell_type": "markdown",
   "metadata": {},
   "source": [
    "Splitting the model using train test split"
   ]
  },
  {
   "cell_type": "code",
   "execution_count": 61,
   "metadata": {},
   "outputs": [],
   "source": [
    "from sklearn.model_selection import train_test_split"
   ]
  },
  {
   "cell_type": "code",
   "execution_count": 62,
   "metadata": {},
   "outputs": [],
   "source": [
    " X_train, X_test, y_train, y_test = train_test_split( X, y, test_size=0.33)"
   ]
  },
  {
   "cell_type": "markdown",
   "metadata": {},
   "source": [
    "Scaling the features is necessary as it gives our model a lesser loss in validation and training"
   ]
  },
  {
   "cell_type": "code",
   "execution_count": 64,
   "metadata": {},
   "outputs": [],
   "source": [
    "\n",
    "from sklearn.preprocessing import StandardScaler\n",
    "\n",
    "\n",
    "scaler=StandardScaler()\n",
    "X_train=scaler.fit_transform(X_train)\n",
    "X_test=scaler.transform(X_test)"
   ]
  },
  {
   "cell_type": "markdown",
   "metadata": {},
   "source": [
    "# Importing neural network models from tensorflow"
   ]
  },
  {
   "cell_type": "code",
   "execution_count": 66,
   "metadata": {},
   "outputs": [],
   "source": [
    "from tensorflow.keras.models import Sequential\n",
    "from tensorflow.keras.layers import Dense"
   ]
  },
  {
   "cell_type": "markdown",
   "metadata": {},
   "source": [
    "Checking the shape is important (both target and training data should have equal rows)"
   ]
  },
  {
   "cell_type": "code",
   "execution_count": 67,
   "metadata": {},
   "outputs": [
    {
     "data": {
      "text/plain": [
       "(12029, 47)"
      ]
     },
     "execution_count": 67,
     "metadata": {},
     "output_type": "execute_result"
    }
   ],
   "source": [
    "X_train.shape"
   ]
  },
  {
   "cell_type": "code",
   "execution_count": 68,
   "metadata": {},
   "outputs": [
    {
     "data": {
      "text/plain": [
       "(12029,)"
      ]
     },
     "execution_count": 68,
     "metadata": {},
     "output_type": "execute_result"
    }
   ],
   "source": [
    "y_train.shape"
   ]
  },
  {
   "cell_type": "markdown",
   "metadata": {},
   "source": [
    "# Constructing the neural network 6 layers and 1 output layer(for value)\n",
    "6 layers is because of data size (more datasize=more neural layers)"
   ]
  },
  {
   "cell_type": "code",
   "execution_count": 69,
   "metadata": {},
   "outputs": [],
   "source": [
    "model=Sequential()\n",
    "model.add(Dense(300,activation='relu'))\n",
    "model.add(Dense(150,activation='relu'))\n",
    "model.add(Dense(80,activation='relu'))\n",
    "model.add(Dense(50,activation='relu'))\n",
    "model.add(Dense(20,activation='relu'))\n",
    "model.add(Dense(10,activation='relu'))\n",
    "model.add(Dense(1,activation='softplus'))\n",
    "        \n",
    "model.compile(optimizer='adam',loss= 'msle')"
   ]
  },
  {
   "cell_type": "markdown",
   "metadata": {},
   "source": [
    "TRAINED THE MODEL(epochs=400 for minimizing the losses and batch_size=128 to distribute data in batches)"
   ]
  },
  {
   "cell_type": "code",
   "execution_count": 70,
   "metadata": {},
   "outputs": [
    {
     "name": "stdout",
     "output_type": "stream",
     "text": [
      "Epoch 1/400\n",
      "94/94 [==============================] - 1s 11ms/step - loss: 64.8457 - val_loss: 23.6412\n",
      "Epoch 2/400\n",
      "94/94 [==============================] - 1s 8ms/step - loss: 14.1900 - val_loss: 8.0635\n",
      "Epoch 3/400\n",
      "94/94 [==============================] - 1s 8ms/step - loss: 5.4874 - val_loss: 3.5979\n",
      "Epoch 4/400\n",
      "94/94 [==============================] - 1s 8ms/step - loss: 2.6878 - val_loss: 1.9748\n",
      "Epoch 5/400\n",
      "94/94 [==============================] - 1s 8ms/step - loss: 1.6282 - val_loss: 1.3368\n",
      "Epoch 6/400\n",
      "94/94 [==============================] - 1s 8ms/step - loss: 1.1896 - val_loss: 1.0457\n",
      "Epoch 7/400\n",
      "94/94 [==============================] - 1s 9ms/step - loss: 0.9632 - val_loss: 0.8742\n",
      "Epoch 8/400\n",
      "94/94 [==============================] - 1s 9ms/step - loss: 0.8202 - val_loss: 0.7578\n",
      "Epoch 9/400\n",
      "94/94 [==============================] - 1s 9ms/step - loss: 0.7168 - val_loss: 0.6671\n",
      "Epoch 10/400\n",
      "94/94 [==============================] - 1s 8ms/step - loss: 0.6341 - val_loss: 0.5926\n",
      "Epoch 11/400\n",
      "94/94 [==============================] - 1s 9ms/step - loss: 0.5655 - val_loss: 0.5289\n",
      "Epoch 12/400\n",
      "94/94 [==============================] - 1s 8ms/step - loss: 0.5061 - val_loss: 0.4723\n",
      "Epoch 13/400\n",
      "94/94 [==============================] - 1s 9ms/step - loss: 0.4542 - val_loss: 0.4240\n",
      "Epoch 14/400\n",
      "94/94 [==============================] - 1s 9ms/step - loss: 0.4101 - val_loss: 0.3831\n",
      "Epoch 15/400\n",
      "94/94 [==============================] - 1s 8ms/step - loss: 0.3722 - val_loss: 0.3487\n",
      "Epoch 16/400\n",
      "94/94 [==============================] - 1s 9ms/step - loss: 0.3396 - val_loss: 0.3192\n",
      "Epoch 17/400\n",
      "94/94 [==============================] - 1s 9ms/step - loss: 0.3114 - val_loss: 0.2935\n",
      "Epoch 18/400\n",
      "94/94 [==============================] - 1s 9ms/step - loss: 0.2862 - val_loss: 0.2708\n",
      "Epoch 19/400\n",
      "94/94 [==============================] - 1s 9ms/step - loss: 0.2642 - val_loss: 0.2509\n",
      "Epoch 20/400\n",
      "94/94 [==============================] - 1s 9ms/step - loss: 0.2442 - val_loss: 0.2332\n",
      "Epoch 21/400\n",
      "94/94 [==============================] - 1s 9ms/step - loss: 0.2263 - val_loss: 0.2176\n",
      "Epoch 22/400\n",
      "94/94 [==============================] - 1s 8ms/step - loss: 0.2103 - val_loss: 0.2026\n",
      "Epoch 23/400\n",
      "94/94 [==============================] - 1s 9ms/step - loss: 0.1955 - val_loss: 0.1891\n",
      "Epoch 24/400\n",
      "94/94 [==============================] - 1s 8ms/step - loss: 0.1820 - val_loss: 0.1766\n",
      "Epoch 25/400\n",
      "94/94 [==============================] - 1s 9ms/step - loss: 0.1698 - val_loss: 0.1656\n",
      "Epoch 26/400\n",
      "94/94 [==============================] - 1s 9ms/step - loss: 0.1585 - val_loss: 0.1555\n",
      "Epoch 27/400\n",
      "94/94 [==============================] - 1s 9ms/step - loss: 0.1484 - val_loss: 0.1463\n",
      "Epoch 28/400\n",
      "94/94 [==============================] - 1s 9ms/step - loss: 0.1392 - val_loss: 0.1377\n",
      "Epoch 29/400\n",
      "94/94 [==============================] - 1s 9ms/step - loss: 0.1308 - val_loss: 0.1299\n",
      "Epoch 30/400\n",
      "94/94 [==============================] - 1s 9ms/step - loss: 0.1231 - val_loss: 0.1227\n",
      "Epoch 31/400\n",
      "94/94 [==============================] - 1s 9ms/step - loss: 0.1162 - val_loss: 0.1164\n",
      "Epoch 32/400\n",
      "94/94 [==============================] - 1s 9ms/step - loss: 0.1099 - val_loss: 0.1105\n",
      "Epoch 33/400\n",
      "94/94 [==============================] - 1s 9ms/step - loss: 0.1041 - val_loss: 0.1054\n",
      "Epoch 34/400\n",
      "94/94 [==============================] - 1s 9ms/step - loss: 0.0989 - val_loss: 0.1002\n",
      "Epoch 35/400\n",
      "94/94 [==============================] - 1s 9ms/step - loss: 0.0941 - val_loss: 0.0956\n",
      "Epoch 36/400\n",
      "94/94 [==============================] - 1s 8ms/step - loss: 0.0898 - val_loss: 0.0915\n",
      "Epoch 37/400\n",
      "94/94 [==============================] - 1s 8ms/step - loss: 0.0857 - val_loss: 0.0873\n",
      "Epoch 38/400\n",
      "94/94 [==============================] - 1s 8ms/step - loss: 0.0817 - val_loss: 0.0838\n",
      "Epoch 39/400\n",
      "94/94 [==============================] - 1s 8ms/step - loss: 0.0782 - val_loss: 0.0800\n",
      "Epoch 40/400\n",
      "94/94 [==============================] - 1s 9ms/step - loss: 0.0749 - val_loss: 0.0772\n",
      "Epoch 41/400\n",
      "94/94 [==============================] - 1s 8ms/step - loss: 0.0716 - val_loss: 0.0745\n",
      "Epoch 42/400\n",
      "94/94 [==============================] - 1s 8ms/step - loss: 0.0689 - val_loss: 0.0709\n",
      "Epoch 43/400\n",
      "94/94 [==============================] - 1s 9ms/step - loss: 0.0660 - val_loss: 0.0685\n",
      "Epoch 44/400\n",
      "94/94 [==============================] - 1s 8ms/step - loss: 0.0633 - val_loss: 0.0658\n",
      "Epoch 45/400\n",
      "94/94 [==============================] - 1s 9ms/step - loss: 0.0610 - val_loss: 0.0634\n",
      "Epoch 46/400\n",
      "94/94 [==============================] - 1s 9ms/step - loss: 0.0589 - val_loss: 0.0629\n",
      "Epoch 47/400\n",
      "94/94 [==============================] - 1s 9ms/step - loss: 0.0574 - val_loss: 0.0597\n",
      "Epoch 48/400\n",
      "94/94 [==============================] - 1s 9ms/step - loss: 0.0551 - val_loss: 0.0572\n",
      "Epoch 49/400\n",
      "94/94 [==============================] - 1s 9ms/step - loss: 0.0531 - val_loss: 0.0559\n",
      "Epoch 50/400\n",
      "94/94 [==============================] - 1s 8ms/step - loss: 0.0515 - val_loss: 0.0540\n",
      "Epoch 51/400\n",
      "94/94 [==============================] - 0s 5ms/step - loss: 0.0496 - val_loss: 0.0530\n",
      "Epoch 52/400\n",
      "94/94 [==============================] - 0s 3ms/step - loss: 0.0482 - val_loss: 0.0510\n",
      "Epoch 53/400\n",
      "94/94 [==============================] - 0s 2ms/step - loss: 0.0466 - val_loss: 0.0495\n",
      "Epoch 54/400\n",
      "94/94 [==============================] - 0s 2ms/step - loss: 0.0453 - val_loss: 0.0486\n",
      "Epoch 55/400\n",
      "94/94 [==============================] - 0s 2ms/step - loss: 0.0437 - val_loss: 0.0472\n",
      "Epoch 56/400\n",
      "94/94 [==============================] - 0s 2ms/step - loss: 0.0424 - val_loss: 0.0472\n",
      "Epoch 57/400\n",
      "94/94 [==============================] - 0s 2ms/step - loss: 0.0414 - val_loss: 0.0452\n",
      "Epoch 58/400\n",
      "94/94 [==============================] - 0s 2ms/step - loss: 0.0405 - val_loss: 0.0444\n",
      "Epoch 59/400\n",
      "94/94 [==============================] - 0s 2ms/step - loss: 0.0391 - val_loss: 0.0429\n",
      "Epoch 60/400\n",
      "94/94 [==============================] - 0s 2ms/step - loss: 0.0379 - val_loss: 0.0417\n",
      "Epoch 61/400\n",
      "94/94 [==============================] - 0s 2ms/step - loss: 0.0368 - val_loss: 0.0408\n",
      "Epoch 62/400\n",
      "94/94 [==============================] - 0s 2ms/step - loss: 0.0358 - val_loss: 0.0400\n",
      "Epoch 63/400\n",
      "94/94 [==============================] - 0s 2ms/step - loss: 0.0351 - val_loss: 0.0398\n",
      "Epoch 64/400\n",
      "94/94 [==============================] - 0s 2ms/step - loss: 0.0343 - val_loss: 0.0380\n",
      "Epoch 65/400\n",
      "94/94 [==============================] - 0s 2ms/step - loss: 0.0330 - val_loss: 0.0370\n",
      "Epoch 66/400\n",
      "94/94 [==============================] - 0s 2ms/step - loss: 0.0321 - val_loss: 0.0365\n",
      "Epoch 67/400\n",
      "94/94 [==============================] - 0s 2ms/step - loss: 0.0315 - val_loss: 0.0359\n",
      "Epoch 68/400\n",
      "94/94 [==============================] - 0s 2ms/step - loss: 0.0303 - val_loss: 0.0350\n",
      "Epoch 69/400\n",
      "94/94 [==============================] - 0s 2ms/step - loss: 0.0296 - val_loss: 0.0344\n",
      "Epoch 70/400\n",
      "94/94 [==============================] - 0s 2ms/step - loss: 0.0289 - val_loss: 0.0338\n",
      "Epoch 71/400\n",
      "94/94 [==============================] - 0s 2ms/step - loss: 0.0284 - val_loss: 0.0333\n",
      "Epoch 72/400\n",
      "94/94 [==============================] - 0s 2ms/step - loss: 0.0276 - val_loss: 0.0326\n",
      "Epoch 73/400\n",
      "94/94 [==============================] - 0s 2ms/step - loss: 0.0270 - val_loss: 0.0316\n",
      "Epoch 74/400\n",
      "94/94 [==============================] - 0s 2ms/step - loss: 0.0263 - val_loss: 0.0317\n",
      "Epoch 75/400\n",
      "94/94 [==============================] - 0s 2ms/step - loss: 0.0256 - val_loss: 0.0308\n",
      "Epoch 76/400\n",
      "94/94 [==============================] - 0s 2ms/step - loss: 0.0251 - val_loss: 0.0302\n",
      "Epoch 77/400\n",
      "94/94 [==============================] - 0s 2ms/step - loss: 0.0245 - val_loss: 0.0302\n",
      "Epoch 78/400\n",
      "94/94 [==============================] - 0s 2ms/step - loss: 0.0239 - val_loss: 0.0295\n",
      "Epoch 79/400\n",
      "94/94 [==============================] - 0s 2ms/step - loss: 0.0237 - val_loss: 0.0295\n",
      "Epoch 80/400\n",
      "94/94 [==============================] - 0s 2ms/step - loss: 0.0235 - val_loss: 0.0292\n",
      "Epoch 81/400\n",
      "94/94 [==============================] - 0s 2ms/step - loss: 0.0226 - val_loss: 0.0279\n",
      "Epoch 82/400\n",
      "94/94 [==============================] - 0s 2ms/step - loss: 0.0222 - val_loss: 0.0280\n"
     ]
    },
    {
     "name": "stdout",
     "output_type": "stream",
     "text": [
      "Epoch 83/400\n",
      "94/94 [==============================] - 0s 2ms/step - loss: 0.0217 - val_loss: 0.0271\n",
      "Epoch 84/400\n",
      "94/94 [==============================] - 0s 2ms/step - loss: 0.0213 - val_loss: 0.0274\n",
      "Epoch 85/400\n",
      "94/94 [==============================] - 0s 2ms/step - loss: 0.0208 - val_loss: 0.0269\n",
      "Epoch 86/400\n",
      "94/94 [==============================] - 0s 2ms/step - loss: 0.0203 - val_loss: 0.0264\n",
      "Epoch 87/400\n",
      "94/94 [==============================] - 0s 2ms/step - loss: 0.0200 - val_loss: 0.0263\n",
      "Epoch 88/400\n",
      "94/94 [==============================] - 0s 2ms/step - loss: 0.0197 - val_loss: 0.0256\n",
      "Epoch 89/400\n",
      "94/94 [==============================] - 0s 2ms/step - loss: 0.0194 - val_loss: 0.0254\n",
      "Epoch 90/400\n",
      "94/94 [==============================] - 0s 2ms/step - loss: 0.0188 - val_loss: 0.0261\n",
      "Epoch 91/400\n",
      "94/94 [==============================] - 0s 2ms/step - loss: 0.0188 - val_loss: 0.0246\n",
      "Epoch 92/400\n",
      "94/94 [==============================] - 0s 2ms/step - loss: 0.0180 - val_loss: 0.0248\n",
      "Epoch 93/400\n",
      "94/94 [==============================] - 0s 2ms/step - loss: 0.0179 - val_loss: 0.0245\n",
      "Epoch 94/400\n",
      "94/94 [==============================] - 0s 2ms/step - loss: 0.0174 - val_loss: 0.0235\n",
      "Epoch 95/400\n",
      "94/94 [==============================] - 0s 2ms/step - loss: 0.0167 - val_loss: 0.0239\n",
      "Epoch 96/400\n",
      "94/94 [==============================] - 0s 2ms/step - loss: 0.0168 - val_loss: 0.0232\n",
      "Epoch 97/400\n",
      "94/94 [==============================] - 0s 2ms/step - loss: 0.0163 - val_loss: 0.0230\n",
      "Epoch 98/400\n",
      "94/94 [==============================] - 0s 2ms/step - loss: 0.0160 - val_loss: 0.0231\n",
      "Epoch 99/400\n",
      "94/94 [==============================] - 0s 2ms/step - loss: 0.0160 - val_loss: 0.0226\n",
      "Epoch 100/400\n",
      "94/94 [==============================] - 0s 2ms/step - loss: 0.0155 - val_loss: 0.0226\n",
      "Epoch 101/400\n",
      "94/94 [==============================] - 0s 2ms/step - loss: 0.0151 - val_loss: 0.0226\n",
      "Epoch 102/400\n",
      "94/94 [==============================] - 0s 2ms/step - loss: 0.0146 - val_loss: 0.0215\n",
      "Epoch 103/400\n",
      "94/94 [==============================] - 0s 2ms/step - loss: 0.0142 - val_loss: 0.0222\n",
      "Epoch 104/400\n",
      "94/94 [==============================] - 0s 2ms/step - loss: 0.0142 - val_loss: 0.0213\n",
      "Epoch 105/400\n",
      "94/94 [==============================] - 0s 2ms/step - loss: 0.0140 - val_loss: 0.0220\n",
      "Epoch 106/400\n",
      "94/94 [==============================] - 0s 2ms/step - loss: 0.0135 - val_loss: 0.0208\n",
      "Epoch 107/400\n",
      "94/94 [==============================] - 0s 2ms/step - loss: 0.0132 - val_loss: 0.0207\n",
      "Epoch 108/400\n",
      "94/94 [==============================] - 0s 2ms/step - loss: 0.0129 - val_loss: 0.0207\n",
      "Epoch 109/400\n",
      "94/94 [==============================] - 0s 2ms/step - loss: 0.0126 - val_loss: 0.0209\n",
      "Epoch 110/400\n",
      "94/94 [==============================] - 0s 2ms/step - loss: 0.0124 - val_loss: 0.0205\n",
      "Epoch 111/400\n",
      "94/94 [==============================] - 0s 2ms/step - loss: 0.0121 - val_loss: 0.0201\n",
      "Epoch 112/400\n",
      "94/94 [==============================] - 0s 2ms/step - loss: 0.0119 - val_loss: 0.0199\n",
      "Epoch 113/400\n",
      "94/94 [==============================] - 0s 2ms/step - loss: 0.0117 - val_loss: 0.0195\n",
      "Epoch 114/400\n",
      "94/94 [==============================] - 0s 2ms/step - loss: 0.0118 - val_loss: 0.0195\n",
      "Epoch 115/400\n",
      "94/94 [==============================] - 0s 2ms/step - loss: 0.0114 - val_loss: 0.0189\n",
      "Epoch 116/400\n",
      "94/94 [==============================] - 0s 2ms/step - loss: 0.0111 - val_loss: 0.0192\n",
      "Epoch 117/400\n",
      "94/94 [==============================] - 0s 2ms/step - loss: 0.0108 - val_loss: 0.0190\n",
      "Epoch 118/400\n",
      "94/94 [==============================] - 0s 2ms/step - loss: 0.0107 - val_loss: 0.0193\n",
      "Epoch 119/400\n",
      "94/94 [==============================] - 0s 2ms/step - loss: 0.0106 - val_loss: 0.0191\n",
      "Epoch 120/400\n",
      "94/94 [==============================] - 0s 2ms/step - loss: 0.0102 - val_loss: 0.0186\n",
      "Epoch 121/400\n",
      "94/94 [==============================] - 0s 2ms/step - loss: 0.0100 - val_loss: 0.0187\n",
      "Epoch 122/400\n",
      "94/94 [==============================] - 0s 2ms/step - loss: 0.0099 - val_loss: 0.0183\n",
      "Epoch 123/400\n",
      "94/94 [==============================] - 0s 2ms/step - loss: 0.0097 - val_loss: 0.0185\n",
      "Epoch 124/400\n",
      "94/94 [==============================] - 0s 2ms/step - loss: 0.0095 - val_loss: 0.0184\n",
      "Epoch 125/400\n",
      "94/94 [==============================] - 0s 2ms/step - loss: 0.0097 - val_loss: 0.0188\n",
      "Epoch 126/400\n",
      "94/94 [==============================] - 0s 2ms/step - loss: 0.0092 - val_loss: 0.0182\n",
      "Epoch 127/400\n",
      "94/94 [==============================] - 0s 2ms/step - loss: 0.0090 - val_loss: 0.0178\n",
      "Epoch 128/400\n",
      "94/94 [==============================] - 0s 2ms/step - loss: 0.0088 - val_loss: 0.0180\n",
      "Epoch 129/400\n",
      "94/94 [==============================] - 0s 2ms/step - loss: 0.0090 - val_loss: 0.0183\n",
      "Epoch 130/400\n",
      "94/94 [==============================] - 0s 2ms/step - loss: 0.0085 - val_loss: 0.0178\n",
      "Epoch 131/400\n",
      "94/94 [==============================] - 0s 2ms/step - loss: 0.0085 - val_loss: 0.0187\n",
      "Epoch 132/400\n",
      "94/94 [==============================] - 0s 2ms/step - loss: 0.0083 - val_loss: 0.0175\n",
      "Epoch 133/400\n",
      "94/94 [==============================] - 0s 2ms/step - loss: 0.0081 - val_loss: 0.0173\n",
      "Epoch 134/400\n",
      "94/94 [==============================] - 0s 2ms/step - loss: 0.0078 - val_loss: 0.0174\n",
      "Epoch 135/400\n",
      "94/94 [==============================] - 0s 2ms/step - loss: 0.0079 - val_loss: 0.0173\n",
      "Epoch 136/400\n",
      "94/94 [==============================] - 0s 2ms/step - loss: 0.0075 - val_loss: 0.0173\n",
      "Epoch 137/400\n",
      "94/94 [==============================] - 0s 2ms/step - loss: 0.0073 - val_loss: 0.0179\n",
      "Epoch 138/400\n",
      "94/94 [==============================] - 0s 2ms/step - loss: 0.0076 - val_loss: 0.0175\n",
      "Epoch 139/400\n",
      "94/94 [==============================] - 0s 2ms/step - loss: 0.0073 - val_loss: 0.0173\n",
      "Epoch 140/400\n",
      "94/94 [==============================] - 0s 2ms/step - loss: 0.0069 - val_loss: 0.0171\n",
      "Epoch 141/400\n",
      "94/94 [==============================] - 0s 2ms/step - loss: 0.0070 - val_loss: 0.0173\n",
      "Epoch 142/400\n",
      "94/94 [==============================] - 0s 2ms/step - loss: 0.0071 - val_loss: 0.0166\n",
      "Epoch 143/400\n",
      "94/94 [==============================] - 0s 2ms/step - loss: 0.0066 - val_loss: 0.0168\n",
      "Epoch 144/400\n",
      "94/94 [==============================] - 0s 2ms/step - loss: 0.0071 - val_loss: 0.0164\n",
      "Epoch 145/400\n",
      "94/94 [==============================] - 0s 2ms/step - loss: 0.0066 - val_loss: 0.0162\n",
      "Epoch 146/400\n",
      "94/94 [==============================] - 0s 2ms/step - loss: 0.0063 - val_loss: 0.0161\n",
      "Epoch 147/400\n",
      "94/94 [==============================] - 0s 2ms/step - loss: 0.0063 - val_loss: 0.0164\n",
      "Epoch 148/400\n",
      "94/94 [==============================] - 0s 2ms/step - loss: 0.0062 - val_loss: 0.0156\n",
      "Epoch 149/400\n",
      "94/94 [==============================] - 0s 2ms/step - loss: 0.0059 - val_loss: 0.0157\n",
      "Epoch 150/400\n",
      "94/94 [==============================] - 0s 2ms/step - loss: 0.0060 - val_loss: 0.0157\n",
      "Epoch 151/400\n",
      "94/94 [==============================] - 0s 2ms/step - loss: 0.0058 - val_loss: 0.0152\n",
      "Epoch 152/400\n",
      "94/94 [==============================] - 0s 2ms/step - loss: 0.0058 - val_loss: 0.0157\n",
      "Epoch 153/400\n",
      "94/94 [==============================] - 0s 2ms/step - loss: 0.0057 - val_loss: 0.0158\n",
      "Epoch 154/400\n",
      "94/94 [==============================] - 0s 2ms/step - loss: 0.0056 - val_loss: 0.0153\n",
      "Epoch 155/400\n",
      "94/94 [==============================] - 0s 2ms/step - loss: 0.0054 - val_loss: 0.0152\n",
      "Epoch 156/400\n",
      "94/94 [==============================] - 0s 2ms/step - loss: 0.0054 - val_loss: 0.0150\n",
      "Epoch 157/400\n",
      "94/94 [==============================] - 0s 2ms/step - loss: 0.0051 - val_loss: 0.0148\n",
      "Epoch 158/400\n",
      "94/94 [==============================] - 0s 2ms/step - loss: 0.0051 - val_loss: 0.0152\n",
      "Epoch 159/400\n",
      "94/94 [==============================] - 0s 2ms/step - loss: 0.0048 - val_loss: 0.0152\n",
      "Epoch 160/400\n",
      "94/94 [==============================] - 0s 2ms/step - loss: 0.0049 - val_loss: 0.0145\n",
      "Epoch 161/400\n",
      "94/94 [==============================] - 0s 2ms/step - loss: 0.0048 - val_loss: 0.0159\n",
      "Epoch 162/400\n",
      "94/94 [==============================] - 0s 2ms/step - loss: 0.0047 - val_loss: 0.0156\n",
      "Epoch 163/400\n",
      "94/94 [==============================] - 0s 2ms/step - loss: 0.0046 - val_loss: 0.0146\n",
      "Epoch 164/400\n",
      "94/94 [==============================] - 0s 2ms/step - loss: 0.0045 - val_loss: 0.0147\n",
      "Epoch 165/400\n",
      "94/94 [==============================] - 0s 2ms/step - loss: 0.0047 - val_loss: 0.0148\n",
      "Epoch 166/400\n",
      "94/94 [==============================] - 0s 2ms/step - loss: 0.0044 - val_loss: 0.0147\n",
      "Epoch 167/400\n",
      "94/94 [==============================] - 0s 2ms/step - loss: 0.0042 - val_loss: 0.0143\n",
      "Epoch 168/400\n",
      "94/94 [==============================] - 0s 2ms/step - loss: 0.0042 - val_loss: 0.0143\n",
      "Epoch 169/400\n",
      "94/94 [==============================] - 0s 2ms/step - loss: 0.0042 - val_loss: 0.0140\n",
      "Epoch 170/400\n",
      "94/94 [==============================] - 0s 2ms/step - loss: 0.0042 - val_loss: 0.0145\n",
      "Epoch 171/400\n",
      "94/94 [==============================] - 0s 2ms/step - loss: 0.0040 - val_loss: 0.0138\n",
      "Epoch 172/400\n",
      "94/94 [==============================] - 0s 2ms/step - loss: 0.0040 - val_loss: 0.0145\n",
      "Epoch 173/400\n",
      "94/94 [==============================] - 0s 2ms/step - loss: 0.0040 - val_loss: 0.0134\n",
      "Epoch 174/400\n",
      "94/94 [==============================] - 0s 2ms/step - loss: 0.0038 - val_loss: 0.0141\n",
      "Epoch 175/400\n",
      "94/94 [==============================] - 0s 2ms/step - loss: 0.0041 - val_loss: 0.0146\n",
      "Epoch 176/400\n",
      "94/94 [==============================] - 0s 2ms/step - loss: 0.0043 - val_loss: 0.0137\n",
      "Epoch 177/400\n",
      "94/94 [==============================] - 0s 2ms/step - loss: 0.0038 - val_loss: 0.0135\n",
      "Epoch 178/400\n",
      "94/94 [==============================] - 0s 2ms/step - loss: 0.0036 - val_loss: 0.0136\n",
      "Epoch 179/400\n",
      "94/94 [==============================] - 0s 2ms/step - loss: 0.0037 - val_loss: 0.0134\n",
      "Epoch 180/400\n",
      "94/94 [==============================] - 0s 2ms/step - loss: 0.0035 - val_loss: 0.0134\n",
      "Epoch 181/400\n",
      "94/94 [==============================] - 0s 2ms/step - loss: 0.0034 - val_loss: 0.0144\n",
      "Epoch 182/400\n",
      "94/94 [==============================] - 0s 2ms/step - loss: 0.0032 - val_loss: 0.0140\n",
      "Epoch 183/400\n",
      "94/94 [==============================] - 0s 2ms/step - loss: 0.0033 - val_loss: 0.0127\n",
      "Epoch 184/400\n",
      "94/94 [==============================] - 0s 2ms/step - loss: 0.0032 - val_loss: 0.0134\n",
      "Epoch 185/400\n",
      "94/94 [==============================] - 0s 2ms/step - loss: 0.0032 - val_loss: 0.0133\n",
      "Epoch 186/400\n",
      "94/94 [==============================] - 0s 2ms/step - loss: 0.0032 - val_loss: 0.0126\n",
      "Epoch 187/400\n",
      "94/94 [==============================] - 0s 2ms/step - loss: 0.0034 - val_loss: 0.0134\n",
      "Epoch 188/400\n",
      "94/94 [==============================] - 0s 2ms/step - loss: 0.0032 - val_loss: 0.0134\n",
      "Epoch 189/400\n",
      "94/94 [==============================] - 0s 2ms/step - loss: 0.0032 - val_loss: 0.0123\n",
      "Epoch 190/400\n",
      "94/94 [==============================] - 0s 2ms/step - loss: 0.0031 - val_loss: 0.0125\n",
      "Epoch 191/400\n",
      "94/94 [==============================] - 0s 2ms/step - loss: 0.0030 - val_loss: 0.0137\n",
      "Epoch 192/400\n",
      "94/94 [==============================] - 0s 2ms/step - loss: 0.0031 - val_loss: 0.0124\n",
      "Epoch 193/400\n",
      "94/94 [==============================] - 0s 2ms/step - loss: 0.0031 - val_loss: 0.0136\n",
      "Epoch 194/400\n",
      "94/94 [==============================] - 0s 2ms/step - loss: 0.0030 - val_loss: 0.0134\n",
      "Epoch 195/400\n",
      "94/94 [==============================] - 0s 2ms/step - loss: 0.0030 - val_loss: 0.0139\n",
      "Epoch 196/400\n",
      "94/94 [==============================] - 0s 2ms/step - loss: 0.0030 - val_loss: 0.0131\n",
      "Epoch 197/400\n",
      "94/94 [==============================] - 0s 2ms/step - loss: 0.0029 - val_loss: 0.0130\n",
      "Epoch 198/400\n",
      "94/94 [==============================] - 0s 2ms/step - loss: 0.0029 - val_loss: 0.0124\n",
      "Epoch 199/400\n",
      "94/94 [==============================] - 0s 2ms/step - loss: 0.0028 - val_loss: 0.0121\n",
      "Epoch 200/400\n",
      "94/94 [==============================] - 0s 2ms/step - loss: 0.0027 - val_loss: 0.0123\n",
      "Epoch 201/400\n",
      "94/94 [==============================] - 0s 2ms/step - loss: 0.0028 - val_loss: 0.0147\n",
      "Epoch 202/400\n",
      "94/94 [==============================] - 0s 2ms/step - loss: 0.0029 - val_loss: 0.0121\n",
      "Epoch 203/400\n",
      "94/94 [==============================] - 0s 2ms/step - loss: 0.0027 - val_loss: 0.0119\n",
      "Epoch 204/400\n",
      "94/94 [==============================] - 0s 2ms/step - loss: 0.0026 - val_loss: 0.0127\n",
      "Epoch 205/400\n",
      "94/94 [==============================] - 0s 2ms/step - loss: 0.0028 - val_loss: 0.0116\n",
      "Epoch 206/400\n",
      "94/94 [==============================] - 0s 2ms/step - loss: 0.0027 - val_loss: 0.0122\n",
      "Epoch 207/400\n",
      "94/94 [==============================] - 0s 2ms/step - loss: 0.0025 - val_loss: 0.0120\n",
      "Epoch 208/400\n",
      "94/94 [==============================] - 0s 2ms/step - loss: 0.0027 - val_loss: 0.0123\n",
      "Epoch 209/400\n",
      "94/94 [==============================] - 0s 2ms/step - loss: 0.0027 - val_loss: 0.0120\n",
      "Epoch 210/400\n",
      "94/94 [==============================] - 0s 2ms/step - loss: 0.0026 - val_loss: 0.0118\n",
      "Epoch 211/400\n",
      "94/94 [==============================] - 0s 2ms/step - loss: 0.0026 - val_loss: 0.0120\n",
      "Epoch 212/400\n",
      "94/94 [==============================] - 0s 2ms/step - loss: 0.0024 - val_loss: 0.0138\n",
      "Epoch 213/400\n",
      "94/94 [==============================] - 0s 2ms/step - loss: 0.0027 - val_loss: 0.0135\n",
      "Epoch 214/400\n",
      "94/94 [==============================] - 0s 2ms/step - loss: 0.0032 - val_loss: 0.0118\n",
      "Epoch 215/400\n",
      "94/94 [==============================] - 0s 2ms/step - loss: 0.0027 - val_loss: 0.0119\n",
      "Epoch 216/400\n",
      "94/94 [==============================] - 0s 2ms/step - loss: 0.0025 - val_loss: 0.0118\n",
      "Epoch 217/400\n",
      "94/94 [==============================] - 0s 2ms/step - loss: 0.0023 - val_loss: 0.0114\n",
      "Epoch 218/400\n",
      "94/94 [==============================] - 0s 2ms/step - loss: 0.0024 - val_loss: 0.0116\n",
      "Epoch 219/400\n",
      "94/94 [==============================] - 0s 2ms/step - loss: 0.0026 - val_loss: 0.0117\n",
      "Epoch 220/400\n",
      "94/94 [==============================] - 0s 2ms/step - loss: 0.0024 - val_loss: 0.0114\n",
      "Epoch 221/400\n",
      "94/94 [==============================] - 0s 2ms/step - loss: 0.0023 - val_loss: 0.0118\n",
      "Epoch 222/400\n",
      "94/94 [==============================] - 0s 2ms/step - loss: 0.0022 - val_loss: 0.0114\n",
      "Epoch 223/400\n",
      "94/94 [==============================] - 0s 2ms/step - loss: 0.0022 - val_loss: 0.0114\n",
      "Epoch 224/400\n",
      "94/94 [==============================] - 0s 2ms/step - loss: 0.0021 - val_loss: 0.0119\n",
      "Epoch 225/400\n",
      "94/94 [==============================] - 0s 2ms/step - loss: 0.0022 - val_loss: 0.0115\n",
      "Epoch 226/400\n",
      "94/94 [==============================] - 0s 2ms/step - loss: 0.0022 - val_loss: 0.0120\n",
      "Epoch 227/400\n",
      "94/94 [==============================] - 0s 2ms/step - loss: 0.0022 - val_loss: 0.0120\n",
      "Epoch 228/400\n",
      "94/94 [==============================] - 0s 2ms/step - loss: 0.0020 - val_loss: 0.0114\n",
      "Epoch 229/400\n",
      "94/94 [==============================] - 0s 2ms/step - loss: 0.0022 - val_loss: 0.0113\n",
      "Epoch 230/400\n",
      "94/94 [==============================] - 0s 2ms/step - loss: 0.0022 - val_loss: 0.0121\n",
      "Epoch 231/400\n",
      "94/94 [==============================] - 0s 2ms/step - loss: 0.0020 - val_loss: 0.0119\n",
      "Epoch 232/400\n",
      "94/94 [==============================] - 0s 2ms/step - loss: 0.0020 - val_loss: 0.0113\n",
      "Epoch 233/400\n",
      "94/94 [==============================] - 0s 2ms/step - loss: 0.0022 - val_loss: 0.0110\n",
      "Epoch 234/400\n",
      "94/94 [==============================] - 0s 2ms/step - loss: 0.0023 - val_loss: 0.0117\n",
      "Epoch 235/400\n",
      "94/94 [==============================] - 0s 2ms/step - loss: 0.0024 - val_loss: 0.0116\n",
      "Epoch 236/400\n",
      "94/94 [==============================] - 0s 2ms/step - loss: 0.0023 - val_loss: 0.0117\n",
      "Epoch 237/400\n",
      "94/94 [==============================] - 0s 2ms/step - loss: 0.0020 - val_loss: 0.0116\n",
      "Epoch 238/400\n",
      "94/94 [==============================] - 0s 2ms/step - loss: 0.0022 - val_loss: 0.0117\n",
      "Epoch 239/400\n",
      "94/94 [==============================] - 0s 2ms/step - loss: 0.0021 - val_loss: 0.0119\n",
      "Epoch 240/400\n",
      "94/94 [==============================] - 0s 2ms/step - loss: 0.0021 - val_loss: 0.0116\n",
      "Epoch 241/400\n",
      "94/94 [==============================] - 0s 2ms/step - loss: 0.0020 - val_loss: 0.0111\n",
      "Epoch 242/400\n",
      "94/94 [==============================] - 0s 2ms/step - loss: 0.0019 - val_loss: 0.0115\n",
      "Epoch 243/400\n",
      "94/94 [==============================] - 0s 2ms/step - loss: 0.0019 - val_loss: 0.0116\n",
      "Epoch 244/400\n",
      "94/94 [==============================] - 0s 2ms/step - loss: 0.0019 - val_loss: 0.0112\n",
      "Epoch 245/400\n"
     ]
    },
    {
     "name": "stdout",
     "output_type": "stream",
     "text": [
      "94/94 [==============================] - 0s 2ms/step - loss: 0.0020 - val_loss: 0.0110\n",
      "Epoch 246/400\n",
      "94/94 [==============================] - 0s 2ms/step - loss: 0.0020 - val_loss: 0.0119\n",
      "Epoch 247/400\n",
      "94/94 [==============================] - 0s 2ms/step - loss: 0.0019 - val_loss: 0.0115\n",
      "Epoch 248/400\n",
      "94/94 [==============================] - 0s 2ms/step - loss: 0.0019 - val_loss: 0.0113\n",
      "Epoch 249/400\n",
      "94/94 [==============================] - 0s 2ms/step - loss: 0.0019 - val_loss: 0.0114\n",
      "Epoch 250/400\n",
      "94/94 [==============================] - 0s 2ms/step - loss: 0.0018 - val_loss: 0.0121\n",
      "Epoch 251/400\n",
      "94/94 [==============================] - 0s 2ms/step - loss: 0.0018 - val_loss: 0.0108\n",
      "Epoch 252/400\n",
      "94/94 [==============================] - 0s 2ms/step - loss: 0.0018 - val_loss: 0.0111\n",
      "Epoch 253/400\n",
      "94/94 [==============================] - 0s 2ms/step - loss: 0.0018 - val_loss: 0.0113\n",
      "Epoch 254/400\n",
      "94/94 [==============================] - 0s 2ms/step - loss: 0.0018 - val_loss: 0.0112\n",
      "Epoch 255/400\n",
      "94/94 [==============================] - 0s 2ms/step - loss: 0.0018 - val_loss: 0.0113\n",
      "Epoch 256/400\n",
      "94/94 [==============================] - 0s 2ms/step - loss: 0.0018 - val_loss: 0.0114\n",
      "Epoch 257/400\n",
      "94/94 [==============================] - 0s 2ms/step - loss: 0.0020 - val_loss: 0.0110\n",
      "Epoch 258/400\n",
      "94/94 [==============================] - 0s 2ms/step - loss: 0.0018 - val_loss: 0.0112\n",
      "Epoch 259/400\n",
      "94/94 [==============================] - 0s 2ms/step - loss: 0.0017 - val_loss: 0.0112\n",
      "Epoch 260/400\n",
      "94/94 [==============================] - 0s 2ms/step - loss: 0.0016 - val_loss: 0.0109\n",
      "Epoch 261/400\n",
      "94/94 [==============================] - 0s 2ms/step - loss: 0.0018 - val_loss: 0.0111\n",
      "Epoch 262/400\n",
      "94/94 [==============================] - 0s 2ms/step - loss: 0.0017 - val_loss: 0.0109\n",
      "Epoch 263/400\n",
      "94/94 [==============================] - 0s 2ms/step - loss: 0.0018 - val_loss: 0.0114\n",
      "Epoch 264/400\n",
      "94/94 [==============================] - 0s 2ms/step - loss: 0.0019 - val_loss: 0.0112\n",
      "Epoch 265/400\n",
      "94/94 [==============================] - 0s 2ms/step - loss: 0.0019 - val_loss: 0.0110\n",
      "Epoch 266/400\n",
      "94/94 [==============================] - 0s 2ms/step - loss: 0.0017 - val_loss: 0.0107\n",
      "Epoch 267/400\n",
      "94/94 [==============================] - 0s 2ms/step - loss: 0.0017 - val_loss: 0.0110\n",
      "Epoch 268/400\n",
      "94/94 [==============================] - 0s 2ms/step - loss: 0.0017 - val_loss: 0.0108\n",
      "Epoch 269/400\n",
      "94/94 [==============================] - 0s 2ms/step - loss: 0.0016 - val_loss: 0.0110\n",
      "Epoch 270/400\n",
      "94/94 [==============================] - 0s 2ms/step - loss: 0.0017 - val_loss: 0.0109\n",
      "Epoch 271/400\n",
      "94/94 [==============================] - 0s 2ms/step - loss: 0.0017 - val_loss: 0.0107\n",
      "Epoch 272/400\n",
      "94/94 [==============================] - 0s 2ms/step - loss: 0.0016 - val_loss: 0.0108\n",
      "Epoch 273/400\n",
      "94/94 [==============================] - 0s 2ms/step - loss: 0.0016 - val_loss: 0.0108\n",
      "Epoch 274/400\n",
      "94/94 [==============================] - 0s 2ms/step - loss: 0.0016 - val_loss: 0.0107\n",
      "Epoch 275/400\n",
      "94/94 [==============================] - 0s 2ms/step - loss: 0.0016 - val_loss: 0.0109\n",
      "Epoch 276/400\n",
      "94/94 [==============================] - 0s 2ms/step - loss: 0.0015 - val_loss: 0.0113\n",
      "Epoch 277/400\n",
      "94/94 [==============================] - 0s 2ms/step - loss: 0.0016 - val_loss: 0.0107\n",
      "Epoch 278/400\n",
      "94/94 [==============================] - 0s 2ms/step - loss: 0.0016 - val_loss: 0.0108\n",
      "Epoch 279/400\n",
      "94/94 [==============================] - 0s 2ms/step - loss: 0.0015 - val_loss: 0.0109\n",
      "Epoch 280/400\n",
      "94/94 [==============================] - 0s 2ms/step - loss: 0.0014 - val_loss: 0.0109\n",
      "Epoch 281/400\n",
      "94/94 [==============================] - 0s 2ms/step - loss: 0.0015 - val_loss: 0.0109\n",
      "Epoch 282/400\n",
      "94/94 [==============================] - 0s 2ms/step - loss: 0.0014 - val_loss: 0.0108\n",
      "Epoch 283/400\n",
      "94/94 [==============================] - 0s 2ms/step - loss: 0.0015 - val_loss: 0.0110\n",
      "Epoch 284/400\n",
      "94/94 [==============================] - 0s 2ms/step - loss: 0.0019 - val_loss: 0.0115\n",
      "Epoch 285/400\n",
      "94/94 [==============================] - 0s 2ms/step - loss: 0.0025 - val_loss: 0.0110\n",
      "Epoch 286/400\n",
      "94/94 [==============================] - 0s 2ms/step - loss: 0.0017 - val_loss: 0.0107\n",
      "Epoch 287/400\n",
      "94/94 [==============================] - 0s 2ms/step - loss: 0.0017 - val_loss: 0.0111\n",
      "Epoch 288/400\n",
      "94/94 [==============================] - 0s 2ms/step - loss: 0.0016 - val_loss: 0.0108\n",
      "Epoch 289/400\n",
      "94/94 [==============================] - 0s 2ms/step - loss: 0.0016 - val_loss: 0.0118\n",
      "Epoch 290/400\n",
      "94/94 [==============================] - 0s 2ms/step - loss: 0.0014 - val_loss: 0.0103\n",
      "Epoch 291/400\n",
      "94/94 [==============================] - 0s 2ms/step - loss: 0.0014 - val_loss: 0.0103\n",
      "Epoch 292/400\n",
      "94/94 [==============================] - 0s 2ms/step - loss: 0.0016 - val_loss: 0.0106\n",
      "Epoch 293/400\n",
      "94/94 [==============================] - 0s 2ms/step - loss: 0.0016 - val_loss: 0.0107\n",
      "Epoch 294/400\n",
      "94/94 [==============================] - 0s 2ms/step - loss: 0.0015 - val_loss: 0.0103\n",
      "Epoch 295/400\n",
      "94/94 [==============================] - 0s 2ms/step - loss: 0.0014 - val_loss: 0.0104\n",
      "Epoch 296/400\n",
      "94/94 [==============================] - 0s 2ms/step - loss: 0.0014 - val_loss: 0.0104\n",
      "Epoch 297/400\n",
      "94/94 [==============================] - 0s 2ms/step - loss: 0.0014 - val_loss: 0.0106\n",
      "Epoch 298/400\n",
      "94/94 [==============================] - 0s 2ms/step - loss: 0.0013 - val_loss: 0.0103\n",
      "Epoch 299/400\n",
      "94/94 [==============================] - 0s 2ms/step - loss: 0.0013 - val_loss: 0.0103\n",
      "Epoch 300/400\n",
      "94/94 [==============================] - 0s 2ms/step - loss: 0.0012 - val_loss: 0.0107\n",
      "Epoch 301/400\n",
      "94/94 [==============================] - 0s 2ms/step - loss: 0.0013 - val_loss: 0.0108\n",
      "Epoch 302/400\n",
      "94/94 [==============================] - 0s 2ms/step - loss: 0.0016 - val_loss: 0.0109\n",
      "Epoch 303/400\n",
      "94/94 [==============================] - 0s 2ms/step - loss: 0.0014 - val_loss: 0.0111\n",
      "Epoch 304/400\n",
      "94/94 [==============================] - 0s 2ms/step - loss: 0.0015 - val_loss: 0.0104\n",
      "Epoch 305/400\n",
      "94/94 [==============================] - 0s 2ms/step - loss: 0.0013 - val_loss: 0.0106\n",
      "Epoch 306/400\n",
      "94/94 [==============================] - 0s 2ms/step - loss: 0.0013 - val_loss: 0.0103\n",
      "Epoch 307/400\n",
      "94/94 [==============================] - 0s 2ms/step - loss: 0.0013 - val_loss: 0.0102\n",
      "Epoch 308/400\n",
      "94/94 [==============================] - 0s 2ms/step - loss: 0.0013 - val_loss: 0.0105\n",
      "Epoch 309/400\n",
      "94/94 [==============================] - 0s 2ms/step - loss: 0.0013 - val_loss: 0.0104\n",
      "Epoch 310/400\n",
      "94/94 [==============================] - 0s 2ms/step - loss: 0.0013 - val_loss: 0.0104\n",
      "Epoch 311/400\n",
      "94/94 [==============================] - 0s 2ms/step - loss: 0.0014 - val_loss: 0.0106\n",
      "Epoch 312/400\n",
      "94/94 [==============================] - 0s 2ms/step - loss: 0.0013 - val_loss: 0.0104\n",
      "Epoch 313/400\n",
      "94/94 [==============================] - 0s 2ms/step - loss: 0.0013 - val_loss: 0.0104\n",
      "Epoch 314/400\n",
      "94/94 [==============================] - 0s 2ms/step - loss: 0.0013 - val_loss: 0.0102\n",
      "Epoch 315/400\n",
      "94/94 [==============================] - 0s 2ms/step - loss: 0.0012 - val_loss: 0.0104\n",
      "Epoch 316/400\n",
      "94/94 [==============================] - 0s 2ms/step - loss: 0.0013 - val_loss: 0.0103\n",
      "Epoch 317/400\n",
      "94/94 [==============================] - 0s 2ms/step - loss: 0.0013 - val_loss: 0.0104\n",
      "Epoch 318/400\n",
      "94/94 [==============================] - 0s 2ms/step - loss: 0.0013 - val_loss: 0.0104\n",
      "Epoch 319/400\n",
      "94/94 [==============================] - 0s 2ms/step - loss: 0.0013 - val_loss: 0.0106\n",
      "Epoch 320/400\n",
      "94/94 [==============================] - 0s 2ms/step - loss: 0.0013 - val_loss: 0.0105\n",
      "Epoch 321/400\n",
      "94/94 [==============================] - 0s 2ms/step - loss: 0.0013 - val_loss: 0.0105\n",
      "Epoch 322/400\n",
      "94/94 [==============================] - 0s 2ms/step - loss: 0.0013 - val_loss: 0.0102\n",
      "Epoch 323/400\n",
      "94/94 [==============================] - 0s 2ms/step - loss: 0.0012 - val_loss: 0.0104\n",
      "Epoch 324/400\n",
      "94/94 [==============================] - 0s 2ms/step - loss: 0.0013 - val_loss: 0.0105\n",
      "Epoch 325/400\n",
      "94/94 [==============================] - 0s 2ms/step - loss: 0.0013 - val_loss: 0.0105\n",
      "Epoch 326/400\n",
      "94/94 [==============================] - 0s 2ms/step - loss: 0.0012 - val_loss: 0.0104\n",
      "Epoch 327/400\n",
      "94/94 [==============================] - 0s 2ms/step - loss: 0.0012 - val_loss: 0.0102\n",
      "Epoch 328/400\n",
      "94/94 [==============================] - 0s 2ms/step - loss: 0.0012 - val_loss: 0.0105\n",
      "Epoch 329/400\n",
      "94/94 [==============================] - 0s 2ms/step - loss: 0.0012 - val_loss: 0.0104\n",
      "Epoch 330/400\n",
      "94/94 [==============================] - 0s 2ms/step - loss: 0.0014 - val_loss: 0.0103\n",
      "Epoch 331/400\n",
      "94/94 [==============================] - 0s 2ms/step - loss: 0.0012 - val_loss: 0.0104\n",
      "Epoch 332/400\n",
      "94/94 [==============================] - 0s 2ms/step - loss: 0.0013 - val_loss: 0.0106\n",
      "Epoch 333/400\n",
      "94/94 [==============================] - 0s 2ms/step - loss: 0.0012 - val_loss: 0.0104\n",
      "Epoch 334/400\n",
      "94/94 [==============================] - 0s 2ms/step - loss: 0.0011 - val_loss: 0.0103\n",
      "Epoch 335/400\n",
      "94/94 [==============================] - 0s 2ms/step - loss: 0.0012 - val_loss: 0.0105\n",
      "Epoch 336/400\n",
      "94/94 [==============================] - 0s 2ms/step - loss: 0.0011 - val_loss: 0.0103\n",
      "Epoch 337/400\n",
      "94/94 [==============================] - 0s 2ms/step - loss: 0.0012 - val_loss: 0.0101\n",
      "Epoch 338/400\n",
      "94/94 [==============================] - 0s 2ms/step - loss: 0.0011 - val_loss: 0.0103\n",
      "Epoch 339/400\n",
      "94/94 [==============================] - 0s 2ms/step - loss: 0.0012 - val_loss: 0.0103\n",
      "Epoch 340/400\n",
      "94/94 [==============================] - 0s 2ms/step - loss: 0.0011 - val_loss: 0.0103\n",
      "Epoch 341/400\n",
      "94/94 [==============================] - 0s 2ms/step - loss: 0.0011 - val_loss: 0.0103\n",
      "Epoch 342/400\n",
      "94/94 [==============================] - 0s 2ms/step - loss: 0.0012 - val_loss: 0.0103\n",
      "Epoch 343/400\n",
      "94/94 [==============================] - 0s 2ms/step - loss: 0.0012 - val_loss: 0.0105\n",
      "Epoch 344/400\n",
      "94/94 [==============================] - 0s 2ms/step - loss: 0.0016 - val_loss: 0.0114\n",
      "Epoch 345/400\n",
      "94/94 [==============================] - 0s 2ms/step - loss: 0.0016 - val_loss: 0.0104\n",
      "Epoch 346/400\n",
      "94/94 [==============================] - 0s 2ms/step - loss: 0.0012 - val_loss: 0.0100\n",
      "Epoch 347/400\n",
      "94/94 [==============================] - 0s 2ms/step - loss: 0.0011 - val_loss: 0.0100\n",
      "Epoch 348/400\n",
      "94/94 [==============================] - 0s 2ms/step - loss: 0.0010 - val_loss: 0.0104\n",
      "Epoch 349/400\n",
      "94/94 [==============================] - 0s 2ms/step - loss: 0.0011 - val_loss: 0.0106\n",
      "Epoch 350/400\n",
      "94/94 [==============================] - 0s 2ms/step - loss: 0.0012 - val_loss: 0.0103\n",
      "Epoch 351/400\n",
      "94/94 [==============================] - 0s 2ms/step - loss: 0.0011 - val_loss: 0.0099\n",
      "Epoch 352/400\n",
      "94/94 [==============================] - 0s 2ms/step - loss: 0.0011 - val_loss: 0.0102\n",
      "Epoch 353/400\n",
      "94/94 [==============================] - 0s 2ms/step - loss: 0.0011 - val_loss: 0.0100\n",
      "Epoch 354/400\n",
      "94/94 [==============================] - 0s 2ms/step - loss: 0.0011 - val_loss: 0.0101\n",
      "Epoch 355/400\n",
      "94/94 [==============================] - 0s 2ms/step - loss: 0.0012 - val_loss: 0.0104\n",
      "Epoch 356/400\n",
      "94/94 [==============================] - 0s 2ms/step - loss: 0.0010 - val_loss: 0.0104\n",
      "Epoch 357/400\n",
      "94/94 [==============================] - 0s 2ms/step - loss: 0.0011 - val_loss: 0.0101\n",
      "Epoch 358/400\n",
      "94/94 [==============================] - 0s 2ms/step - loss: 9.9142e-04 - val_loss: 0.0100\n",
      "Epoch 359/400\n",
      "94/94 [==============================] - 0s 2ms/step - loss: 0.0011 - val_loss: 0.0099\n",
      "Epoch 360/400\n",
      "94/94 [==============================] - 0s 2ms/step - loss: 9.8042e-04 - val_loss: 0.0100\n",
      "Epoch 361/400\n",
      "94/94 [==============================] - 0s 2ms/step - loss: 9.8198e-04 - val_loss: 0.0105\n",
      "Epoch 362/400\n",
      "94/94 [==============================] - 0s 2ms/step - loss: 0.0011 - val_loss: 0.0100\n",
      "Epoch 363/400\n",
      "94/94 [==============================] - 0s 2ms/step - loss: 0.0010 - val_loss: 0.0101\n",
      "Epoch 364/400\n",
      "94/94 [==============================] - 0s 2ms/step - loss: 9.3586e-04 - val_loss: 0.0099\n",
      "Epoch 365/400\n",
      "94/94 [==============================] - 0s 2ms/step - loss: 0.0011 - val_loss: 0.0105\n",
      "Epoch 366/400\n",
      "94/94 [==============================] - 0s 2ms/step - loss: 0.0011 - val_loss: 0.0099\n",
      "Epoch 367/400\n",
      "94/94 [==============================] - 0s 2ms/step - loss: 0.0011 - val_loss: 0.0101\n",
      "Epoch 368/400\n",
      "94/94 [==============================] - 0s 2ms/step - loss: 9.6047e-04 - val_loss: 0.0100\n",
      "Epoch 369/400\n",
      "94/94 [==============================] - 0s 2ms/step - loss: 9.8830e-04 - val_loss: 0.0101\n",
      "Epoch 370/400\n",
      "94/94 [==============================] - 0s 2ms/step - loss: 9.9776e-04 - val_loss: 0.0101\n",
      "Epoch 371/400\n",
      "94/94 [==============================] - 0s 2ms/step - loss: 0.0012 - val_loss: 0.0109\n",
      "Epoch 372/400\n",
      "94/94 [==============================] - 0s 2ms/step - loss: 0.0014 - val_loss: 0.0101\n",
      "Epoch 373/400\n",
      "94/94 [==============================] - 0s 2ms/step - loss: 0.0011 - val_loss: 0.0100\n",
      "Epoch 374/400\n",
      "94/94 [==============================] - 0s 2ms/step - loss: 0.0010 - val_loss: 0.0103\n",
      "Epoch 375/400\n",
      "94/94 [==============================] - 0s 2ms/step - loss: 0.0010 - val_loss: 0.0101\n",
      "Epoch 376/400\n",
      "94/94 [==============================] - 0s 2ms/step - loss: 9.2478e-04 - val_loss: 0.0099\n",
      "Epoch 377/400\n",
      "94/94 [==============================] - 0s 2ms/step - loss: 8.8942e-04 - val_loss: 0.0100\n",
      "Epoch 378/400\n",
      "94/94 [==============================] - 0s 2ms/step - loss: 8.8763e-04 - val_loss: 0.0100\n",
      "Epoch 379/400\n",
      "94/94 [==============================] - 0s 2ms/step - loss: 0.0010 - val_loss: 0.0101\n",
      "Epoch 380/400\n",
      "94/94 [==============================] - 0s 2ms/step - loss: 9.9197e-04 - val_loss: 0.0100\n",
      "Epoch 381/400\n",
      "94/94 [==============================] - 0s 2ms/step - loss: 9.8605e-04 - val_loss: 0.0100\n",
      "Epoch 382/400\n",
      "94/94 [==============================] - 0s 2ms/step - loss: 0.0010 - val_loss: 0.0100\n",
      "Epoch 383/400\n",
      "94/94 [==============================] - 0s 2ms/step - loss: 9.0742e-04 - val_loss: 0.0100\n",
      "Epoch 384/400\n",
      "94/94 [==============================] - 0s 2ms/step - loss: 9.3724e-04 - val_loss: 0.0101\n",
      "Epoch 385/400\n",
      "94/94 [==============================] - 0s 2ms/step - loss: 9.3108e-04 - val_loss: 0.0103\n",
      "Epoch 386/400\n",
      "94/94 [==============================] - 0s 2ms/step - loss: 0.0013 - val_loss: 0.0101\n",
      "Epoch 387/400\n",
      "94/94 [==============================] - 0s 2ms/step - loss: 0.0012 - val_loss: 0.0099\n",
      "Epoch 388/400\n",
      "94/94 [==============================] - 0s 2ms/step - loss: 9.2805e-04 - val_loss: 0.0099\n",
      "Epoch 389/400\n",
      "94/94 [==============================] - 0s 2ms/step - loss: 8.7841e-04 - val_loss: 0.0100\n",
      "Epoch 390/400\n",
      "94/94 [==============================] - 0s 2ms/step - loss: 8.8505e-04 - val_loss: 0.0101\n",
      "Epoch 391/400\n",
      "94/94 [==============================] - 0s 2ms/step - loss: 8.7025e-04 - val_loss: 0.0100\n",
      "Epoch 392/400\n",
      "94/94 [==============================] - 0s 2ms/step - loss: 0.0010 - val_loss: 0.0101\n",
      "Epoch 393/400\n",
      "94/94 [==============================] - 0s 2ms/step - loss: 9.0861e-04 - val_loss: 0.0101\n",
      "Epoch 394/400\n",
      "94/94 [==============================] - 0s 2ms/step - loss: 8.3162e-04 - val_loss: 0.0100\n",
      "Epoch 395/400\n",
      "94/94 [==============================] - 0s 2ms/step - loss: 8.3330e-04 - val_loss: 0.0101\n",
      "Epoch 396/400\n",
      "94/94 [==============================] - 0s 2ms/step - loss: 9.9978e-04 - val_loss: 0.0103\n",
      "Epoch 397/400\n",
      "94/94 [==============================] - 0s 2ms/step - loss: 0.0010 - val_loss: 0.0100\n",
      "Epoch 398/400\n",
      "94/94 [==============================] - 0s 2ms/step - loss: 9.2503e-04 - val_loss: 0.0101\n",
      "Epoch 399/400\n",
      "94/94 [==============================] - 0s 2ms/step - loss: 9.2079e-04 - val_loss: 0.0106\n",
      "Epoch 400/400\n",
      "94/94 [==============================] - 0s 2ms/step - loss: 0.0010 - val_loss: 0.0100\n"
     ]
    },
    {
     "data": {
      "text/plain": [
       "<tensorflow.python.keras.callbacks.History at 0x243e0a00730>"
      ]
     },
     "execution_count": 70,
     "metadata": {},
     "output_type": "execute_result"
    }
   ],
   "source": [
    "model.fit(x=X_train, \n",
    "          y=y_train, \n",
    "          epochs=400,\n",
    "          batch_size=128,\n",
    "          validation_data=(X_test, y_test), \n",
    "          )"
   ]
  },
  {
   "cell_type": "markdown",
   "metadata": {},
   "source": [
    "PLotting the model losses "
   ]
  },
  {
   "cell_type": "code",
   "execution_count": 71,
   "metadata": {
    "scrolled": true
   },
   "outputs": [
    {
     "data": {
      "text/plain": [
       "<AxesSubplot:>"
      ]
     },
     "execution_count": 71,
     "metadata": {},
     "output_type": "execute_result"
    },
    {
     "data": {
      "image/png": "[encoded data removed]",
      "text/plain": [
       "<Figure size 432x288 with 1 Axes>"
      ]
     },
     "metadata": {
      "needs_background": "light"
     },
     "output_type": "display_data"
    }
   ],
   "source": [
    "losses=pd.DataFrame(model.history.history)\n",
    "losses.plot()"
   ]
  },
  {
   "cell_type": "raw",
   "metadata": {},
   "source": [
    "Its a good model as losses were minimized in both validation and training set"
   ]
  },
  {
   "cell_type": "code",
   "execution_count": null,
   "metadata": {},
   "outputs": [],
   "source": []
  }
 ],
 "metadata": {
  "kernelspec": {
   "display_name": "Python 3",
   "language": "python",
   "name": "python3"
  },
  "language_info": {
   "codemirror_mode": {
    "name": "ipython",
    "version": 3
   },
   "file_extension": ".py",
   "mimetype": "text/x-python",
   "name": "python",
   "nbconvert_exporter": "python",
   "pygments_lexer": "ipython3",
   "version": "3.7.6"
  }
 },
 "nbformat": 4,
 "nbformat_minor": 4
}
